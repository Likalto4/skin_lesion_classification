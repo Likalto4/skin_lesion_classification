{
 "cells": [
  {
   "cell_type": "markdown",
   "metadata": {},
   "source": [
    "# Libraries"
   ]
  },
  {
   "cell_type": "code",
   "execution_count": 1,
   "metadata": {},
   "outputs": [],
   "source": [
    "import os, os.path\n",
    "import numpy as np\n",
    "from pathlib import Path\n",
    "\n",
    "import pandas as pd"
   ]
  },
  {
   "cell_type": "code",
   "execution_count": 3,
   "metadata": {},
   "outputs": [
    {
     "name": "stdout",
     "output_type": "stream",
     "text": [
      "/home/ricardino/Documents/MAIA/tercer_semestre/CAD/Projecte/Machine Learning/notebooks\n"
     ]
    }
   ],
   "source": [
    "notebooks_path = Path.cwd().parent\n",
    "repo_path = notebooks_path.parent\n",
    "os.chdir(str(notebooks_path))\n",
    "#print current working directory\n",
    "print(os.getcwd())"
   ]
  },
  {
   "cell_type": "markdown",
   "metadata": {},
   "source": [
    "# Functions"
   ]
  },
  {
   "cell_type": "markdown",
   "metadata": {},
   "source": [
    "## Retrive paths"
   ]
  },
  {
   "cell_type": "code",
   "execution_count": 11,
   "metadata": {},
   "outputs": [],
   "source": [
    "classif = 'binary'\n",
    "set_name = 'train'\n",
    "class_name = 'nevus'"
   ]
  },
  {
   "cell_type": "code",
   "execution_count": 15,
   "metadata": {},
   "outputs": [
    {
     "name": "stdout",
     "output_type": "stream",
     "text": [
      "[]\n"
     ]
    }
   ],
   "source": [
    "folder_path = str(repo_path) + f'/images/{classif}/{set_name}/{class_name}'\n",
    "p = Path(folder_path).relative_to(str(repo_path)).glob('**/*')\n",
    "files = [x for x in p if x.is_file()]\n",
    "print(files)"
   ]
  },
  {
   "cell_type": "code",
   "execution_count": 6,
   "metadata": {},
   "outputs": [],
   "source": [
    "def get_paths(classif, set_name, class_name):\n",
    "    \"\"\"This function extracts the paths of all files in a folder, given the classifiation problem (binary, 3-class), the set name (train-val-test), and the class name\n",
    "    (endpoint) of the diagnosis.\n",
    "    It returns a list with all the paths in string.\n",
    "\n",
    "    Args:\n",
    "        classif (str): binary or 3-class\n",
    "        set_name (str): train, val or test\n",
    "        class_name (str): lesions name (nevus, etc.)\n",
    "    \"\"\"\n",
    "    #path of the folder to check   \n",
    "    folder_path = str(repo_path) + f'/images/{classif}/{set_name}/{class_name}'\n",
    "    p = Path(folder_path).relative_to(str(repo_path)).glob('**/*')\n",
    "    files = [x for x in p if x.is_file()]\n",
    "    p = Path(folder_path).relative_to(str(repo_path)).glob('**/*')\n",
    "    classes = [str(x.name)[:3] for x in p if x.is_file()]\n",
    "    \n",
    "    return files, classes\n",
    "\n",
    "\n",
    "def info_dataframe(classif, set_name, class_name):\n",
    "    \"\"\"Returns df with Path, classification, set and class information\n",
    "\n",
    "    Args:\n",
    "        classif (_type_): _description_\n",
    "        set_name (_type_): _description_\n",
    "        class_name (_type_): _description_\n",
    "\n",
    "    Returns:\n",
    "        _type_: _description_\n",
    "    \"\"\"\n",
    "    df = pd.DataFrame() #Save paths in df\n",
    "    paths_list, classes = get_paths(classif, set_name, class_name) #Estract paths and classes\n",
    "    paths = pd.DataFrame({ #save in frame\n",
    "        'path': paths_list, \n",
    "        'class': classes\n",
    "    })\n",
    "    paths = paths.sort_values('path') #Sort paths by alphabetic order\n",
    "    df = pd.concat([df,paths], ignore_index=True) #Concatenate with previous info\n",
    "    df['classif'] = f'{classif}'\n",
    "    df['set'] = f'{set_name}'\n",
    "    \n",
    "    #Assigning label\n",
    "    if classif=='binary':\n",
    "        df.loc[df['class'] =='nev', 'label'] = 1\n",
    "        df.loc[df['class'] !='nev', 'label'] = 0\n",
    "    if classif=='3_classes':\n",
    "        df.loc[df['class'] =='bcc', 'label'] = 0\n",
    "        df.loc[df['class'] =='mel', 'label'] = 1\n",
    "        df.loc[df['class'] =='scc', 'label'] = 2\n",
    "        \n",
    "    \n",
    "    return df"
   ]
  },
  {
   "cell_type": "markdown",
   "metadata": {},
   "source": [
    "# 1. Getting Metadata"
   ]
  },
  {
   "cell_type": "code",
   "execution_count": 7,
   "metadata": {},
   "outputs": [
    {
     "ename": "ValueError",
     "evalue": "cannot set a frame with no defined index and a scalar",
     "output_type": "error",
     "traceback": [
      "\u001b[0;31m---------------------------------------------------------------------------\u001b[0m",
      "\u001b[0;31mValueError\u001b[0m                                Traceback (most recent call last)",
      "\u001b[1;32m/home/ricardino/Documents/MAIA/tercer_semestre/CAD/Projecte/Machine Learning/notebooks/Initials/Getting_initials.ipynb Cell 8\u001b[0m in \u001b[0;36m<cell line: 6>\u001b[0;34m()\u001b[0m\n\u001b[1;32m     <a href='vscode-notebook-cell:/home/ricardino/Documents/MAIA/tercer_semestre/CAD/Projecte/Machine%20Learning/notebooks/Initials/Getting_initials.ipynb#X11sZmlsZQ%3D%3D?line=10'>11</a>\u001b[0m             class_list \u001b[39m=\u001b[39m [\u001b[39m'\u001b[39m\u001b[39mbcc\u001b[39m\u001b[39m'\u001b[39m, \u001b[39m'\u001b[39m\u001b[39mmel\u001b[39m\u001b[39m'\u001b[39m, \u001b[39m'\u001b[39m\u001b[39mscc\u001b[39m\u001b[39m'\u001b[39m]\n\u001b[1;32m     <a href='vscode-notebook-cell:/home/ricardino/Documents/MAIA/tercer_semestre/CAD/Projecte/Machine%20Learning/notebooks/Initials/Getting_initials.ipynb#X11sZmlsZQ%3D%3D?line=11'>12</a>\u001b[0m         \u001b[39mfor\u001b[39;00m class_name \u001b[39min\u001b[39;00m class_list:\n\u001b[0;32m---> <a href='vscode-notebook-cell:/home/ricardino/Documents/MAIA/tercer_semestre/CAD/Projecte/Machine%20Learning/notebooks/Initials/Getting_initials.ipynb#X11sZmlsZQ%3D%3D?line=13'>14</a>\u001b[0m             currentInfo \u001b[39m=\u001b[39m info_dataframe(classif, set_name, class_name)\n\u001b[1;32m     <a href='vscode-notebook-cell:/home/ricardino/Documents/MAIA/tercer_semestre/CAD/Projecte/Machine%20Learning/notebooks/Initials/Getting_initials.ipynb#X11sZmlsZQ%3D%3D?line=14'>15</a>\u001b[0m             allInfo_df \u001b[39m=\u001b[39m pd\u001b[39m.\u001b[39mconcat([allInfo_df,currentInfo], ignore_index\u001b[39m=\u001b[39m\u001b[39mTrue\u001b[39;00m)\n\u001b[1;32m     <a href='vscode-notebook-cell:/home/ricardino/Documents/MAIA/tercer_semestre/CAD/Projecte/Machine%20Learning/notebooks/Initials/Getting_initials.ipynb#X11sZmlsZQ%3D%3D?line=16'>17</a>\u001b[0m allInfo_df[\u001b[39m'\u001b[39m\u001b[39mID\u001b[39m\u001b[39m'\u001b[39m] \u001b[39m=\u001b[39m allInfo_df\u001b[39m.\u001b[39mindex\n",
      "\u001b[1;32m/home/ricardino/Documents/MAIA/tercer_semestre/CAD/Projecte/Machine Learning/notebooks/Initials/Getting_initials.ipynb Cell 8\u001b[0m in \u001b[0;36minfo_dataframe\u001b[0;34m(classif, set_name, class_name)\u001b[0m\n\u001b[1;32m     <a href='vscode-notebook-cell:/home/ricardino/Documents/MAIA/tercer_semestre/CAD/Projecte/Machine%20Learning/notebooks/Initials/Getting_initials.ipynb#X11sZmlsZQ%3D%3D?line=42'>43</a>\u001b[0m \u001b[39m#Assigning label\u001b[39;00m\n\u001b[1;32m     <a href='vscode-notebook-cell:/home/ricardino/Documents/MAIA/tercer_semestre/CAD/Projecte/Machine%20Learning/notebooks/Initials/Getting_initials.ipynb#X11sZmlsZQ%3D%3D?line=43'>44</a>\u001b[0m \u001b[39mif\u001b[39;00m classif\u001b[39m==\u001b[39m\u001b[39m'\u001b[39m\u001b[39mbinary\u001b[39m\u001b[39m'\u001b[39m:\n\u001b[0;32m---> <a href='vscode-notebook-cell:/home/ricardino/Documents/MAIA/tercer_semestre/CAD/Projecte/Machine%20Learning/notebooks/Initials/Getting_initials.ipynb#X11sZmlsZQ%3D%3D?line=44'>45</a>\u001b[0m     df\u001b[39m.\u001b[39mloc[df[\u001b[39m'\u001b[39m\u001b[39mclass\u001b[39m\u001b[39m'\u001b[39m] \u001b[39m==\u001b[39m\u001b[39m'\u001b[39m\u001b[39mnev\u001b[39m\u001b[39m'\u001b[39m, \u001b[39m'\u001b[39m\u001b[39mlabel\u001b[39m\u001b[39m'\u001b[39m] \u001b[39m=\u001b[39m \u001b[39m1\u001b[39m\n\u001b[1;32m     <a href='vscode-notebook-cell:/home/ricardino/Documents/MAIA/tercer_semestre/CAD/Projecte/Machine%20Learning/notebooks/Initials/Getting_initials.ipynb#X11sZmlsZQ%3D%3D?line=45'>46</a>\u001b[0m     df\u001b[39m.\u001b[39mloc[df[\u001b[39m'\u001b[39m\u001b[39mclass\u001b[39m\u001b[39m'\u001b[39m] \u001b[39m!=\u001b[39m\u001b[39m'\u001b[39m\u001b[39mnev\u001b[39m\u001b[39m'\u001b[39m, \u001b[39m'\u001b[39m\u001b[39mlabel\u001b[39m\u001b[39m'\u001b[39m] \u001b[39m=\u001b[39m \u001b[39m0\u001b[39m\n\u001b[1;32m     <a href='vscode-notebook-cell:/home/ricardino/Documents/MAIA/tercer_semestre/CAD/Projecte/Machine%20Learning/notebooks/Initials/Getting_initials.ipynb#X11sZmlsZQ%3D%3D?line=46'>47</a>\u001b[0m \u001b[39mif\u001b[39;00m classif\u001b[39m==\u001b[39m\u001b[39m'\u001b[39m\u001b[39m3_classes\u001b[39m\u001b[39m'\u001b[39m:\n",
      "File \u001b[0;32m~/anaconda3/lib/python3.9/site-packages/pandas/core/indexing.py:716\u001b[0m, in \u001b[0;36m_LocationIndexer.__setitem__\u001b[0;34m(self, key, value)\u001b[0m\n\u001b[1;32m    713\u001b[0m \u001b[39mself\u001b[39m\u001b[39m.\u001b[39m_has_valid_setitem_indexer(key)\n\u001b[1;32m    715\u001b[0m iloc \u001b[39m=\u001b[39m \u001b[39mself\u001b[39m \u001b[39mif\u001b[39;00m \u001b[39mself\u001b[39m\u001b[39m.\u001b[39mname \u001b[39m==\u001b[39m \u001b[39m\"\u001b[39m\u001b[39miloc\u001b[39m\u001b[39m\"\u001b[39m \u001b[39melse\u001b[39;00m \u001b[39mself\u001b[39m\u001b[39m.\u001b[39mobj\u001b[39m.\u001b[39miloc\n\u001b[0;32m--> 716\u001b[0m iloc\u001b[39m.\u001b[39;49m_setitem_with_indexer(indexer, value, \u001b[39mself\u001b[39;49m\u001b[39m.\u001b[39;49mname)\n",
      "File \u001b[0;32m~/anaconda3/lib/python3.9/site-packages/pandas/core/indexing.py:1615\u001b[0m, in \u001b[0;36m_iLocIndexer._setitem_with_indexer\u001b[0;34m(self, indexer, value, name)\u001b[0m\n\u001b[1;32m   1613\u001b[0m \u001b[39mif\u001b[39;00m \u001b[39mnot\u001b[39;00m \u001b[39mlen\u001b[39m(\u001b[39mself\u001b[39m\u001b[39m.\u001b[39mobj):\n\u001b[1;32m   1614\u001b[0m     \u001b[39mif\u001b[39;00m \u001b[39mnot\u001b[39;00m is_list_like_indexer(value):\n\u001b[0;32m-> 1615\u001b[0m         \u001b[39mraise\u001b[39;00m \u001b[39mValueError\u001b[39;00m(\n\u001b[1;32m   1616\u001b[0m             \u001b[39m\"\u001b[39m\u001b[39mcannot set a frame with no \u001b[39m\u001b[39m\"\u001b[39m\n\u001b[1;32m   1617\u001b[0m             \u001b[39m\"\u001b[39m\u001b[39mdefined index and a scalar\u001b[39m\u001b[39m\"\u001b[39m\n\u001b[1;32m   1618\u001b[0m         )\n\u001b[1;32m   1619\u001b[0m     \u001b[39mself\u001b[39m\u001b[39m.\u001b[39mobj[key] \u001b[39m=\u001b[39m value\n\u001b[1;32m   1620\u001b[0m     \u001b[39mreturn\u001b[39;00m\n",
      "\u001b[0;31mValueError\u001b[0m: cannot set a frame with no defined index and a scalar"
     ]
    }
   ],
   "source": [
    "#Set classification task\n",
    "classif_list = ['binary','3_classes']\n",
    "set_list = ['train','val']\n",
    "\n",
    "allInfo_df = pd.DataFrame() #Empty dataframe\n",
    "for classif in classif_list:    \n",
    "    for set_name in set_list:\n",
    "        if classif=='binary':\n",
    "            class_list = ['nevus', 'others']\n",
    "        else:\n",
    "            class_list = ['bcc', 'mel', 'scc']\n",
    "        for class_name in class_list:\n",
    "\n",
    "            currentInfo = info_dataframe(classif, set_name, class_name)\n",
    "            allInfo_df = pd.concat([allInfo_df,currentInfo], ignore_index=True)\n",
    "\n",
    "allInfo_df['ID'] = allInfo_df.index\n",
    "# allInfo_df.to_csv('data/meta_info.csv', sep='\\t', index=False)"
   ]
  },
  {
   "cell_type": "markdown",
   "metadata": {},
   "source": [
    "# Creating class to manipulate metadata"
   ]
  },
  {
   "cell_type": "code",
   "execution_count": 249,
   "metadata": {},
   "outputs": [],
   "source": [
    "class path_label():\n",
    "    def __init__(self, meta, classif, set_name) -> None:\n",
    "        meta = meta.loc[meta['classif'] == classif] #Filter by classif\n",
    "        meta = meta.loc[meta['set'] == set_name] #Filter by set\n",
    "        self.paths = list(meta.path)\n",
    "        self. labels = np.array(meta.label)"
   ]
  }
 ],
 "metadata": {
  "kernelspec": {
   "display_name": "Python 3.9.12 ('base')",
   "language": "python",
   "name": "python3"
  },
  "language_info": {
   "codemirror_mode": {
    "name": "ipython",
    "version": 3
   },
   "file_extension": ".py",
   "mimetype": "text/x-python",
   "name": "python",
   "nbconvert_exporter": "python",
   "pygments_lexer": "ipython3",
   "version": "3.9.12"
  },
  "orig_nbformat": 4,
  "vscode": {
   "interpreter": {
    "hash": "1c1f01218bbaf8a302f18173488403fcc9591627716b9a07a59bd925307e4c23"
   }
  }
 },
 "nbformat": 4,
 "nbformat_minor": 2
}
