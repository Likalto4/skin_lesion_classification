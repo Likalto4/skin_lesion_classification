{
 "cells": [
  {
   "cell_type": "markdown",
   "metadata": {},
   "source": [
    "# Libraries"
   ]
  },
  {
   "cell_type": "code",
   "execution_count": 1,
   "metadata": {},
   "outputs": [],
   "source": [
    "import os, os.path\n",
    "import numpy as np\n",
    "from pathlib import Path\n",
    "\n",
    "import pandas as pd"
   ]
  },
  {
   "cell_type": "code",
   "execution_count": 2,
   "metadata": {},
   "outputs": [
    {
     "name": "stdout",
     "output_type": "stream",
     "text": [
      "/home/ricardino/Documents/MAIA/tercer_semestre/CAD/Projecte/Machine_Learning/notebooks\n"
     ]
    }
   ],
   "source": [
    "notebooks_path = Path.cwd().parent\n",
    "repo_path = notebooks_path.parent\n",
    "os.chdir(str(notebooks_path))\n",
    "#print current working directory\n",
    "print(os.getcwd())"
   ]
  },
  {
   "cell_type": "markdown",
   "metadata": {},
   "source": [
    "# Functions"
   ]
  },
  {
   "cell_type": "markdown",
   "metadata": {},
   "source": [
    "## Retrive paths"
   ]
  },
  {
   "cell_type": "code",
   "execution_count": 12,
   "metadata": {},
   "outputs": [],
   "source": [
    "def get_test_paths(classif):\n",
    "    \"\"\"paths and id number for test data\n",
    "\n",
    "    Args:\n",
    "        classif (str): binary or 3_classes\n",
    "\n",
    "    Returns:\n",
    "        files and num: list of paths and list of id numbers\n",
    "    \"\"\"\n",
    "    folder_path = str(repo_path) + f'/images/{classif}/test'\n",
    "    p = Path(folder_path).glob('**/*')\n",
    "    files = [x.relative_to(repo_path) for x in p if x.is_file()]\n",
    "    p = Path(folder_path).glob('**/*')\n",
    "    num = [str(x.name).replace('.jpg','').replace('xx','').replace('x','') for x in p if x.is_file()]\n",
    "    \n",
    "    return files, num\n",
    "    "
   ]
  },
  {
   "cell_type": "code",
   "execution_count": 18,
   "metadata": {},
   "outputs": [],
   "source": [
    "def get_paths(classif, set_name, class_name):\n",
    "    \"\"\"This function extracts the paths of all files in a folder, given the classifiation problem (binary, 3-class), the set name (train-val-test), and the class name\n",
    "    (endpoint) of the diagnosis.\n",
    "    It returns a list with all the paths in string.\n",
    "\n",
    "    Args:\n",
    "        classif (str): binary or 3-class\n",
    "        set_name (str): train, val or test\n",
    "        class_name (str): lesions name (nevus, etc.)\n",
    "    \"\"\"\n",
    "    #path of the folder to check   \n",
    "    folder_path = str(repo_path) + f'/images/{classif}/{set_name}/{class_name}'\n",
    "    p = Path(folder_path).relative_to(str(repo_path)).glob('**/*')\n",
    "    files = [x for x in p if x.is_file()]\n",
    "    p = Path(folder_path).relative_to(str(repo_path)).glob('**/*')\n",
    "    classes = [str(x.name)[:3] for x in p if x.is_file()]\n",
    "    \n",
    "    return files, classes\n",
    "\n",
    "\n",
    "def info_dataframe(classif, set_name, class_name):\n",
    "    \"\"\"Returns df with Path, classification, set and class information\n",
    "\n",
    "    Args:\n",
    "        classif (_type_): _description_\n",
    "        set_name (_type_): _description_\n",
    "        class_name (_type_): _description_\n",
    "\n",
    "    Returns:\n",
    "        _type_: _description_\n",
    "    \"\"\"\n",
    "    df = pd.DataFrame() #Save paths in df\n",
    "    paths_list, classes = get_paths(classif, set_name, class_name) #Estract paths and classes\n",
    "    paths = pd.DataFrame({ #save in frame\n",
    "        'path': paths_list, \n",
    "        'class': classes\n",
    "    })\n",
    "    paths = paths.sort_values('path') #Sort paths by alphabetic order\n",
    "    df = pd.concat([df,paths], ignore_index=True) #Concatenate with previous info\n",
    "    df['classif'] = f'{classif}'\n",
    "    df['set'] = f'{set_name}'\n",
    "    \n",
    "    #Assigning label\n",
    "    if classif=='binary':\n",
    "        df.loc[df['class'] =='nev', 'label'] = 1\n",
    "        df.loc[df['class'] !='nev', 'label'] = 0\n",
    "    if classif=='3_classes':\n",
    "        df.loc[df['class'] =='bcc', 'label'] = 0\n",
    "        df.loc[df['class'] =='mel', 'label'] = 1\n",
    "        df.loc[df['class'] =='scc', 'label'] = 2\n",
    "        \n",
    "    \n",
    "    return df"
   ]
  },
  {
   "cell_type": "code",
   "execution_count": 15,
   "metadata": {},
   "outputs": [],
   "source": [
    "def info_dataframe_test(classif):\n",
    "\n",
    "    files, num = get_test_paths(classif)\n",
    "    df = pd.DataFrame() #Save paths in df\n",
    "    paths_list, num = get_test_paths(classif) #Estract paths and classes\n",
    "    paths = pd.DataFrame({ #save in frame\n",
    "        'path': paths_list, \n",
    "        'num': num\n",
    "    })\n",
    "    paths = paths.sort_values('path') #Sort paths by alphabetic order\n",
    "    df = pd.concat([df,paths], ignore_index=True) #Concatenate with previous info\n",
    "    df['classif'] = f'{classif}'\n",
    "    df['set'] = f'test'\n",
    "    df['label'] = 'unknown'\n",
    "    \n",
    "    return df"
   ]
  },
  {
   "cell_type": "code",
   "execution_count": 16,
   "metadata": {},
   "outputs": [
    {
     "data": {
      "text/html": [
       "<div>\n",
       "<style scoped>\n",
       "    .dataframe tbody tr th:only-of-type {\n",
       "        vertical-align: middle;\n",
       "    }\n",
       "\n",
       "    .dataframe tbody tr th {\n",
       "        vertical-align: top;\n",
       "    }\n",
       "\n",
       "    .dataframe thead th {\n",
       "        text-align: right;\n",
       "    }\n",
       "</style>\n",
       "<table border=\"1\" class=\"dataframe\">\n",
       "  <thead>\n",
       "    <tr style=\"text-align: right;\">\n",
       "      <th></th>\n",
       "      <th>path</th>\n",
       "      <th>num</th>\n",
       "      <th>classif</th>\n",
       "      <th>set</th>\n",
       "      <th>label</th>\n",
       "      <th>ID</th>\n",
       "    </tr>\n",
       "  </thead>\n",
       "  <tbody>\n",
       "    <tr>\n",
       "      <th>0</th>\n",
       "      <td>images/binary/test/xx0001.jpg</td>\n",
       "      <td>0001</td>\n",
       "      <td>binary</td>\n",
       "      <td>test</td>\n",
       "      <td>unknown</td>\n",
       "      <td>0</td>\n",
       "    </tr>\n",
       "    <tr>\n",
       "      <th>1</th>\n",
       "      <td>images/binary/test/xx0002.jpg</td>\n",
       "      <td>0002</td>\n",
       "      <td>binary</td>\n",
       "      <td>test</td>\n",
       "      <td>unknown</td>\n",
       "      <td>1</td>\n",
       "    </tr>\n",
       "    <tr>\n",
       "      <th>2</th>\n",
       "      <td>images/binary/test/xx0003.jpg</td>\n",
       "      <td>0003</td>\n",
       "      <td>binary</td>\n",
       "      <td>test</td>\n",
       "      <td>unknown</td>\n",
       "      <td>2</td>\n",
       "    </tr>\n",
       "    <tr>\n",
       "      <th>3</th>\n",
       "      <td>images/binary/test/xx0004.jpg</td>\n",
       "      <td>0004</td>\n",
       "      <td>binary</td>\n",
       "      <td>test</td>\n",
       "      <td>unknown</td>\n",
       "      <td>3</td>\n",
       "    </tr>\n",
       "    <tr>\n",
       "      <th>4</th>\n",
       "      <td>images/binary/test/xx0005.jpg</td>\n",
       "      <td>0005</td>\n",
       "      <td>binary</td>\n",
       "      <td>test</td>\n",
       "      <td>unknown</td>\n",
       "      <td>4</td>\n",
       "    </tr>\n",
       "    <tr>\n",
       "      <th>...</th>\n",
       "      <td>...</td>\n",
       "      <td>...</td>\n",
       "      <td>...</td>\n",
       "      <td>...</td>\n",
       "      <td>...</td>\n",
       "      <td>...</td>\n",
       "    </tr>\n",
       "    <tr>\n",
       "      <th>1236</th>\n",
       "      <td>images/3_classes/test/xxx0222.jpg</td>\n",
       "      <td>0222</td>\n",
       "      <td>3_classes</td>\n",
       "      <td>test</td>\n",
       "      <td>unknown</td>\n",
       "      <td>1236</td>\n",
       "    </tr>\n",
       "    <tr>\n",
       "      <th>1237</th>\n",
       "      <td>images/3_classes/test/xxx0223.jpg</td>\n",
       "      <td>0223</td>\n",
       "      <td>3_classes</td>\n",
       "      <td>test</td>\n",
       "      <td>unknown</td>\n",
       "      <td>1237</td>\n",
       "    </tr>\n",
       "    <tr>\n",
       "      <th>1238</th>\n",
       "      <td>images/3_classes/test/xxx0224.jpg</td>\n",
       "      <td>0224</td>\n",
       "      <td>3_classes</td>\n",
       "      <td>test</td>\n",
       "      <td>unknown</td>\n",
       "      <td>1238</td>\n",
       "    </tr>\n",
       "    <tr>\n",
       "      <th>1239</th>\n",
       "      <td>images/3_classes/test/xxx0225.jpg</td>\n",
       "      <td>0225</td>\n",
       "      <td>3_classes</td>\n",
       "      <td>test</td>\n",
       "      <td>unknown</td>\n",
       "      <td>1239</td>\n",
       "    </tr>\n",
       "    <tr>\n",
       "      <th>1240</th>\n",
       "      <td>images/3_classes/test/xxx0226.jpg</td>\n",
       "      <td>0226</td>\n",
       "      <td>3_classes</td>\n",
       "      <td>test</td>\n",
       "      <td>unknown</td>\n",
       "      <td>1240</td>\n",
       "    </tr>\n",
       "  </tbody>\n",
       "</table>\n",
       "<p>1241 rows × 6 columns</p>\n",
       "</div>"
      ],
      "text/plain": [
       "                                   path   num    classif   set    label    ID\n",
       "0         images/binary/test/xx0001.jpg  0001     binary  test  unknown     0\n",
       "1         images/binary/test/xx0002.jpg  0002     binary  test  unknown     1\n",
       "2         images/binary/test/xx0003.jpg  0003     binary  test  unknown     2\n",
       "3         images/binary/test/xx0004.jpg  0004     binary  test  unknown     3\n",
       "4         images/binary/test/xx0005.jpg  0005     binary  test  unknown     4\n",
       "...                                 ...   ...        ...   ...      ...   ...\n",
       "1236  images/3_classes/test/xxx0222.jpg  0222  3_classes  test  unknown  1236\n",
       "1237  images/3_classes/test/xxx0223.jpg  0223  3_classes  test  unknown  1237\n",
       "1238  images/3_classes/test/xxx0224.jpg  0224  3_classes  test  unknown  1238\n",
       "1239  images/3_classes/test/xxx0225.jpg  0225  3_classes  test  unknown  1239\n",
       "1240  images/3_classes/test/xxx0226.jpg  0226  3_classes  test  unknown  1240\n",
       "\n",
       "[1241 rows x 6 columns]"
      ]
     },
     "execution_count": 16,
     "metadata": {},
     "output_type": "execute_result"
    }
   ],
   "source": [
    "allInfo_df = pd.DataFrame() #Empty dataframef\n",
    "for classif in ['binary','3_classes']:\n",
    "        currentInfo = info_dataframe_test(classif)\n",
    "        allInfo_df = pd.concat([allInfo_df,currentInfo], ignore_index=True)\n",
    "        \n",
    "allInfo_df['ID'] = allInfo_df.index\n",
    "allInfo_df.to_csv(str(repo_path) + '/data/meta_test.csv', sep='\\t', index=False)\n",
    "allInfo_df\n"
   ]
  },
  {
   "cell_type": "markdown",
   "metadata": {},
   "source": [
    "# 1. Getting Metadata"
   ]
  },
  {
   "cell_type": "code",
   "execution_count": 21,
   "metadata": {},
   "outputs": [],
   "source": [
    "#Set classification task\n",
    "classif_list = ['binary','3_classes']\n",
    "set_list = ['train','val']\n",
    "\n",
    "allInfo_df = pd.DataFrame() #Empty dataframe\n",
    "for classif in classif_list:    \n",
    "    for set_name in set_list:\n",
    "        if classif=='binary':\n",
    "            class_list = ['nevus', 'others']\n",
    "        else:\n",
    "            class_list = ['bcc', 'mel', 'scc']\n",
    "        for class_name in class_list:\n",
    "\n",
    "            currentInfo = info_dataframe(classif, set_name, class_name)\n",
    "            allInfo_df = pd.concat([allInfo_df,currentInfo], ignore_index=True)\n",
    "\n",
    "allInfo_df['ID'] = allInfo_df.index\n",
    "# allInfo_df.to_csv('data/meta_info.csv', sep='\\t', index=False)"
   ]
  },
  {
   "cell_type": "markdown",
   "metadata": {},
   "source": [
    "# 2. Add NH paths"
   ]
  },
  {
   "cell_type": "code",
   "execution_count": 13,
   "metadata": {},
   "outputs": [],
   "source": [
    "# #Add NH apths to meta csv file as a new column\n",
    "# meta = pd.read_csv(str(repo_path) + '/data/meta_info.csv', sep='\\t') #For labels\n",
    "# meta['NH_path'] = [x.replace('images','images_NH') for x in meta.path.values]\n",
    "# #save meta file as csv\n",
    "# meta.to_csv(str(repo_path) + '/data/meta_info.csv', sep='\\t', index=False)"
   ]
  },
  {
   "cell_type": "markdown",
   "metadata": {},
   "source": [
    "# Creating class to manipulate metadata"
   ]
  },
  {
   "cell_type": "code",
   "execution_count": 249,
   "metadata": {},
   "outputs": [],
   "source": [
    "class path_label():\n",
    "    def __init__(self, meta, classif, set_name) -> None:\n",
    "        meta = meta.loc[meta['classif'] == classif] #Filter by classif\n",
    "        meta = meta.loc[meta['set'] == set_name] #Filter by set\n",
    "        self.paths = list(meta.path)\n",
    "        self. labels = np.array(meta.label)"
   ]
  }
 ],
 "metadata": {
  "kernelspec": {
   "display_name": "Python 3.9.12 ('base')",
   "language": "python",
   "name": "python3"
  },
  "language_info": {
   "codemirror_mode": {
    "name": "ipython",
    "version": 3
   },
   "file_extension": ".py",
   "mimetype": "text/x-python",
   "name": "python",
   "nbconvert_exporter": "python",
   "pygments_lexer": "ipython3",
   "version": "3.9.12"
  },
  "orig_nbformat": 4,
  "vscode": {
   "interpreter": {
    "hash": "1c1f01218bbaf8a302f18173488403fcc9591627716b9a07a59bd925307e4c23"
   }
  }
 },
 "nbformat": 4,
 "nbformat_minor": 2
}
