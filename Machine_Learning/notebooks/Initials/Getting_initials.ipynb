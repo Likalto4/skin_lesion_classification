{
 "cells": [
  {
   "cell_type": "markdown",
   "metadata": {},
   "source": [
    "# Libraries"
   ]
  },
  {
   "cell_type": "code",
   "execution_count": 1,
   "metadata": {},
   "outputs": [],
   "source": [
    "import os, os.path\n",
    "import numpy as np\n",
    "from pathlib import Path\n",
    "import pandas as pd"
   ]
  },
  {
   "cell_type": "code",
   "execution_count": 15,
   "metadata": {},
   "outputs": [
    {
     "name": "stdout",
     "output_type": "stream",
     "text": [
      "/home/ricardino/Documents/MAIA/tercer_semestre/CAD/Projecte/Machine_Learning\n"
     ]
    }
   ],
   "source": [
    "subnotebooks_path = Path.cwd()\n",
    "notebooks_path = subnotebooks_path.parent\n",
    "repo_path = notebooks_path.parent\n",
    "#print current working directory\n",
    "print(repo_path)\n"
   ]
  },
  {
   "cell_type": "markdown",
   "metadata": {},
   "source": [
    "# Functions"
   ]
  },
  {
   "cell_type": "markdown",
   "metadata": {},
   "source": [
    "## Retrive paths"
   ]
  },
  {
   "cell_type": "code",
   "execution_count": 16,
   "metadata": {},
   "outputs": [],
   "source": [
    "def get_test_paths(classif):\n",
    "    \"\"\"paths and id number for test data\n",
    "\n",
    "    Args:\n",
    "        classif (str): binary or 3_classes\n",
    "\n",
    "    Returns:\n",
    "        files and num: list of paths and list of id numbers\n",
    "    \"\"\"\n",
    "    folder_path = str(repo_path) + f'/images/{classif}/test'\n",
    "    p = Path(folder_path).glob('**/*')\n",
    "    files = [x.relative_to(repo_path) for x in p if x.is_file()]\n",
    "    p = Path(folder_path).glob('**/*')\n",
    "    num = [str(x.name).replace('.jpg','').replace('xx','').replace('x','') for x in p if x.is_file()]\n",
    "    \n",
    "    return files, num\n",
    "    "
   ]
  },
  {
   "cell_type": "code",
   "execution_count": 17,
   "metadata": {},
   "outputs": [],
   "source": [
    "def get_paths(classif, set_name, class_name):\n",
    "    \"\"\"This function extracts the paths of all files in a folder, given the classifiation problem (binary, 3-class), the set name (train-val-test), and the class name\n",
    "    (endpoint) of the diagnosis.\n",
    "    It returns a list with all the paths in string.\n",
    "\n",
    "    Args:\n",
    "        classif (str): binary or 3-class\n",
    "        set_name (str): train, val or test\n",
    "        class_name (str): lesions name (nevus, etc.)\n",
    "    \"\"\"\n",
    "    #path of the folder to check   \n",
    "    folder_path = str(repo_path) + f'/images/{classif}/{set_name}/{class_name}'\n",
    "    p = Path(folder_path).relative_to(str(repo_path)).glob('**/*')\n",
    "    files = [x for x in p if x.is_file()]\n",
    "    p = Path(folder_path).relative_to(str(repo_path)).glob('**/*')\n",
    "    classes = [str(x.name)[:3] for x in p if x.is_file()]\n",
    "    \n",
    "    return files, classes\n",
    "\n",
    "\n",
    "def info_dataframe(classif, set_name, class_name):\n",
    "    \"\"\"Returns df with Path, classification, set and class information\n",
    "\n",
    "    Args:\n",
    "        classif (_type_): _description_\n",
    "        set_name (_type_): _description_\n",
    "        class_name (_type_): _description_\n",
    "\n",
    "    Returns:\n",
    "        _type_: _description_\n",
    "    \"\"\"\n",
    "    df = pd.DataFrame() #Save paths in df\n",
    "    paths_list, classes = get_paths(classif, set_name, class_name) #Estract paths and classes\n",
    "    paths = pd.DataFrame({ #save in frame\n",
    "        'path': paths_list, \n",
    "        'class': classes\n",
    "    })\n",
    "    paths = paths.sort_values('path') #Sort paths by alphabetic order\n",
    "    df = pd.concat([df,paths], ignore_index=True) #Concatenate with previous info\n",
    "    df['classif'] = f'{classif}'\n",
    "    df['set'] = f'{set_name}'\n",
    "    \n",
    "    #Assigning label\n",
    "    if classif=='binary':\n",
    "        df.loc[df['class'] =='nev', 'label'] = 1\n",
    "        df.loc[df['class'] !='nev', 'label'] = 0\n",
    "    if classif=='3_classes':\n",
    "        df.loc[df['class'] =='bcc', 'label'] = 0\n",
    "        df.loc[df['class'] =='mel', 'label'] = 1\n",
    "        df.loc[df['class'] =='scc', 'label'] = 2\n",
    "        \n",
    "    \n",
    "    return df"
   ]
  },
  {
   "cell_type": "code",
   "execution_count": 18,
   "metadata": {},
   "outputs": [],
   "source": [
    "def info_dataframe_test(classif):\n",
    "\n",
    "    files, num = get_test_paths(classif)\n",
    "    df = pd.DataFrame() #Save paths in df\n",
    "    paths_list, num = get_test_paths(classif) #Estract paths and classes\n",
    "    paths = pd.DataFrame({ #save in frame\n",
    "        'path': paths_list, \n",
    "        'num': num\n",
    "    })\n",
    "    paths = paths.sort_values('path') #Sort paths by alphabetic order\n",
    "    df = pd.concat([df,paths], ignore_index=True) #Concatenate with previous info\n",
    "    df['classif'] = f'{classif}'\n",
    "    df['set'] = f'test'\n",
    "    df['label'] = 'unknown'\n",
    "    \n",
    "    return df"
   ]
  },
  {
   "cell_type": "markdown",
   "metadata": {},
   "source": [
    "# 1. Getting Metadata"
   ]
  },
  {
   "cell_type": "markdown",
   "metadata": {},
   "source": [
    "## Test"
   ]
  },
  {
   "cell_type": "code",
   "execution_count": 19,
   "metadata": {},
   "outputs": [
    {
     "data": {
      "text/html": [
       "<div>\n",
       "<style scoped>\n",
       "    .dataframe tbody tr th:only-of-type {\n",
       "        vertical-align: middle;\n",
       "    }\n",
       "\n",
       "    .dataframe tbody tr th {\n",
       "        vertical-align: top;\n",
       "    }\n",
       "\n",
       "    .dataframe thead th {\n",
       "        text-align: right;\n",
       "    }\n",
       "</style>\n",
       "<table border=\"1\" class=\"dataframe\">\n",
       "  <thead>\n",
       "    <tr style=\"text-align: right;\">\n",
       "      <th></th>\n",
       "      <th>path</th>\n",
       "      <th>num</th>\n",
       "      <th>classif</th>\n",
       "      <th>set</th>\n",
       "      <th>label</th>\n",
       "      <th>ID</th>\n",
       "    </tr>\n",
       "  </thead>\n",
       "  <tbody>\n",
       "    <tr>\n",
       "      <th>0</th>\n",
       "      <td>images/binary/test/xxx00001.jpg</td>\n",
       "      <td>00001</td>\n",
       "      <td>binary</td>\n",
       "      <td>test</td>\n",
       "      <td>unknown</td>\n",
       "      <td>0</td>\n",
       "    </tr>\n",
       "    <tr>\n",
       "      <th>1</th>\n",
       "      <td>images/binary/test/xxx00002.jpg</td>\n",
       "      <td>00002</td>\n",
       "      <td>binary</td>\n",
       "      <td>test</td>\n",
       "      <td>unknown</td>\n",
       "      <td>1</td>\n",
       "    </tr>\n",
       "    <tr>\n",
       "      <th>2</th>\n",
       "      <td>images/binary/test/xxx00003.jpg</td>\n",
       "      <td>00003</td>\n",
       "      <td>binary</td>\n",
       "      <td>test</td>\n",
       "      <td>unknown</td>\n",
       "      <td>2</td>\n",
       "    </tr>\n",
       "    <tr>\n",
       "      <th>3</th>\n",
       "      <td>images/binary/test/xxx00004.jpg</td>\n",
       "      <td>00004</td>\n",
       "      <td>binary</td>\n",
       "      <td>test</td>\n",
       "      <td>unknown</td>\n",
       "      <td>3</td>\n",
       "    </tr>\n",
       "    <tr>\n",
       "      <th>4</th>\n",
       "      <td>images/binary/test/xxx00005.jpg</td>\n",
       "      <td>00005</td>\n",
       "      <td>binary</td>\n",
       "      <td>test</td>\n",
       "      <td>unknown</td>\n",
       "      <td>4</td>\n",
       "    </tr>\n",
       "    <tr>\n",
       "      <th>...</th>\n",
       "      <td>...</td>\n",
       "      <td>...</td>\n",
       "      <td>...</td>\n",
       "      <td>...</td>\n",
       "      <td>...</td>\n",
       "      <td>...</td>\n",
       "    </tr>\n",
       "    <tr>\n",
       "      <th>8456</th>\n",
       "      <td>images/3_classes/test/xxx02117.jpg</td>\n",
       "      <td>02117</td>\n",
       "      <td>3_classes</td>\n",
       "      <td>test</td>\n",
       "      <td>unknown</td>\n",
       "      <td>8456</td>\n",
       "    </tr>\n",
       "    <tr>\n",
       "      <th>8457</th>\n",
       "      <td>images/3_classes/test/xxx02118.jpg</td>\n",
       "      <td>02118</td>\n",
       "      <td>3_classes</td>\n",
       "      <td>test</td>\n",
       "      <td>unknown</td>\n",
       "      <td>8457</td>\n",
       "    </tr>\n",
       "    <tr>\n",
       "      <th>8458</th>\n",
       "      <td>images/3_classes/test/xxx02119.jpg</td>\n",
       "      <td>02119</td>\n",
       "      <td>3_classes</td>\n",
       "      <td>test</td>\n",
       "      <td>unknown</td>\n",
       "      <td>8458</td>\n",
       "    </tr>\n",
       "    <tr>\n",
       "      <th>8459</th>\n",
       "      <td>images/3_classes/test/xxx02120.jpg</td>\n",
       "      <td>02120</td>\n",
       "      <td>3_classes</td>\n",
       "      <td>test</td>\n",
       "      <td>unknown</td>\n",
       "      <td>8459</td>\n",
       "    </tr>\n",
       "    <tr>\n",
       "      <th>8460</th>\n",
       "      <td>images/3_classes/test/xxx02121.jpg</td>\n",
       "      <td>02121</td>\n",
       "      <td>3_classes</td>\n",
       "      <td>test</td>\n",
       "      <td>unknown</td>\n",
       "      <td>8460</td>\n",
       "    </tr>\n",
       "  </tbody>\n",
       "</table>\n",
       "<p>8461 rows × 6 columns</p>\n",
       "</div>"
      ],
      "text/plain": [
       "                                    path    num    classif   set    label  \\\n",
       "0        images/binary/test/xxx00001.jpg  00001     binary  test  unknown   \n",
       "1        images/binary/test/xxx00002.jpg  00002     binary  test  unknown   \n",
       "2        images/binary/test/xxx00003.jpg  00003     binary  test  unknown   \n",
       "3        images/binary/test/xxx00004.jpg  00004     binary  test  unknown   \n",
       "4        images/binary/test/xxx00005.jpg  00005     binary  test  unknown   \n",
       "...                                  ...    ...        ...   ...      ...   \n",
       "8456  images/3_classes/test/xxx02117.jpg  02117  3_classes  test  unknown   \n",
       "8457  images/3_classes/test/xxx02118.jpg  02118  3_classes  test  unknown   \n",
       "8458  images/3_classes/test/xxx02119.jpg  02119  3_classes  test  unknown   \n",
       "8459  images/3_classes/test/xxx02120.jpg  02120  3_classes  test  unknown   \n",
       "8460  images/3_classes/test/xxx02121.jpg  02121  3_classes  test  unknown   \n",
       "\n",
       "        ID  \n",
       "0        0  \n",
       "1        1  \n",
       "2        2  \n",
       "3        3  \n",
       "4        4  \n",
       "...    ...  \n",
       "8456  8456  \n",
       "8457  8457  \n",
       "8458  8458  \n",
       "8459  8459  \n",
       "8460  8460  \n",
       "\n",
       "[8461 rows x 6 columns]"
      ]
     },
     "execution_count": 19,
     "metadata": {},
     "output_type": "execute_result"
    }
   ],
   "source": [
    "save = False\n",
    "testInfo_test = pd.DataFrame() #Empty dataframef\n",
    "for classif in ['binary','3_classes']:\n",
    "        currentInfo = info_dataframe_test(classif)\n",
    "        testInfo_test = pd.concat([testInfo_test,currentInfo], ignore_index=True)\n",
    "        \n",
    "testInfo_test['ID'] = testInfo_test.index\n",
    "testInfo_test.to_csv(str(repo_path) + '/data/meta_test_original.csv', sep='\\t', index=False) if save==True else None\n",
    "testInfo_test\n"
   ]
  },
  {
   "cell_type": "markdown",
   "metadata": {},
   "source": [
    "## Train and val"
   ]
  },
  {
   "cell_type": "code",
   "execution_count": 21,
   "metadata": {},
   "outputs": [],
   "source": [
    "save = False\n",
    "\n",
    "#Set classification task\n",
    "classif_list = ['binary','3_classes']\n",
    "set_list = ['train','val']\n",
    "\n",
    "trainvalInfo_df = pd.DataFrame() #Empty dataframe\n",
    "for classif in classif_list:    \n",
    "    for set_name in set_list:\n",
    "        if classif=='binary':\n",
    "            class_list = ['nevus', 'others']\n",
    "        else:\n",
    "            class_list = ['bcc', 'mel', 'scc']\n",
    "        for class_name in class_list:\n",
    "\n",
    "            currentInfo = info_dataframe(classif, set_name, class_name)\n",
    "            trainvalInfo_df = pd.concat([trainvalInfo_df,currentInfo], ignore_index=True)\n",
    "\n",
    "trainvalInfo_df['ID'] = trainvalInfo_df.index\n",
    "trainvalInfo_df.to_csv('data/meta_info_original.csv', sep='\\t', index=False) if save==True else None"
   ]
  },
  {
   "cell_type": "markdown",
   "metadata": {},
   "source": [
    "# 2. Add NH paths"
   ]
  },
  {
   "cell_type": "code",
   "execution_count": 13,
   "metadata": {},
   "outputs": [],
   "source": [
    "# #Add NH apths to meta csv file as a new column\n",
    "# meta = pd.read_csv(str(repo_path) + '/data/meta_info.csv', sep='\\t') #For labels\n",
    "# meta['NH_path'] = [x.replace('images','images_NH') for x in meta.path.values]\n",
    "# #save meta file as csv\n",
    "# meta.to_csv(str(repo_path) + '/data/meta_info.csv', sep='\\t', index=False)"
   ]
  },
  {
   "cell_type": "markdown",
   "metadata": {},
   "source": [
    "# Creating class to manipulate metadata"
   ]
  },
  {
   "cell_type": "code",
   "execution_count": 249,
   "metadata": {},
   "outputs": [],
   "source": [
    "class path_label():\n",
    "    def __init__(self, meta, classif, set_name) -> None:\n",
    "        meta = meta.loc[meta['classif'] == classif] #Filter by classif\n",
    "        meta = meta.loc[meta['set'] == set_name] #Filter by set\n",
    "        self.paths = list(meta.path)\n",
    "        self. labels = np.array(meta.label)"
   ]
  }
 ],
 "metadata": {
  "kernelspec": {
   "display_name": "Python 3.9.12 ('base')",
   "language": "python",
   "name": "python3"
  },
  "language_info": {
   "codemirror_mode": {
    "name": "ipython",
    "version": 3
   },
   "file_extension": ".py",
   "mimetype": "text/x-python",
   "name": "python",
   "nbconvert_exporter": "python",
   "pygments_lexer": "ipython3",
   "version": "3.9.12"
  },
  "orig_nbformat": 4,
  "vscode": {
   "interpreter": {
    "hash": "1c1f01218bbaf8a302f18173488403fcc9591627716b9a07a59bd925307e4c23"
   }
  }
 },
 "nbformat": 4,
 "nbformat_minor": 2
}
