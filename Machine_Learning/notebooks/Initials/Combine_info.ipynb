{
 "cells": [
  {
   "cell_type": "markdown",
   "metadata": {},
   "source": [
    "# Libraries"
   ]
  },
  {
   "cell_type": "code",
   "execution_count": 17,
   "metadata": {},
   "outputs": [],
   "source": [
    "import cv2 as cv\n",
    "import numpy as np\n",
    "import pandas as pd\n",
    "import os\n",
    "from pathlib import Path"
   ]
  },
  {
   "cell_type": "code",
   "execution_count": 2,
   "metadata": {},
   "outputs": [
    {
     "name": "stdout",
     "output_type": "stream",
     "text": [
      "/home/ricardino/Documents/MAIA/tercer_semestre/CAD/Projecte/Machine_Learning/notebooks\n"
     ]
    }
   ],
   "source": [
    "features_path = Path.cwd()\n",
    "notebooks_path = features_path.parent\n",
    "repo_path = notebooks_path.parent\n",
    "os.chdir(str(features_path))\n",
    "#print current working directory\n",
    "print(notebooks_path)"
   ]
  },
  {
   "cell_type": "markdown",
   "metadata": {},
   "source": [
    "# C&F"
   ]
  },
  {
   "cell_type": "code",
   "execution_count": 3,
   "metadata": {},
   "outputs": [],
   "source": [
    "class path_label():\n",
    "    \"\"\"Class to access paths and labels from csv\n",
    "    \"\"\"\n",
    "    def __init__(self, meta=pd.read_csv(str(repo_path) + '/data/meta_info.csv', sep='\\t'), classif='binary', set_name='train') -> None:\n",
    "        meta = meta.loc[meta['classif'] == classif] #Filter by classif\n",
    "        meta = meta.loc[meta['set'] == set_name] #Filter by set\n",
    "        self.paths = list(meta.path)\n",
    "        self. labels = np.array(meta.label)\n",
    "        self.FOV_x1 = np.array(meta.FOV_x1, dtype=np.int16)\n",
    "        self.FOV_x2 = np.array(meta.FOV_x2, dtype=np.int16)\n",
    "        self.FOV_y1 = np.array(meta.FOV_y1, dtype=np.int16)\n",
    "        self.FOV_y2 = np.array(meta.FOV_y2, dtype=np.int16)\n",
    "        self.len = len(self.paths)\n",
    "        \n",
    "#create class to call patient and its information\n",
    "class patient():\n",
    "    \"\"\"Class to access patient information\n",
    "    \"\"\"\n",
    "    def __init__(self, info = path_label(), num=0) -> None:\n",
    "        self.path = info.paths[num]\n",
    "        self.label = info.labels[num]\n",
    "        self.FOV_x1 = info.FOV_x1[num]\n",
    "        self.FOV_x2 = info.FOV_x2[num]\n",
    "        self.FOV_y1 = info.FOV_y1[num]\n",
    "        self.FOV_y2 = info.FOV_y2[num]\n",
    "    def RGB_im(self):\n",
    "        self.image = cv.imread(str(repo_path) +\"/\"+ self.path)\n",
    "        self.image = cv.cvtColor(self.image, cv.COLOR_BGR2RGB)\n",
    "        self.image = self.image[self.FOV_x1:self.FOV_x2, self.FOV_y1:self.FOV_y2]\n",
    "        return self.image\n",
    "        \n",
    "    def HSV_im(self):\n",
    "        self.HSV = cv.imread(str(repo_path) +\"/\"+ self.path)\n",
    "        self.HSV = cv.cvtColor(self.HSV, cv.COLOR_BGR2HSV)\n",
    "        self.HSV = self.HSV[self.FOV_x1:self.FOV_x2, self.FOV_y1:self.FOV_y2]\n",
    "        return self.HSV"
   ]
  },
  {
   "cell_type": "markdown",
   "metadata": {},
   "source": [
    "# IMP"
   ]
  },
  {
   "cell_type": "code",
   "execution_count": 14,
   "metadata": {},
   "outputs": [
    {
     "name": "stdout",
     "output_type": "stream",
     "text": [
      "Len of train: 25343 and test: 8461\n",
      " The sum of both len is 33804\n"
     ]
    }
   ],
   "source": [
    "meta_train=pd.read_csv(str(repo_path) + '/data/meta_train.csv', sep='\\t')\n",
    "meta_test = pd.read_csv(str(repo_path) + '/data/meta_test.csv', sep='\\t')\n",
    "print(f'Len of train: {len(meta_train)} and test: {len(meta_test)}\\n The sum of both len is {len(meta_train)+len(meta_test)}')\n",
    "#Join rowwise both dataframes\n",
    "meta_info = pd.concat([meta_train, meta_test], axis=0, ignore_index=True)\n",
    "#change all Nan values in dataframe for 'unknown'\n",
    "meta_info = meta_info.fillna('unknown')\n",
    "#save new meta_info\n",
    "meta_info.to_csv(str(repo_path) + '/data/meta_info.csv', sep='\\t', index=False)"
   ]
  }
 ],
 "metadata": {
  "kernelspec": {
   "display_name": "Python 3.9.12 ('base')",
   "language": "python",
   "name": "python3"
  },
  "language_info": {
   "codemirror_mode": {
    "name": "ipython",
    "version": 3
   },
   "file_extension": ".py",
   "mimetype": "text/x-python",
   "name": "python",
   "nbconvert_exporter": "python",
   "pygments_lexer": "ipython3",
   "version": "3.9.12"
  },
  "orig_nbformat": 4,
  "vscode": {
   "interpreter": {
    "hash": "1c1f01218bbaf8a302f18173488403fcc9591627716b9a07a59bd925307e4c23"
   }
  }
 },
 "nbformat": 4,
 "nbformat_minor": 2
}
