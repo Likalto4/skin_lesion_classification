{
 "cells": [
  {
   "cell_type": "markdown",
   "metadata": {},
   "source": [
    "# Libraries"
   ]
  },
  {
   "cell_type": "code",
   "execution_count": 1,
   "metadata": {},
   "outputs": [],
   "source": [
    "import os\n",
    "from pathlib import Path\n",
    "import numpy as np\n",
    "import radiomics\n",
    "from radiomics import featureextractor\n",
    "import cv2 as cv\n",
    "import SimpleITK as sitk\n",
    "import matplotlib.pyplot as plt\n",
    "import pandas as pd\n",
    "import pickle\n",
    "from tqdm import tqdm"
   ]
  },
  {
   "cell_type": "code",
   "execution_count": 2,
   "metadata": {},
   "outputs": [
    {
     "name": "stdout",
     "output_type": "stream",
     "text": [
      "/home/ricardino/Documents/MAIA/tercer_semestre/CAD/Projecte/Machine_Learning/notebooks/features\n"
     ]
    }
   ],
   "source": [
    "features_path = Path.cwd()\n",
    "notebooks_path = features_path.parent\n",
    "repo_path = notebooks_path.parent\n",
    "os.chdir(str(features_path))\n",
    "#print current working directory\n",
    "print(os.getcwd())"
   ]
  },
  {
   "cell_type": "markdown",
   "metadata": {},
   "source": [
    "# Function"
   ]
  },
  {
   "cell_type": "code",
   "execution_count": 3,
   "metadata": {},
   "outputs": [],
   "source": [
    "class path_label():\n",
    "    \"\"\"Class to access paths and labels from csv\n",
    "    \"\"\"\n",
    "    def __init__(self, meta=pd.read_csv(str(repo_path) + '/data/meta_info.csv', sep='\\t'), classif='binary', set_name='train') -> None:\n",
    "        meta = meta.loc[meta['classif'] == classif] #Filter by classif\n",
    "        meta = meta.loc[meta['set'] == set_name] #Filter by set\n",
    "        self.paths = list(meta.path)\n",
    "        self. labels = np.array(meta.label)\n",
    "        self.FOV_x1 = np.array(meta.FOV_x1, dtype=np.int16)\n",
    "        self.FOV_x2 = np.array(meta.FOV_x2, dtype=np.int16)\n",
    "        self.FOV_y1 = np.array(meta.FOV_y1, dtype=np.int16)\n",
    "        self.FOV_y2 = np.array(meta.FOV_y2, dtype=np.int16)\n",
    "        \n",
    "#create class to call patient and its information\n",
    "class patient():\n",
    "    \"\"\"Class to access patient information\n",
    "    \"\"\"\n",
    "    def __init__(self, info = path_label(), num=0) -> None:\n",
    "        self.path = info.paths[num]\n",
    "        self.label = info.labels[num]\n",
    "        self.FOV_x1 = info.FOV_x1[num]\n",
    "        self.FOV_x2 = info.FOV_x2[num]\n",
    "        self.FOV_y1 = info.FOV_y1[num]\n",
    "        self.FOV_y2 = info.FOV_y2[num]\n",
    "        self.image = cv.imread(str(repo_path) +\"/\"+ self.path)\n",
    "        self.image = cv.cvtColor(self.image, cv.COLOR_BGR2RGB)\n",
    "        self.image = self.image[self.FOV_x1:self.FOV_x2, self.FOV_y1:self.FOV_y2]\n",
    "        self.HSV = cv.imread(str(repo_path) +\"/\"+ self.path, cv.IMREAD_COLOR)\n",
    "        self.HSV = cv.cvtColor(self.HSV, cv.COLOR_BGR2HSV)\n",
    "        self.HSV = self.HSV[self.FOV_x1:self.FOV_x2, self.FOV_y1:self.FOV_y2]\n",
    "\n",
    "def extractor_setting():\n",
    "\n",
    "  settings = {}\n",
    "  settings['binWidth'] = 1 #To ensure a 1 pixel width for the histogram once the image has been requantized to 8 gray levels.\n",
    "  settings['correctMask'] = True #To ensure the mask and the image are in the same coordinates\n",
    "  # Instantiate the extractor\n",
    "  extractor = featureextractor.RadiomicsFeatureExtractor(**settings)\n",
    "  extractor.disableAllFeatures()\n",
    "  #Enable all first order features\n",
    "  extractor.enableFeatureClassByName('glcm')\n",
    "  extractor.enableFeatureClassByName('glszm')\n",
    "  extractor.enableFeatureClassByName('glrlm')\n",
    "  extractor.enableFeatureClassByName('ngtdm')\n",
    "  extractor.enableFeatureClassByName('gldm')\n",
    "  \n",
    "  \n",
    "  print('Extraction parameters:\\n\\t', extractor.settings)\n",
    "  print('Enabled filters:\\n\\t', extractor.enabledImagetypes)\n",
    "  print('Enabled features:\\n\\t', extractor.enabledFeatures)\n",
    "  return extractor"
   ]
  },
  {
   "cell_type": "code",
   "execution_count": 4,
   "metadata": {},
   "outputs": [],
   "source": [
    "def all_texture(pat, extractor):\n",
    "\n",
    "    im_HSV =  pat.HSV[:,:,2]#Value channel image\n",
    "    sitk_im = sitk.GetImageFromArray(im_HSV) #Pass to sitk objet\n",
    "    #mask\n",
    "    mask = np.ones(im_HSV.shape).astype(np.uint8) #Create maskwith same shape as image\n",
    "    mask[-1,-1]=0 #Hack to allow full image segmentation. Last value is set to 0 so it wont be counted in the GLCM computation\n",
    "    sitk_mask = sitk.GetImageFromArray(mask) #Pass to sitk object\n",
    "    #Extract\n",
    "    result = extractor.execute(sitk_im,sitk_mask) # Extract features\n",
    "    features = np.array(list(result.values())[-75:]) #save as array 18 features\n",
    "    \n",
    "    return features"
   ]
  },
  {
   "cell_type": "code",
   "execution_count": 5,
   "metadata": {},
   "outputs": [
    {
     "name": "stdout",
     "output_type": "stream",
     "text": [
      "Extraction parameters:\n",
      "\t {'minimumROIDimensions': 2, 'minimumROISize': None, 'normalize': False, 'normalizeScale': 1, 'removeOutliers': None, 'resampledPixelSpacing': None, 'interpolator': 'sitkBSpline', 'preCrop': False, 'padDistance': 5, 'distances': [1], 'force2D': False, 'force2Ddimension': 0, 'resegmentRange': None, 'label': 1, 'additionalInfo': True, 'binWidth': 1, 'correctMask': True}\n",
      "Enabled filters:\n",
      "\t {'Original': {}}\n",
      "Enabled features:\n",
      "\t {'glcm': [], 'glszm': [], 'glrlm': [], 'ngtdm': [], 'gldm': []}\n"
     ]
    },
    {
     "name": "stderr",
     "output_type": "stream",
     "text": [
      "  0%|          | 0/3796 [00:00<?, ?it/s]GLCM is symmetrical, therefore Sum Average = 2 * Joint Average, only 1 needs to be calculated\n"
     ]
    }
   ],
   "source": [
    "extractor = extractor_setting() #extractor settings \n",
    "\n",
    "classif='binary'; set_name='val'\n",
    "info = path_label(classif=classif, set_name=set_name)\n",
    "length = len(info.paths) #number of images\n",
    "fv_matrix = np.zeros(shape=(length,75),dtype=np.float64) #Empty numpy array to store feature vectors\n",
    "\n",
    "for i in tqdm(range(length)):\n",
    "    pat = patient(info=info, num=i)\n",
    "    fv_matrix[i] = all_texture(pat, extractor)\n",
    "    \n",
    "ftype='texture'; f_name='All_texture'\n",
    "with open(str(repo_path)+ f'/data/features/{ftype}/{classif}_{set_name}_{ftype}_{f_name}.p', 'wb') as handle:\n",
    "    pickle.dump(fv_matrix, handle, protocol=pickle.HIGHEST_PROTOCOL)\n"
   ]
  },
  {
   "cell_type": "code",
   "execution_count": null,
   "metadata": {},
   "outputs": [
    {
     "ename": "NameError",
     "evalue": "name 'fv_matrix' is not defined",
     "output_type": "error",
     "traceback": [
      "\u001b[0;31m---------------------------------------------------------------------------\u001b[0m",
      "\u001b[0;31mNameError\u001b[0m                                 Traceback (most recent call last)",
      "\u001b[1;32m/home/ricardino/Documents/MAIA/tercer_semestre/CAD/Projecte/Machine_Learning/notebooks/features/GLCM_et_all.ipynb Cell 8\u001b[0m in \u001b[0;36m<cell line: 1>\u001b[0;34m()\u001b[0m\n\u001b[0;32m----> <a href='vscode-notebook-cell:/home/ricardino/Documents/MAIA/tercer_semestre/CAD/Projecte/Machine_Learning/notebooks/features/GLCM_et_all.ipynb#X10sZmlsZQ%3D%3D?line=0'>1</a>\u001b[0m fv_matrix\n",
      "\u001b[0;31mNameError\u001b[0m: name 'fv_matrix' is not defined"
     ]
    }
   ],
   "source": [
    "fv_matrix"
   ]
  }
 ],
 "metadata": {
  "kernelspec": {
   "display_name": "Python 3.9.12 ('base')",
   "language": "python",
   "name": "python3"
  },
  "language_info": {
   "codemirror_mode": {
    "name": "ipython",
    "version": 3
   },
   "file_extension": ".py",
   "mimetype": "text/x-python",
   "name": "python",
   "nbconvert_exporter": "python",
   "pygments_lexer": "ipython3",
   "version": "3.9.12"
  },
  "orig_nbformat": 4,
  "vscode": {
   "interpreter": {
    "hash": "1c1f01218bbaf8a302f18173488403fcc9591627716b9a07a59bd925307e4c23"
   }
  }
 },
 "nbformat": 4,
 "nbformat_minor": 2
}
