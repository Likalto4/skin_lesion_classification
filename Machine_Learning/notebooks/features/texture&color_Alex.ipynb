{
 "cells": [
  {
   "cell_type": "markdown",
   "metadata": {},
   "source": [
    "# Libraries"
   ]
  },
  {
   "cell_type": "code",
   "execution_count": 1,
   "metadata": {},
   "outputs": [],
   "source": [
    "import os, os.path\n",
    "import numpy as np\n",
    "import pandas as pd\n",
    "import cv2 as cv\n",
    "from tqdm import tqdm\n",
    "import pickle\n",
    "import matplotlib.pyplot as plt\n",
    "from skimage.feature import graycomatrix,graycoprops\n",
    "from skimage.feature import local_binary_pattern\n",
    "from scipy.stats import entropy\n",
    "from scipy.stats import skew\n",
    "import scipy.stats\n",
    "\n",
    "from sklearn.svm import SVC, LinearSVC\n",
    "from sklearn.preprocessing import StandardScaler\n",
    "from sklearn.pipeline import Pipeline, make_pipeline\n",
    "from sklearn.model_selection import RandomizedSearchCV\n",
    "from sklearn.model_selection import GridSearchCV\n",
    "from sklearn.ensemble import RandomForestClassifier, AdaBoostClassifier\n",
    "from sklearn.neighbors import (NeighborhoodComponentsAnalysis, KNeighborsClassifier)\n",
    "from imblearn.over_sampling import RandomOverSampler"
   ]
  },
  {
   "cell_type": "code",
   "execution_count": 2,
   "metadata": {},
   "outputs": [],
   "source": [
    "## Directory\n",
    "def main_directory(place='local'):\n",
    "    \"\"\"This function is to set the path of the working place, depending if we are working online or local\n",
    "\n",
    "    Args:\n",
    "        place (str): Name of the place. Two options. Defaults to 'local'.\n",
    "    \"\"\"\n",
    "    if (place=='local'):\n",
    "        os.chdir('/Users/Usuario/Desktop/MAIA/3rd_semester/CAD/Projecte_1')\n",
    "    elif (place=='online'):\n",
    "        os.chdir('/content/drive/MyDrive/MAIA/3rd_semester/CAD/Projecte_1')\n",
    "    else:\n",
    "        print('Not accepted working place, try again')\n",
    "        \n",
    "    return os.getcwd()\n",
    "\n",
    "# Set working directory\n",
    "main_path = main_directory(place='local')"
   ]
  },
  {
   "cell_type": "markdown",
   "metadata": {},
   "source": [
    "# Classes"
   ]
  },
  {
   "cell_type": "code",
   "execution_count": 3,
   "metadata": {},
   "outputs": [],
   "source": [
    "class path_label():\n",
    "    def __init__(self, meta, classif, set_name) -> None:\n",
    "        meta = meta.loc[meta['classif'] == classif] #Filter by classif\n",
    "        meta = meta.loc[meta['set'] == set_name] #Filter by set\n",
    "\n",
    "        self.paths = list(meta.path)\n",
    "        self.labels = np.array(meta.label)\n",
    "        self.FOV_x1 = np.array(meta.FOV_x1, dtype=np.int16)\n",
    "        self.FOV_x2 = np.array(meta.FOV_x2, dtype=np.int16)\n",
    "        self.FOV_y1 = np.array(meta.FOV_y1, dtype=np.int16)\n",
    "        self.FOV_y2 = np.array(meta.FOV_y2, dtype=np.int16)"
   ]
  },
  {
   "cell_type": "markdown",
   "metadata": {},
   "source": [
    "# Functions"
   ]
  },
  {
   "cell_type": "markdown",
   "metadata": {},
   "source": [
    "## Saving and loading"
   ]
  },
  {
   "cell_type": "code",
   "execution_count": 4,
   "metadata": {},
   "outputs": [],
   "source": [
    "def save_pickle(file, filename):\n",
    "    \"\"\"save as pickle\n",
    "\n",
    "    Args:\n",
    "        file (obj): object to save\n",
    "        filename (str): path of the object to save\n",
    "    \"\"\"\n",
    "    with open(filename, 'wb') as handle:\n",
    "        pickle.dump(file, handle, pickle.HIGHEST_PROTOCOL)\n",
    "\n",
    "def open_pickle(filename):\n",
    "    \"\"\"open pickle file\n",
    "\n",
    "    Args:\n",
    "        filename (str): path of pickle file\n",
    "\n",
    "    Returns:\n",
    "        obj: object extracted form pickle\n",
    "    \"\"\"\n",
    "    with open(filename, 'rb') as handle:\n",
    "        return pickle.load(handle)"
   ]
  },
  {
   "cell_type": "code",
   "execution_count": 5,
   "metadata": {},
   "outputs": [],
   "source": [
    "def get_glcm(im_gray):\n",
    "    \"\"\"\n",
    "    Save the following GLCM features:\n",
    "    Contrast, dissimilarity, homogeneity, energy, correlation and ASM.\n",
    "    \"\"\"\n",
    "    \n",
    "    # Quantize image to 3 bits (8 levels):\n",
    "    gray_8 = (im_gray/32).astype(np.int32)\n",
    "    \n",
    "    # Get the co-occurrence matrix parameters:\n",
    "    Glcm = graycomatrix(gray_8, distances=[1], angles=[0], levels=8)\n",
    "\n",
    "    # Get the following statistical values of co-occurrence matrix:\n",
    "    f_descr = {'contrast', 'dissimilarity','homogeneity', 'energy', 'correlation', 'ASM'}\n",
    "    \n",
    "    fv = []\n",
    "    for prop in f_descr:\n",
    "        temp = graycoprops(Glcm, prop)\n",
    "        fv.append(temp)\n",
    "    \n",
    "    return (np.array(fv)).flatten().tolist()\n",
    "\n",
    "\n",
    "def get_first_order_features(im):\n",
    "    \"\"\"\n",
    "    Save the following 1st order texture features: \n",
    "    Min, max and mean intensites, range, std, median, skewness, kurtosis and entropy.\n",
    "    \"\"\"\n",
    "    feats = []\n",
    "    \n",
    "    im_flat = im.flatten()\n",
    "    \n",
    "    fmin = np.min(im_flat)\n",
    "    feats.extend([fmin])\n",
    "\n",
    "    fmax = np.max(im_flat)\n",
    "    feats.extend([fmax])\n",
    "\n",
    "    fmean= np.mean(im_flat)\n",
    "    feats.extend([fmean])\n",
    "\n",
    "    fstd= np.std(im_flat)\n",
    "    feats.extend([fstd])\n",
    "\n",
    "    fmedian= np.median(im_flat)\n",
    "    feats.extend([fmedian])\n",
    "\n",
    "    skewness = scipy.stats.skew(im_flat)\n",
    "    feats.extend([skewness])\n",
    "\n",
    "    kurtosis = scipy.stats.kurtosis(im_flat)\n",
    "    feats.extend([kurtosis])\n",
    "\n",
    "    frange = fmax - fmin\n",
    "    feats.extend([frange])\n",
    "\n",
    "    entrop = scipy.stats.entropy(im_flat)\n",
    "    feats.extend([entrop])\n",
    "    \n",
    "    return feats\n",
    "\n",
    "\n",
    "def get_LBP(im_gray):\n",
    "    \"\"\"\n",
    "    Compute the rotation invariant uniform (frequent) LBP feature of the input grayscale image.\n",
    "    \"\"\"\n",
    "    # Compute LBP image and its histogram for the binnary pattern of each pixel's 8-neighborhood.\n",
    "    lbp_feats_im = local_binary_pattern(im_gray, P=8, R=1,method='uniform')\n",
    "    lbp_feats,_ = np.histogram(lbp_feats_im.ravel())\n",
    "    \n",
    "    # Normalize the histogram\n",
    "    lbp_feats = lbp_feats/lbp_feats.sum()\n",
    "\n",
    "    return lbp_feats.flatten().tolist()\n",
    "\n",
    "\n",
    "def get_texture_features(im):\n",
    "    \"\"\"\n",
    "    Compute and save the following texture features:\n",
    "    \"\"\"\n",
    "    \n",
    "    fv = []\n",
    "    # Save first order texture features:\n",
    "    first_order_feats = get_first_order_features(im)\n",
    "    fv.extend(first_order_feats)\n",
    "    \n",
    "    # Compute the grayscale image and save GLCM features:\n",
    "    im_gray = cv.cvtColor(im,cv.COLOR_BGR2GRAY)\n",
    "    glcm_feats = get_glcm(im_gray)\n",
    "    fv.extend(glcm_feats)\n",
    "    \n",
    "    # Save LBP features of the grayscale image:\n",
    "    lbp_feats = get_LBP(im_gray)\n",
    "    fv.extend(lbp_feats)\n",
    "    \n",
    "    return fv"
   ]
  },
  {
   "cell_type": "code",
   "execution_count": 6,
   "metadata": {},
   "outputs": [],
   "source": [
    "def get_color_features(im):\n",
    "    \"\"\"\n",
    "    Save the mean intensity and the variance of the histogram of each color channel of the input image.\n",
    "    \"\"\"\n",
    "    bins = 256\n",
    "    num_chs = im.shape[2]\n",
    "    size = im.shape[0]*im.shape[1]\n",
    "    \n",
    "    fv = []\n",
    "    for ch in range(0,num_chs):\n",
    "        im_ch = im[:,:,ch]\n",
    "        \n",
    "        # Compute the histogram for each color channel of the input image:\n",
    "        hist, _ = np.histogram(im_ch.ravel(), bins=bins, range=(0,bins))\n",
    "        \n",
    "        # Save the mean intensity and the variance in the histogram:\n",
    "        fv.extend([np.argmax(hist), np.var(hist)/size])\n",
    "    return fv"
   ]
  },
  {
   "cell_type": "code",
   "execution_count": 7,
   "metadata": {},
   "outputs": [],
   "source": [
    "def get_features(im):\n",
    "    \n",
    "    #Image smoothing with a 5x5 kernel and same depth as original image\n",
    "    kernel = np.ones((5,5),np.float32)/25\n",
    "    im = cv.filter2D(im, ddepth= -1, kernel = kernel)\n",
    "\n",
    "    # Features extraction\n",
    "    fv = []\n",
    "    fv.extend(get_color_features(im))\n",
    "    fv.extend(get_texture_features(im))\n",
    "    return fv"
   ]
  },
  {
   "cell_type": "markdown",
   "metadata": {},
   "source": [
    "# Implementation"
   ]
  },
  {
   "cell_type": "markdown",
   "metadata": {},
   "source": [
    "# Extract features (color and texture)"
   ]
  },
  {
   "cell_type": "code",
   "execution_count": 121,
   "metadata": {},
   "outputs": [
    {
     "name": "stderr",
     "output_type": "stream",
     "text": [
      "100%|██████████| 1270/1270 [09:25<00:00,  2.25it/s]\n",
      "100%|██████████| 5082/5082 [39:27<00:00,  2.15it/s]  \n"
     ]
    }
   ],
   "source": [
    "\n",
    "#Read metadata file\n",
    "meta = pd.read_csv('data/meta_info.csv', sep='\\t')\n",
    "\n",
    "for set_name in ['val', 'train']:\n",
    "    #Set situation\n",
    "    classif='3_classes'\n",
    "    #Define information object\n",
    "    info = path_label(meta, classif, set_name)\n",
    "\n",
    "\n",
    "    #Extraction settings\n",
    "    im_num = len(info.paths) #number of images in folder\n",
    "    fvs = []\n",
    "\n",
    "    for i in tqdm(range(im_num)): #Go through data\n",
    "        x1 = info.FOV_x1[i]\n",
    "        x2 = info.FOV_x2[i]\n",
    "        y1 = info.FOV_y1[i]\n",
    "        y2 = info.FOV_y2[i]\n",
    "        im = cv.imread(info.paths[i])[x1:x2, y1:y2] #Read image between FOV coordinates\n",
    "\n",
    "        # Append to fvs each image's vector of color and texture features\n",
    "        fv = get_features(im)\n",
    "        fvs.append(fv)\n",
    "\n",
    "    save_pickle(fvs, main_path+f'/data/features/textures/3_classes_{set_name}_36.p')\n"
   ]
  },
  {
   "cell_type": "code",
   "execution_count": 112,
   "metadata": {},
   "outputs": [],
   "source": [
    "\n",
    "#Read metadata file\n",
    "meta_test = pd.read_csv('data/meta_test.csv', sep='\\t')\n",
    "#Set situation\n",
    "classif='3_classes'; set_name='test'\n",
    "#Define information object\n",
    "info = path_label(meta_test, classif, set_name)\n",
    "\n",
    "#Extraction settings\n",
    "im_num = len(info.paths) #number of images in folder\n",
    "fvs = []\n",
    "\n",
    "for i in tqdm(range(im_num)): #Go through data\n",
    "    x1 = info.FOV_x1[i]\n",
    "    x2 = info.FOV_x2[i]\n",
    "    y1 = info.FOV_y1[i]\n",
    "    y2 = info.FOV_y2[i]\n",
    "    im = cv.imread(info.paths[i])[x1:x2, y1:y2] #Read image between FOV coordinates\n",
    "\n",
    "    # Append to fvs each image's vector of color and texture features\n",
    "    fv = get_features(im)\n",
    "    fvs.append(fv)\n",
    "\n",
    "save_pickle(fvs, main_path+f'/data/features/test/3_classes_test_36.p')"
   ]
  },
  {
   "cell_type": "markdown",
   "metadata": {},
   "source": [
    "# Train and test"
   ]
  },
  {
   "cell_type": "code",
   "execution_count": 122,
   "metadata": {},
   "outputs": [],
   "source": [
    "#Read training data\n",
    "X_train = open_pickle(main_path+f'/data/features/textures/3_classes_train_36.p')\n",
    "y_train = path_label(meta, '3_classes', 'train').labels\n",
    "\n",
    "#Read validation data\n",
    "X_val = open_pickle(main_path+f'/data/features/textures/3_classes_val_36.p')\n",
    "y_val = path_label(meta, '3_classes', 'val').labels\n",
    "\n",
    "#Read test features\n",
    "X_test = open_pickle(main_path+f'/data/features/test/3_classes_test_36.p')"
   ]
  },
  {
   "cell_type": "code",
   "execution_count": 143,
   "metadata": {},
   "outputs": [
    {
     "name": "stderr",
     "output_type": "stream",
     "text": [
      "Intel(R) Extension for Scikit-learn* enabled (https://github.com/intel/scikit-learn-intelex)\n"
     ]
    }
   ],
   "source": [
    "from sklearn.model_selection import StratifiedKFold\n",
    "from sklearn.linear_model import RidgeCV\n",
    "from sklearn.ensemble import StackingRegressor\n",
    "from sklearn.ensemble import VotingClassifier\n",
    "from sklearn.metrics import balanced_accuracy_score, cohen_kappa_score, confusion_matrix, make_scorer\n",
    "import seaborn as sns\n",
    "from imblearn.over_sampling import RandomOverSampler\n",
    "from imblearn.under_sampling import RandomUnderSampler\n",
    "from sklearnex import patch_sklearn\n",
    "\n",
    "patch_sklearn()\n",
    "\n",
    "#ML Training setting\n",
    "ros = RandomOverSampler(random_state=0, sampling_strategy = {2: 1000})\n",
    "X_resampled, y_resampled = ros.fit_resample(X_train, y_train)\n",
    "\n",
    "rus = RandomUnderSampler(random_state=0, sampling_strategy = {0: 1000, 1: 1000})\n",
    "X_resampled, y_resampled = rus.fit_resample(X_resampled, y_resampled)\n",
    "\n",
    "kappa_scorer = make_scorer(cohen_kappa_score)\n",
    "\n",
    "pipe_SVC = Pipeline([('scaler', StandardScaler()),('classifier', SVC())])\n",
    "param_grid_SVC = {'classifier__C':[0.1, 1, 10, 100, 1000],'classifier__gamma':[1, 0.1, 0.01, 0.001, 0.0001], 'classifier__kernel':['rbf']}\n",
    "cv = StratifiedKFold(n_splits=5, shuffle=True, random_state=123)\n",
    "grid_SVC = GridSearchCV(pipe_SVC, param_grid_SVC, scoring=kappa_scorer, cv = cv, verbose = 3)\n",
    "model_SVC = grid_SVC.fit(X_resampled, y_resampled)\n"
   ]
  },
  {
   "cell_type": "code",
   "execution_count": 186,
   "metadata": {},
   "outputs": [
    {
     "name": "stdout",
     "output_type": "stream",
     "text": [
      "Accuracy training:               0.8756395120031484\n",
      "Accuracy validation:             0.7700787401574803\n",
      "Kappa training:                  0.7836032915662106\n",
      "Kappa validation:                0.6015848936599957\n",
      "Balanced accuracy training:      0.8177310486472152\n",
      "Balanced accuracy validation:    0.6661712189372002\n"
     ]
    },
    {
     "data": {
      "image/png": "[encoded data removed]",
      "text/plain": [
       "<Figure size 640x480 with 2 Axes>"
      ]
     },
     "metadata": {},
     "output_type": "display_data"
    }
   ],
   "source": [
    "\n",
    "# Compare kappas for validation and prediction classifications:\n",
    "\n",
    "y_pred = model.predict(X_val) #predict\n",
    "acc = np.mean(y_pred == y_val) #accuracy\n",
    "\n",
    "y_pred_train = model.predict(X_train)\n",
    "y_pred_val = model.predict(X_val)\n",
    "print(\"Accuracy training:              \", np.mean(y_pred_train==y_train))\n",
    "print(\"Accuracy validation:            \", np.mean(y_pred_val==y_val))\n",
    "\n",
    "kappa_train = cohen_kappa_score(y_pred_train, y_train)\n",
    "kappa_val = cohen_kappa_score(y_pred_val, y_val)\n",
    "print(\"Kappa training:                 \", kappa_train)\n",
    "print(\"Kappa validation:               \", kappa_val)\n",
    "\n",
    "balanced_acc_train = balanced_accuracy_score(y_pred_train, y_train)\n",
    "balanced_acc_val = balanced_accuracy_score(y_pred_val, y_val)\n",
    "print(\"Balanced accuracy training:     \", balanced_acc_train)\n",
    "print(\"Balanced accuracy validation:   \", balanced_acc_val)\n",
    "\n",
    "CM = confusion_matrix(y_pred_val, y_val)\n",
    "CM_f = [CM[:,i]/sum(CM[:,i]) for i in range(3)]\n",
    "CM_f = np.around(np.transpose(CM_f), decimals=2)\n",
    "\n",
    "ax = plt.subplot()\n",
    "sns.heatmap(CM_f, annot=True, fmt='g', ax=ax);  #annot=True to annotate cells, ftm='g' to disable scientific notation\n",
    "# labels, title and ticks\n",
    "ax.set_xlabel('True labels'); ax.set_ylabel('Predicted labels'); \n",
    "ax.set_title('Confusion Matrix'); \n",
    "ax.xaxis.set_ticklabels(['0', '1', '2']); ax.yaxis.set_ticklabels(['0', '1', '2'])\n",
    "plt.show()"
   ]
  }
 ],
 "metadata": {
  "kernelspec": {
   "display_name": "Python 3.8.13 ('base')",
   "language": "python",
   "name": "python3"
  },
  "language_info": {
   "codemirror_mode": {
    "name": "ipython",
    "version": 3
   },
   "file_extension": ".py",
   "mimetype": "text/x-python",
   "name": "python",
   "nbconvert_exporter": "python",
   "pygments_lexer": "ipython3",
   "version": "3.8.13"
  },
  "orig_nbformat": 4,
  "vscode": {
   "interpreter": {
    "hash": "08b8beb458bb147e8f76567a7505b3102fbe7dc8979f18efabd4b8b6fa8359ca"
   }
  }
 },
 "nbformat": 4,
 "nbformat_minor": 2
}
