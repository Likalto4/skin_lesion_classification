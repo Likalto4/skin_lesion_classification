{
 "cells": [
  {
   "cell_type": "markdown",
   "metadata": {},
   "source": [
    "# Libraries"
   ]
  },
  {
   "cell_type": "code",
   "execution_count": 2,
   "metadata": {},
   "outputs": [],
   "source": [
    "import os, os.path\n",
    "import numpy as np\n",
    "import pandas as pd\n",
    "import cv2 as cv\n",
    "from tqdm import tqdm\n",
    "import pickle\n",
    "import matplotlib.pyplot as plt\n",
    "from pathlib import Path\n",
    "\n",
    "\n",
    "from sklearn.preprocessing import StandardScaler, Normalizer\n",
    "from sklearn.pipeline import Pipeline\n",
    "from sklearn.model_selection import RandomizedSearchCV\n",
    "from sklearn.model_selection import GridSearchCV\n",
    "from sklearn.ensemble import RandomForestClassifier\n",
    "from sklearn.neighbors import KNeighborsClassifier\n",
    "from sklearn.svm import SVC"
   ]
  },
  {
   "cell_type": "code",
   "execution_count": 3,
   "metadata": {},
   "outputs": [
    {
     "name": "stdout",
     "output_type": "stream",
     "text": [
      "/home/ricardino/Documents/MAIA/tercer_semestre/CAD/Projecte/Machine_Learning/notebooks\n"
     ]
    }
   ],
   "source": [
    "features_path = Path.cwd()\n",
    "notebooks_path = features_path.parent\n",
    "repo_path = notebooks_path.parent\n",
    "os.chdir(str(features_path))\n",
    "#print current working directory\n",
    "print(notebooks_path)"
   ]
  },
  {
   "cell_type": "markdown",
   "metadata": {},
   "source": [
    "# Classes"
   ]
  },
  {
   "cell_type": "code",
   "execution_count": 4,
   "metadata": {},
   "outputs": [],
   "source": [
    "class path_label():\n",
    "    \"\"\"Class to access paths and labels from csv\n",
    "    \"\"\"\n",
    "    def __init__(self, meta=pd.read_csv(str(repo_path) + '/data/meta_info.csv', sep='\\t'), classif='binary', set_name='train') -> None:\n",
    "        meta = meta.loc[meta['classif'] == classif] #Filter by classif\n",
    "        meta = meta.loc[meta['set'] == set_name] #Filter by set\n",
    "        self.paths = list(meta.path)\n",
    "        self.NH_paths = list(meta.NH_path)\n",
    "        self. labels = np.array(meta.label)\n",
    "        self.FOV_x1 = np.array(meta.FOV_x1, dtype=np.int16)\n",
    "        self.FOV_x2 = np.array(meta.FOV_x2, dtype=np.int16)\n",
    "        self.FOV_y1 = np.array(meta.FOV_y1, dtype=np.int16)\n",
    "        self.FOV_y2 = np.array(meta.FOV_y2, dtype=np.int16)"
   ]
  },
  {
   "cell_type": "markdown",
   "metadata": {},
   "source": [
    "# Functions"
   ]
  },
  {
   "cell_type": "markdown",
   "metadata": {},
   "source": [
    "## Saving and loading"
   ]
  },
  {
   "cell_type": "code",
   "execution_count": 5,
   "metadata": {},
   "outputs": [],
   "source": [
    "def save_pickle(file, filename):\n",
    "    \"\"\"save as pickle\n",
    "\n",
    "    Args:\n",
    "        file (obj): object to save\n",
    "        filename (str): path of the object to save\n",
    "    \"\"\"\n",
    "    with open(filename, 'wb') as handle:\n",
    "        pickle.dump(file, handle, pickle.HIGHEST_PROTOCOL)\n",
    "\n",
    "def open_pickle(filename):\n",
    "    \"\"\"open pickle file\n",
    "\n",
    "    Args:\n",
    "        filename (str): path of pickle file\n",
    "\n",
    "    Returns:\n",
    "        obj: object extracted form pickle\n",
    "    \"\"\"\n",
    "    with open(filename, 'rb') as handle:\n",
    "        return pickle.load(handle)"
   ]
  },
  {
   "cell_type": "markdown",
   "metadata": {},
   "source": [
    "## Plotting"
   ]
  },
  {
   "cell_type": "code",
   "execution_count": 6,
   "metadata": {},
   "outputs": [],
   "source": [
    "def plot_image(im_list, figsize=(15,15), cmap='viridis'):\n",
    "    \"\"\"Show set of images\n",
    "\n",
    "    Args:\n",
    "        im_list (list): list of images\n",
    "        figsize (tuple, optional): SIze of the plotting window. Defaults to (15,15).\n",
    "        cmap (str, optional): color map. Defaults to 'viridis'.\n",
    "    \"\"\"\n",
    "    fig, axs = plt.subplots(nrows=1, ncols=len(im_list), figsize=figsize)\n",
    "    for i, im in enumerate(im_list):\n",
    "        axs[i].imshow(im, cmap)"
   ]
  },
  {
   "cell_type": "markdown",
   "metadata": {},
   "source": [
    "# Data manipulation"
   ]
  },
  {
   "cell_type": "code",
   "execution_count": 7,
   "metadata": {},
   "outputs": [],
   "source": [
    "def get_metaDF(classif='binary', set_name='train'):\n",
    "    \"\"\"Returns meta filtered by classification and set name\n",
    "\n",
    "    Args:\n",
    "        classif (str, optional): classification problem. Defaults to 'binary'.\n",
    "        set_name (str, optional): train or val. Defaults to 'train'.\n",
    "\n",
    "    Returns:\n",
    "        dataframe: returns dataframe processed\n",
    "    \"\"\"\n",
    "    meta = pd.read_csv('data/meta_info.csv', sep='\\t')\n",
    "    meta = meta.loc[meta['classif'] == classif] #Filter by classif\n",
    "    meta = meta.loc[meta['set'] == set_name] #Filter by set\n",
    "    return meta"
   ]
  },
  {
   "cell_type": "markdown",
   "metadata": {},
   "source": [
    "## Feature extraction\n"
   ]
  },
  {
   "cell_type": "code",
   "execution_count": 8,
   "metadata": {},
   "outputs": [],
   "source": [
    "def color_hist_fv(im, bins):\n",
    "    \"\"\"Returns the feature vector as the concatenation of the color spaces histograms\n",
    "\n",
    "    Args:\n",
    "        im (array): Image in its channel representation, where te channel dimension is at the end.\n",
    "        bins (int): number of bins. This also defines the feature vector size, combined with the channel num.\n",
    "    \"\"\"\n",
    "    num_chs = im.shape[2]   \n",
    "    fv = np.zeros(bins*num_chs, dtype=np.uint16)\n",
    "    for ch in range(0,num_chs):\n",
    "        im_ch = im[:,:,ch]\n",
    "        hist, _ = np.histogram(im_ch.ravel(), bins=bins, range=(0,bins))\n",
    "        fv[int(ch*fv.shape[0]/num_chs):int((ch+1)*fv.shape[0]/num_chs)] = hist\n",
    "    \n",
    "    return fv\n",
    "\n",
    "\n",
    "def color_hist_extraction(classif, set_name, bins, color_space, noFOV=False, NH=True):\n",
    "    \"\"\"Extract histogram as fv given color sapce and bins num\n",
    "\n",
    "    Args:\n",
    "        classif (srt): binary or 3_class\n",
    "        set_name (srt): train or test\n",
    "        bins (int): number of bins of histogram (num of elements in fv)\n",
    "        color_space (srt): color space to extract from\n",
    "        return: fv\n",
    "    \"\"\"\n",
    "    FOV_status = 'noFOV' if noFOV==True else 'wFOV' #Variable for printing FOV state\n",
    "    dict_colors = { #Color dicitonary\n",
    "        \"RGB\": cv.COLOR_BGR2RGB, \"HSV\": cv.COLOR_BGR2HSV, \"HLS\": cv.COLOR_BGR2HLS, \"LAB\": cv.COLOR_BGR2Lab, \"YCrCb\": cv.COLOR_BGR2YCrCb\n",
    "    }\n",
    "    #Read metadata file \n",
    "    meta = pd.read_csv(str(repo_path) + '/data/meta_info.csv', sep='\\t')\n",
    "\n",
    "    #Define information object\n",
    "    info = path_label(meta, classif, set_name)\n",
    "\n",
    "    #Extraciton settings\n",
    "    im_num = len(info.paths)#number of images in folder\n",
    "    fvs = np.zeros(shape=(im_num,bins*3)) #Store feature vector here\n",
    "    print(f'Shape of fv: {fvs.shape}') #print shape \n",
    "\n",
    "    for i in tqdm(range(im_num)): #Go through data\n",
    "        im = cv.imread(str(repo_path) + '/' + info.paths[i]) if NH==False else cv.imread(str(repo_path) + '/' + info.NH_paths[i])\n",
    "        im = im[info.FOV_x1[i]:info.FOV_x2[i], info.FOV_y1[i]:info.FOV_y2[i],:] if noFOV==True else im #Use subimage if noFOV is true\n",
    "        im = cv.cvtColor(im, dict_colors[color_space]) #convert to color space\n",
    "        fvs[i] = color_hist_fv(im, bins) #get histograms as fv\n",
    "\n",
    "    if NH==False:\n",
    "        save_pickle(fvs, str(repo_path) + f'/data/features/color/{color_space}/{classif}_{set_name}_color_hist_{bins}_fv_{FOV_status}.p') #save in pickle\n",
    "    else:\n",
    "        save_pickle(fvs, str(repo_path) + f'/data/features/color/{color_space}/{classif}_{set_name}_color_hist_{bins}_fv_{FOV_status}_NH.p') #save in pickle\n",
    "    return fvs"
   ]
  },
  {
   "cell_type": "markdown",
   "metadata": {},
   "source": [
    "# Implementation"
   ]
  },
  {
   "cell_type": "markdown",
   "metadata": {},
   "source": [
    "## Extract features (color basics)"
   ]
  },
  {
   "cell_type": "code",
   "execution_count": 25,
   "metadata": {},
   "outputs": [],
   "source": [
    "classif='binary'; set_name='val'; bins = 256; color_space='HSV'#Feature extraction settings\n",
    "FOV_status = 'noFOV' ; f_type = 'color' ; f_name = f'{f_type}_hist_{bins}'\n",
    "#f = color_hist_extraction(classif, set_name, bins, color_space, noFOV=True, NH=True)"
   ]
  },
  {
   "cell_type": "markdown",
   "metadata": {},
   "source": [
    "## Train and test"
   ]
  },
  {
   "cell_type": "code",
   "execution_count": 10,
   "metadata": {},
   "outputs": [],
   "source": [
    "def classifier(method):\n",
    "    \"\"\"Select classification method\n",
    "\n",
    "    Args:\n",
    "        method (str): knn, svm, rf, etc.\n",
    "\n",
    "    Returns:\n",
    "        grid, pipe obj: settings ready to fit\n",
    "    \"\"\"\n",
    "    #ML Training setting\n",
    "    if(method=='KNN'):\n",
    "        param_grid = {'classifier__n_neighbors': list(range(1,32))}\n",
    "        pipe = Pipeline([('scaler', Normalizer()),('classifier',KNeighborsClassifier())])\n",
    "        grid = GridSearchCV(pipe, param_grid, verbose = 4)\n",
    "        return grid, pipe\n",
    "    elif(method=='RF'):\n",
    "        param_grid = {'classifier__n_estimators': [100, 200, 400, 1000],}\n",
    "        pipe = Pipeline([('scaler', Normalizer()),('classifier',RandomForestClassifier())])\n",
    "        grid = GridSearchCV(pipe, param_grid, verbose = 4)\n",
    "        return grid, pipe"
   ]
  },
  {
   "cell_type": "code",
   "execution_count": 27,
   "metadata": {},
   "outputs": [
    {
     "data": {
      "text/plain": [
       "[<matplotlib.lines.Line2D at 0x7f57630aebb0>]"
      ]
     },
     "execution_count": 27,
     "metadata": {},
     "output_type": "execute_result"
    },
    {
     "data": {
      "image/png": "[encoded data removed]",
      "text/plain": [
       "<Figure size 1440x720 with 1 Axes>"
      ]
     },
     "metadata": {
      "needs_background": "light"
     },
     "output_type": "display_data"
    }
   ],
   "source": [
    "histogram_counts = open_pickle(str(repo_path) + f'/data/features/{f_type}/{color_space}/{classif}_train_{f_name}_fv_{FOV_status}_NH_fv.p')\n",
    "bin_range = np.arange(histogram_counts.shape[1] + 1)\n",
    "#plot histograms\n",
    "plt.figure(figsize=(20,10))\n",
    "plt.plot(bin_range[:-1], histogram_counts[0], label='Normal')"
   ]
  },
  {
   "cell_type": "code",
   "execution_count": null,
   "metadata": {},
   "outputs": [],
   "source": [
    "#Settings\n",
    "meta = pd.read_csv(str(repo_path)  + '/data/meta_info.csv', sep='\\t')\n",
    "FOV_status = 'noFOV'\n",
    "classif = 'binary'; f_type = 'color'; f_name = f'{f_type}_hist_{bins}'\n",
    "\n",
    "#Read training data\n",
    "X_train = open_pickle(str(repo_path) + f'/data/features/{f_type}/{color_space}/{classif}_train_{f_name}_fv_{FOV_status}_NH.p')\n",
    "y_train = path_label(meta, classif, set_name='train').labels\n",
    "\n",
    "#Read validation data\n",
    "X_val = open_pickle(str(repo_path) +  f'/data/features/{f_type}/{color_space}/{classif}_val_{f_name}_fv_{FOV_status}_NH.p')\n",
    "y_val = path_label(meta, classif, set_name='val').labels"
   ]
  },
  {
   "cell_type": "code",
   "execution_count": null,
   "metadata": {},
   "outputs": [
    {
     "name": "stdout",
     "output_type": "stream",
     "text": [
      "0.8166491043203372\n"
     ]
    }
   ],
   "source": [
    "#run model\n",
    "grid, pipe = classifier('RF')\n",
    "model = grid.fit(X_train,y_train)\n",
    "save_pickle(model, str(repo_path) + f'/data/models/{classif}_{pipe.steps[-1][-1]}_{f_name}_{color_space}_{FOV_status}_NH.p') #Save model\n",
    "y_pred = model.predict(X_val) #predict\n",
    "acc = np.mean(y_pred == y_val) #accuracy\n",
    "print(acc)"
   ]
  },
  {
   "cell_type": "markdown",
   "metadata": {},
   "source": [
    "## Reading models"
   ]
  },
  {
   "cell_type": "code",
   "execution_count": null,
   "metadata": {},
   "outputs": [
    {
     "name": "stdout",
     "output_type": "stream",
     "text": [
      "0.8021601685985248\n"
     ]
    }
   ],
   "source": [
    "#Settings\n",
    "meta = pd.read_csv('data/meta_info.csv', sep='\\t')\n",
    "classif = 'binary'; f_type = 'color'; bins = 256; f_name = f'{f_type}_hist_{bins}' ; color_space = 'RGB'\n",
    "\n",
    "model = open_pickle(f'data/models/{classif}_RandomForestClassifier()_{f_name}_{color_space}.p')\n",
    "\n",
    "\n",
    "#Read validation data\n",
    "X_val = open_pickle(f'data/features/{f_type}/{color_space}/{classif}_val_{f_name}_fv.p')\n",
    "y_val = path_label(meta, classif, set_name='val').labels\n",
    "\n",
    "\n",
    "y_pred = model.predict(X_val) #predict\n",
    "acc = np.mean(y_pred == y_val) #accuracy\n",
    "print(acc)"
   ]
  }
 ],
 "metadata": {
  "kernelspec": {
   "display_name": "Python 3.9.12 ('base')",
   "language": "python",
   "name": "python3"
  },
  "language_info": {
   "codemirror_mode": {
    "name": "ipython",
    "version": 3
   },
   "file_extension": ".py",
   "mimetype": "text/x-python",
   "name": "python",
   "nbconvert_exporter": "python",
   "pygments_lexer": "ipython3",
   "version": "3.9.12"
  },
  "orig_nbformat": 4,
  "vscode": {
   "interpreter": {
    "hash": "1c1f01218bbaf8a302f18173488403fcc9591627716b9a07a59bd925307e4c23"
   }
  }
 },
 "nbformat": 4,
 "nbformat_minor": 2
}
