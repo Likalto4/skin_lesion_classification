{
 "cells": [
  {
   "cell_type": "markdown",
   "metadata": {},
   "source": [
    "# Libraries"
   ]
  },
  {
   "cell_type": "code",
   "execution_count": 3,
   "metadata": {},
   "outputs": [],
   "source": [
    "from pathlib import Path\n",
    "import os\n",
    "import pickle\n",
    "from tqdm import tqdm\n",
    "import pandas as pd\n",
    "import numpy as np\n",
    "import cv2 as cv\n",
    "import matplotlib.pyplot as plt\n",
    "\n",
    "from skimage.feature import local_binary_pattern"
   ]
  },
  {
   "cell_type": "code",
   "execution_count": 4,
   "metadata": {},
   "outputs": [
    {
     "name": "stdout",
     "output_type": "stream",
     "text": [
      "/home/ricardino/Documents/MAIA/tercer_semestre/CAD/Projecte/Machine_Learning/notebooks/features\n"
     ]
    }
   ],
   "source": [
    "features_path = Path.cwd()\n",
    "notebooks_path = features_path.parent\n",
    "repo_path = notebooks_path.parent\n",
    "os.chdir(str(features_path))\n",
    "#print current working directory\n",
    "print(os.getcwd())"
   ]
  },
  {
   "cell_type": "markdown",
   "metadata": {},
   "source": [
    "# Functions and classes"
   ]
  },
  {
   "cell_type": "code",
   "execution_count": 5,
   "metadata": {},
   "outputs": [],
   "source": [
    "class path_label():\n",
    "    \"\"\"Class to access paths and labels from csv\n",
    "    \"\"\"\n",
    "    def __init__(self, meta=pd.read_csv(str(repo_path) + '/data/meta_info.csv', sep='\\t'), classif='binary', set_name='train') -> None:\n",
    "        meta = meta.loc[meta['classif'] == classif] #Filter by classif\n",
    "        meta = meta.loc[meta['set'] == set_name] #Filter by set\n",
    "        self.paths = list(meta.path)\n",
    "        self. labels = np.array(meta.label)\n",
    "        self.FOV_x1 = np.array(meta.FOV_x1, dtype=np.int16)\n",
    "        self.FOV_x2 = np.array(meta.FOV_x2, dtype=np.int16)\n",
    "        self.FOV_y1 = np.array(meta.FOV_y1, dtype=np.int16)\n",
    "        self.FOV_y2 = np.array(meta.FOV_y2, dtype=np.int16)\n",
    "        self.len = len(self.paths)\n",
    "        \n",
    "#create class to call patient and its information\n",
    "class patient():\n",
    "    \"\"\"Class to access patient information\n",
    "    \"\"\"\n",
    "    def __init__(self, info = path_label(), num=0) -> None:\n",
    "        self.path = info.paths[num]\n",
    "        self.label = info.labels[num]\n",
    "        self.FOV_x1 = info.FOV_x1[num]\n",
    "        self.FOV_x2 = info.FOV_x2[num]\n",
    "        self.FOV_y1 = info.FOV_y1[num]\n",
    "        self.FOV_y2 = info.FOV_y2[num]\n",
    "    def RGB_im(self):\n",
    "        self.image = cv.imread(str(repo_path) +\"/\"+ self.path)\n",
    "        self.image = cv.cvtColor(self.image, cv.COLOR_BGR2RGB)\n",
    "        self.image = self.image[self.FOV_x1:self.FOV_x2, self.FOV_y1:self.FOV_y2]\n",
    "        return self.image\n",
    "        \n",
    "    def HSV_im(self):\n",
    "        self.HSV = cv.imread(str(repo_path) +\"/\"+ self.path)\n",
    "        self.HSV = cv.cvtColor(self.HSV, cv.COLOR_BGR2HSV)\n",
    "        self.HSV = self.HSV[self.FOV_x1:self.FOV_x2, self.FOV_y1:self.FOV_y2]\n",
    "        return self.HSV"
   ]
  },
  {
   "cell_type": "code",
   "execution_count": 6,
   "metadata": {},
   "outputs": [],
   "source": [
    "#print 3 channel image given its numpy array\n",
    "def show_image_3channels(image):\n",
    "    \"\"\"Print 3 channel image given its numpy array\n",
    "    \"\"\"\n",
    "    plt.figure(figsize=(10,10))\n",
    "    plt.imshow(image)\n",
    "    plt.show()"
   ]
  },
  {
   "cell_type": "markdown",
   "metadata": {},
   "source": [
    "# IMP"
   ]
  },
  {
   "cell_type": "code",
   "execution_count": 7,
   "metadata": {},
   "outputs": [
    {
     "name": "stderr",
     "output_type": "stream",
     "text": [
      "100%|██████████| 15195/15195 [02:32<00:00, 99.45it/s] \n"
     ]
    }
   ],
   "source": [
    "#Read meta information\n",
    "info = path_label(classif = 'binary', set_name='train')\n",
    "for i in tqdm(range(info.len)):\n",
    "    pacient = patient(info=info, num=i)\n",
    "    im = pacient.HSV_im()"
   ]
  }
 ],
 "metadata": {
  "kernelspec": {
   "display_name": "Python 3.9.12 ('base')",
   "language": "python",
   "name": "python3"
  },
  "language_info": {
   "codemirror_mode": {
    "name": "ipython",
    "version": 3
   },
   "file_extension": ".py",
   "mimetype": "text/x-python",
   "name": "python",
   "nbconvert_exporter": "python",
   "pygments_lexer": "ipython3",
   "version": "3.9.12"
  },
  "orig_nbformat": 4,
  "vscode": {
   "interpreter": {
    "hash": "1c1f01218bbaf8a302f18173488403fcc9591627716b9a07a59bd925307e4c23"
   }
  }
 },
 "nbformat": 4,
 "nbformat_minor": 2
}
