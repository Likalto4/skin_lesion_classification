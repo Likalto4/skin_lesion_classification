{
 "cells": [
  {
   "cell_type": "markdown",
   "metadata": {},
   "source": [
    "# Libraries"
   ]
  },
  {
   "cell_type": "code",
   "execution_count": 92,
   "metadata": {},
   "outputs": [],
   "source": [
    "from pathlib import Path\n",
    "import os\n",
    "import pickle\n",
    "from tqdm import tqdm\n",
    "import pandas as pd\n",
    "import numpy as np\n",
    "import cv2 as cv\n",
    "import matplotlib.pyplot as plt\n",
    "from scipy.stats import kurtosis, skew"
   ]
  },
  {
   "cell_type": "code",
   "execution_count": 93,
   "metadata": {},
   "outputs": [
    {
     "name": "stdout",
     "output_type": "stream",
     "text": [
      "Current folder is: /home/ricardino/Documents/MAIA/tercer_semestre/CAD/Projecte/Machine_Learning/notebooks/features\n",
      "\n"
     ]
    }
   ],
   "source": [
    "subfolder_path = Path.cwd()\n",
    "notebooks_path = subfolder_path.parent\n",
    "repo_path = notebooks_path.parent\n",
    "os.chdir(str(subfolder_path))\n",
    "#print current working directory\n",
    "print(f'Current folder is: {os.getcwd()}\\n')\n",
    "thispath = Path.cwd().resolve()\n",
    "import sys; sys.path.insert(0, str(thispath.parent.parent)) if sys.path[0] != str(thispath.parent.parent) else None\n",
    "\n",
    "#Import paths and patients classes\n",
    "from notebooks.info import path_label, patient\n"
   ]
  },
  {
   "cell_type": "markdown",
   "metadata": {},
   "source": [
    "# Functions"
   ]
  },
  {
   "cell_type": "code",
   "execution_count": 94,
   "metadata": {},
   "outputs": [],
   "source": [
    "#print 3 channel image given its numpy array\n",
    "def show_image_3channels(image):\n",
    "    \"\"\"Print 3 channel image given its numpy array\n",
    "    \"\"\"\n",
    "    plt.figure(figsize=(10,10))\n",
    "    plt.imshow(image)\n",
    "    plt.show()\n",
    "    \n",
    "#functio to save file as pickle\n",
    "def save_as_pickle(file, filename):\n",
    "    \"\"\"Save file as pickle\n",
    "    \"\"\"\n",
    "    with open(filename, 'wb') as f:\n",
    "        pickle.dump(file, f, pickle.HIGHEST_PROTOCOL)\n",
    "def load_pickle(filename):\n",
    "    \"\"\"Load pickle file\n",
    "    \"\"\"\n",
    "    with open(filename, 'rb') as f:\n",
    "        return pickle.load(f)"
   ]
  },
  {
   "cell_type": "markdown",
   "metadata": {},
   "source": [
    "# IMP"
   ]
  },
  {
   "cell_type": "code",
   "execution_count": 95,
   "metadata": {},
   "outputs": [],
   "source": [
    "def get_means(im):\n",
    "    ch1 = np.mean(im[:,:,0])\n",
    "    ch2 = np.mean(im[:,:,1])\n",
    "    ch3 = np.mean(im[:,:,2])\n",
    "    return ch1, ch2, ch3\n",
    "\n",
    "def get_std(im):\n",
    "    ch1 = np.std(im[:,:,0])\n",
    "    ch2 = np.std(im[:,:,1])\n",
    "    ch3 = np.std(im[:,:,2])\n",
    "    return ch1, ch2, ch3\n",
    "\n",
    "def get_skew(im):\n",
    "    ch1 = skew(im[:,:,0].flatten())\n",
    "    ch2 = skew(im[:,:,1].flatten())\n",
    "    ch3 = skew(im[:,:,2].flatten())\n",
    "    return ch1, ch2, ch3\n",
    "\n",
    "def get_kurtosis(im):\n",
    "    ch1 = kurtosis(im[:,:,0].flatten())\n",
    "    ch2 = kurtosis(im[:,:,1].flatten())\n",
    "    ch3 = kurtosis(im[:,:,2].flatten())\n",
    "    return ch1, ch2, ch3\n",
    "\n",
    "def mainColorStats(im):\n",
    "    return get_means(im) + get_std(im) + get_skew(im) + get_kurtosis(im)\n",
    "\n",
    "def get_mainstats_allcolors(pacient):\n",
    "\n",
    "    feature = []\n",
    "    for im in [pacient.RGB_im(), pacient.HSV_im(), pacient.ycrcb_im()]:\n",
    "\n",
    "        feature.extend(mainColorStats(im))\n",
    "    return np.array(feature)"
   ]
  },
  {
   "cell_type": "code",
   "execution_count": 96,
   "metadata": {},
   "outputs": [
    {
     "name": "stderr",
     "output_type": "stream",
     "text": [
      "100%|██████████| 6340/6340 [14:45<00:00,  7.16it/s]\n"
     ]
    }
   ],
   "source": [
    "classif = 'binary'\n",
    "set_name = 'test'\n",
    "fname = 'mainstats_NH'\n",
    "\n",
    "info = path_label(classif=classif, set_name=set_name)\n",
    "\n",
    "feature_matrix = np.zeros((info.len, 36))\n",
    "for i in tqdm(range(info.len)):\n",
    "    pacient = patient(info, i, NH = True)\n",
    "\n",
    "    feature_matrix[i] = get_mainstats_allcolors(pacient)\n",
    "\n",
    "\n",
    "#save as pickle\n",
    "save_as_pickle(feature_matrix, str(repo_path)+ f'/data/features/color/{classif}_{set_name}_{fname}_fv.p')"
   ]
  }
 ],
 "metadata": {
  "kernelspec": {
   "display_name": "Python 3.9.12 ('base')",
   "language": "python",
   "name": "python3"
  },
  "language_info": {
   "codemirror_mode": {
    "name": "ipython",
    "version": 3
   },
   "file_extension": ".py",
   "mimetype": "text/x-python",
   "name": "python",
   "nbconvert_exporter": "python",
   "pygments_lexer": "ipython3",
   "version": "3.9.12"
  },
  "orig_nbformat": 4,
  "vscode": {
   "interpreter": {
    "hash": "1c1f01218bbaf8a302f18173488403fcc9591627716b9a07a59bd925307e4c23"
   }
  }
 },
 "nbformat": 4,
 "nbformat_minor": 2
}
