{
 "cells": [
  {
   "cell_type": "markdown",
   "metadata": {},
   "source": [
    "# Libraries"
   ]
  },
  {
   "cell_type": "code",
   "execution_count": 8,
   "metadata": {},
   "outputs": [],
   "source": [
    "import os\n",
    "from pathlib import Path\n",
    "import numpy as np\n",
    "import pickle\n",
    "\n",
    "from sklearn.preprocessing import StandardScaler, Normalizer\n",
    "from sklearn.pipeline import Pipeline\n",
    "from sklearn.model_selection import RandomizedSearchCV\n",
    "from sklearn.model_selection import GridSearchCV\n",
    "from sklearn.ensemble import RandomForestClassifier\n",
    "from sklearn.neighbors import KNeighborsClassifier\n",
    "from sklearn.svm import SVC\n",
    "import scipy"
   ]
  },
  {
   "cell_type": "code",
   "execution_count": null,
   "metadata": {},
   "outputs": [],
   "source": [
    "features_path = Path.cwd()\n",
    "notebooks_path = features_path.parent\n",
    "repo_path = notebooks_path.parent\n",
    "os.chdir(str(features_path))\n",
    "#print current working directory\n",
    "print(os.getcwd())"
   ]
  },
  {
   "cell_type": "markdown",
   "metadata": {},
   "source": [
    "# Functions"
   ]
  },
  {
   "cell_type": "code",
   "execution_count": 7,
   "metadata": {},
   "outputs": [],
   "source": [
    "def save_pickle(file, filename):\n",
    "    \"\"\"save as pickle\n",
    "\n",
    "    Args:\n",
    "        file (obj): object to save\n",
    "        filename (str): path of the object to save\n",
    "    \"\"\"\n",
    "    with open(filename, 'wb') as handle:\n",
    "        pickle.dump(file, handle, pickle.HIGHEST_PROTOCOL)\n",
    "\n",
    "def open_pickle(filename):\n",
    "    \"\"\"open pickle file\n",
    "\n",
    "    Args:\n",
    "        filename (str): path of pickle file\n",
    "\n",
    "    Returns:\n",
    "        obj: object extracted form pickle\n",
    "    \"\"\"\n",
    "    with open(filename, 'rb') as handle:\n",
    "        return pickle.load(handle)"
   ]
  },
  {
   "cell_type": "code",
   "execution_count": 9,
   "metadata": {},
   "outputs": [],
   "source": [
    "def classifier(method, scaler=StandardScaler(), verbose=4):\n",
    "    \"\"\"get pipe and grid for classifier\n",
    "\n",
    "    Args:\n",
    "        method (str): classifier name\n",
    "        scaler (scikit object, optional): type of scaler. Defaults to StandardScaler().\n",
    "        verbose (int, optional): verbose level. Defaults to 4.\n",
    "\n",
    "    Returns:\n",
    "        _type_: _description_\n",
    "    \"\"\"\n",
    "    #ML Training setting\n",
    "    if(method=='KNN'):\n",
    "        param_grid = {'classifier__n_neighbors': list(range(1,32))}\n",
    "        pipe = Pipeline([('scaler', scaler),('classifier',KNeighborsClassifier())])\n",
    "        grid = GridSearchCV(pipe, param_grid, verbose = verbose)\n",
    "        return grid, pipe\n",
    "    elif(method=='RF'):\n",
    "        param_grid = {'classifier__n_estimators': [100, 200, 400],}\n",
    "        pipe = Pipeline([('scaler', scaler),('classifier',RandomForestClassifier())])\n",
    "        grid = GridSearchCV(pipe, param_grid, verbose = verbose)\n",
    "        return grid, pipe\n",
    "    elif(method=='SVM'):\n",
    "        if(grid=='normal'):\n",
    "            param_grid = {'classifier__C': [0.1, 1, 10, 100],\n",
    "                    'classifier__gamma': [100, 10, 1, 0.1, 0.01, 0.001, 0.0001],\n",
    "                    'classifier__kernel': ['rbf'],'classifier__class_weight':['balanced']}\n",
    "            pipe = Pipeline([('scaler', scaler),('classifier',SVC())])\n",
    "            grid = GridSearchCV(pipe, param_grid, scoring='accuracy', verbose = verbose)\n",
    "            return grid, pipe\n",
    "        elif(grid=='random'):\n",
    "            parameters = {'classifier__C': scipy.stats.expon(scale=10), 'classifier__gamma': scipy.stats.expon(scale=.001), #Parameters for grid search\n",
    "            'classifier__kernel': ['rbf'], 'classifier__class_weight':['balanced']}\n",
    "            pipe = Pipeline([('scaler', scaler),('classifier',SVC())]) #Definition of pipeline\n",
    "            grid = RandomizedSearchCV(pipe, parameters,n_iter=100, scoring='accuracy', verbose=verbose, return_train_score=False) #Random search\n",
    "            return grid, pipe"
   ]
  },
  {
   "cell_type": "markdown",
   "metadata": {},
   "source": [
    "# IMP"
   ]
  },
  {
   "cell_type": "code",
   "execution_count": null,
   "metadata": {},
   "outputs": [],
   "source": [
    "# Read train and valiadation data\n",
    "meta = pd.read_csv('data/meta_info.csv', sep='\\t')"
   ]
  }
 ],
 "metadata": {
  "kernelspec": {
   "display_name": "Python 3.9.12 ('base')",
   "language": "python",
   "name": "python3"
  },
  "language_info": {
   "codemirror_mode": {
    "name": "ipython",
    "version": 3
   },
   "file_extension": ".py",
   "mimetype": "text/x-python",
   "name": "python",
   "nbconvert_exporter": "python",
   "pygments_lexer": "ipython3",
   "version": "3.9.12"
  },
  "orig_nbformat": 4,
  "vscode": {
   "interpreter": {
    "hash": "1c1f01218bbaf8a302f18173488403fcc9591627716b9a07a59bd925307e4c23"
   }
  }
 },
 "nbformat": 4,
 "nbformat_minor": 2
}
