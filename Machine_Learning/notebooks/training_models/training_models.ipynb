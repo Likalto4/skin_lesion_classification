{
 "cells": [
  {
   "cell_type": "markdown",
   "metadata": {},
   "source": [
    "# Libraries"
   ]
  },
  {
   "cell_type": "code",
   "execution_count": 51,
   "metadata": {},
   "outputs": [],
   "source": [
    "import os\n",
    "from pathlib import Path\n",
    "import numpy as np\n",
    "import pickle\n",
    "import pandas as pd\n",
    "import matplotlib.pyplot as plt\n",
    "\n",
    "from sklearn.preprocessing import StandardScaler, Normalizer\n",
    "from sklearn.pipeline import Pipeline\n",
    "from sklearn.model_selection import RandomizedSearchCV\n",
    "from sklearn.model_selection import GridSearchCV\n",
    "from sklearn.ensemble import RandomForestClassifier\n",
    "from sklearn.neighbors import KNeighborsClassifier\n",
    "from sklearn.svm import SVC\n",
    "from sklearn.ensemble import AdaBoostClassifier\n",
    "from sklearn.ensemble import GradientBoostingClassifier\n",
    "from sklearn.decomposition import PCA\n",
    "import scipy\n",
    "from sklearn.metrics import classification_report\n",
    "from sklearn.metrics import confusion_matrix\n",
    "from sklearn.metrics import plot_confusion_matrix\n",
    "from sklearn.model_selection import cross_val_score"
   ]
  },
  {
   "cell_type": "code",
   "execution_count": 52,
   "metadata": {},
   "outputs": [
    {
     "name": "stdout",
     "output_type": "stream",
     "text": [
      "/home/ricardino/Documents/MAIA/tercer_semestre/CAD/Projecte/Machine_Learning/notebooks\n"
     ]
    }
   ],
   "source": [
    "features_path = Path.cwd()\n",
    "notebooks_path = features_path.parent\n",
    "repo_path = notebooks_path.parent\n",
    "os.chdir(str(features_path))\n",
    "#print current working directory\n",
    "print(notebooks_path)"
   ]
  },
  {
   "cell_type": "markdown",
   "metadata": {},
   "source": [
    "# Functions and classes"
   ]
  },
  {
   "cell_type": "code",
   "execution_count": 53,
   "metadata": {},
   "outputs": [],
   "source": [
    "class path_label():\n",
    "    \"\"\"Class to access paths and labels from csv\n",
    "    \"\"\"\n",
    "    def __init__(self, meta=pd.read_csv(str(repo_path) + '/data/meta_info.csv', sep='\\t'), classif='binary', set_name='train') -> None:\n",
    "        meta = meta.loc[meta['classif'] == classif] #Filter by classif\n",
    "        meta = meta.loc[meta['set'] == set_name] #Filter by set\n",
    "        self.paths = list(meta.path)\n",
    "        self. labels = np.array(meta.label)\n",
    "        self.FOV_x1 = np.array(meta.FOV_x1, dtype=np.int16)\n",
    "        self.FOV_x2 = np.array(meta.FOV_x2, dtype=np.int16)\n",
    "        self.FOV_y1 = np.array(meta.FOV_y1, dtype=np.int16)\n",
    "        self.FOV_y2 = np.array(meta.FOV_y2, dtype=np.int16)"
   ]
  },
  {
   "cell_type": "code",
   "execution_count": 54,
   "metadata": {},
   "outputs": [],
   "source": [
    "def save_pickle(file, filename):\n",
    "    \"\"\"save as pickle\n",
    "\n",
    "    Args:\n",
    "        file (obj): object to save\n",
    "        filename (str): path of the object to save\n",
    "    \"\"\"\n",
    "    with open(filename, 'wb') as handle:\n",
    "        pickle.dump(file, handle, pickle.HIGHEST_PROTOCOL)\n",
    "\n",
    "def open_pickle(filename):\n",
    "    \"\"\"open pickle file\n",
    "\n",
    "    Args:\n",
    "        filename (str): path of pickle file\n",
    "\n",
    "    Returns:\n",
    "        obj: object extracted form pickle\n",
    "    \"\"\"\n",
    "    with open(filename, 'rb') as handle:\n",
    "        return pickle.load(handle)"
   ]
  },
  {
   "cell_type": "code",
   "execution_count": 55,
   "metadata": {},
   "outputs": [],
   "source": [
    "def classifier(method, grid_type='normal', scaler=StandardScaler(), reductor_components = [0.99], verbose=4):\n",
    "    \"\"\"get pipe and grid for classifier\n",
    "\n",
    "    Args:\n",
    "        method (str): classifier name\n",
    "        scaler (scikit object, optional): type of scaler. Defaults to StandardScaler().\n",
    "        verbose (int, optional): verbose level. Defaults to 4.\n",
    "\n",
    "    Returns:\n",
    "        _type_: _description_\n",
    "    \"\"\"\n",
    "   #KNN\n",
    "    if(method=='KNN'):\n",
    "        param_grid = {'classifier__n_neighbors': list(range(1,40))}\n",
    "        pipe = Pipeline([('scaler', scaler),('classifier',KNeighborsClassifier())])\n",
    "        grid = GridSearchCV(pipe, param_grid, verbose = verbose)\n",
    "        return grid, pipe\n",
    "    if(method=='KNN_PCA'):\n",
    "        param_grid = {'reductor__n_components': reductor_components, 'classifier__n_neighbors': list(range(1,40))}\n",
    "        pipe = Pipeline([('scaler', scaler),('reductor',PCA()), ('classifier',KNeighborsClassifier())])\n",
    "        grid = GridSearchCV(pipe, param_grid, verbose = verbose)\n",
    "        return grid, pipe\n",
    "    #RF\n",
    "    elif(method=='RF'):\n",
    "        param_grid = {'classifier__n_estimators': [100, 200, 400]}\n",
    "        pipe = Pipeline([('scaler', scaler),('classifier',RandomForestClassifier())])\n",
    "        grid = GridSearchCV(pipe, param_grid, verbose = verbose)\n",
    "        return grid, pipe\n",
    "    \n",
    "    elif(method=='RF_PCA'):\n",
    "        param_grid = {'reductor__n_components': reductor_components,'classifier__n_estimators': [100, 200, 400],}\n",
    "        pipe = Pipeline([('scaler', scaler),('reductor',PCA()), ('classifier',RandomForestClassifier())])\n",
    "        grid = GridSearchCV(pipe, param_grid, scoring='accuracy', verbose = verbose)\n",
    "        return grid, pipe\n",
    "    #SVM\n",
    "    elif(method=='SVM'):\n",
    "        if(grid_type=='normal'):\n",
    "            param_grid = {'classifier__C': [7,8, 9, 10, 11],\n",
    "                    'classifier__gamma': [0.008, 0.009, 0.01, 0.011],\n",
    "                    'classifier__kernel': ['rbf'],'classifier__class_weight':['balanced']}\n",
    "            pipe = Pipeline([('scaler', scaler),('classifier',SVC())])\n",
    "            grid = GridSearchCV(pipe, param_grid, scoring='accuracy', verbose = verbose)\n",
    "            return grid, pipe\n",
    "        elif(grid_type=='random'):\n",
    "            parameters = {'classifier__C': scipy.stats.expon(scale=10), 'classifier__gamma': scipy.stats.expon(scale=.1), #Parameters for grid search\n",
    "            'classifier__kernel': ['rbf'], 'classifier__class_weight':['balanced']}\n",
    "            pipe = Pipeline([('scaler', scaler),('classifier',SVC())]) #Definition of pipeline\n",
    "            grid = RandomizedSearchCV(pipe, parameters,n_iter=20, scoring='accuracy', verbose=verbose, return_train_score=False) #Random search\n",
    "            return grid, pipe\n",
    "    elif(method=='SVM_PCA'):\n",
    "        if(grid_type=='normal'):\n",
    "            param_grid = {'reductor__n_components': reductor_components, 'classifier__C': [0.1, 1, 10, 100],\n",
    "                    'classifier__gamma': [100, 10, 1, 0.1, 0.01, 0.001, 0.0001],\n",
    "                    'classifier__kernel': ['rbf'],'classifier__class_weight':['balanced']}\n",
    "            pipe = Pipeline([('scaler', scaler),('reductor',PCA()), ('classifier',SVC())])\n",
    "            grid = GridSearchCV(pipe, param_grid, scoring='accuracy', verbose = verbose)\n",
    "            return grid, pipe\n",
    "        elif(grid_type=='random'):\n",
    "            parameters = {'reductor__n_components': reductor_components, 'classifier__C': scipy.stats.expon(scale=10), 'classifier__gamma': scipy.stats.expon(scale=.001), #Parameters for grid search\n",
    "            'classifier__kernel': ['rbf'], 'classifier__class_weight':['balanced']}\n",
    "            pipe = Pipeline([('scaler', scaler),('reductor',PCA()), ('classifier',SVC())]) #Definition of pipeline\n",
    "            grid = RandomizedSearchCV(pipe, parameters,n_iter=100, scoring='accuracy', verbose=verbose, return_train_score=False) #Random search\n",
    "            return grid, pipe\n",
    "    #ADA\n",
    "    elif(method=='AdaBoost'):\n",
    "        param_grid = {'classifier__n_estimators': [50,100, 200, 400], 'classifier__learning_rate': [ 0.1, 1,5, 10]}\n",
    "        pipe = Pipeline([('scaler', scaler),('classifier',AdaBoostClassifier())])\n",
    "        grid = GridSearchCV(pipe, param_grid, verbose = verbose)\n",
    "        return grid, pipe\n",
    "    elif(method=='AdaBoost_PCA'):\n",
    "        param_grid = {'reductor__n_components': reductor_components, 'classifier__n_estimators': [50,100, 200, 400], 'classifier__learning_rate': [ 0.1, 1,5, 10]}\n",
    "        pipe = Pipeline([('scaler', scaler),('reductor',PCA()),('classifier',AdaBoostClassifier())])\n",
    "        grid = GridSearchCV(pipe, param_grid, verbose = verbose)\n",
    "        return grid, pipe\n",
    "    #GradientBoosting\n",
    "    elif(method=='GradBoost'):\n",
    "        param_grid = {'classifier__learning_rate': [0.01, 0.1, 1, 10], 'classifier__max_iter': [100, 200, 400]}\n",
    "        pipe = Pipeline([('scaler', scaler), ('classifier',GradientBoostingClassifier())])\n",
    "        grid = GridSearchCV(pipe, param_grid, verbose = verbose)\n",
    "        return grid, pipe\n"
   ]
  },
  {
   "cell_type": "markdown",
   "metadata": {},
   "source": [
    "# IMP"
   ]
  },
  {
   "cell_type": "code",
   "execution_count": 56,
   "metadata": {},
   "outputs": [],
   "source": [
    "def color_data_load(classif, color_space, f_name, NH = True):\n",
    "    # Read train and valiadation data\n",
    "    meta = pd.read_csv(str(repo_path) + '/data/meta_info.csv', sep='\\t') #For labels\n",
    "    f_type = 'color'\n",
    "\n",
    "    #We read the training data\n",
    "    if NH == False:\n",
    "        X_train = open_pickle(str(repo_path)+ f'/data/features/{f_type}/{color_space}/{classif}_train_{f_type}_{f_name}_fv.p')\n",
    "    else:\n",
    "        X_train = open_pickle(str(repo_path)+ f'/data/features/{f_type}/{color_space}/{classif}_train_{f_type}_{f_name}_NH_fv.p')\n",
    "    y_train = path_label(meta, classif, set_name='train').labels\n",
    "    #Print shapes to be sure that dimensions are the same\n",
    "    print(f'The shape of the training data is {X_train.shape} and its labels are {y_train.shape}')\n",
    "\n",
    "    #We read the validation data\n",
    "    if NH == False:\n",
    "        X_val = open_pickle(str(repo_path)+ f'/data/features/{f_type}/{color_space}/{classif}_val_{f_type}_{f_name}_fv.p')\n",
    "    else:\n",
    "        X_val = open_pickle(str(repo_path)+ f'/data/features/{f_type}/{color_space}/{classif}_val_{f_type}_{f_name}_NH_fv.p')\n",
    "    y_val = path_label(meta, classif, set_name='val').labels\n",
    "    print(f'The shape of the valdiation data is {X_val.shape} and its labels are {y_val.shape}')\n",
    "    \n",
    "    return X_train, X_val, y_train, y_val"
   ]
  },
  {
   "cell_type": "code",
   "execution_count": 57,
   "metadata": {},
   "outputs": [],
   "source": [
    "def texture_data_load(classif, f_name, NH = True):\n",
    "    # Read train and valiadation data\n",
    "    meta = pd.read_csv(str(repo_path) + '/data/meta_info.csv', sep='\\t') #For labels\n",
    "    f_type = 'texture'\n",
    "    if NH == False:\n",
    "        X_train = open_pickle(str(repo_path) + f'/data/features/{f_type}/{classif}_train_{f_type}_{f_name}_fv.p')\n",
    "    else:\n",
    "        X_train = open_pickle(str(repo_path) + f'/data/features/{f_type}/{classif}_train_{f_type}_{f_name}_NH_fv.p')\n",
    "    y_train = path_label(meta, classif, set_name='train').labels\n",
    "    if isinstance(X_train, list):\n",
    "        X_train = np.array(X_train)\n",
    "    #Print shapes to be sure that dimensions are the same\n",
    "    print(f'The shape of the training data is {X_train.shape} and its labels are {y_train.shape}')\n",
    "    \n",
    "    #We read the validation data\n",
    "    if NH == False:\n",
    "        X_val = open_pickle(str(repo_path) + f'/data/features/{f_type}/{classif}_val_{f_type}_{f_name}_fv.p')\n",
    "    else:\n",
    "        X_val = open_pickle(str(repo_path) + f'/data/features/{f_type}/{classif}_val_{f_type}_{f_name}_NH_fv.p')\n",
    "    y_val = path_label(meta, classif, set_name='val').labels\n",
    "    if isinstance(X_val, list):\n",
    "        X_val = np.array(X_val)\n",
    "    print(f'The shape of the valdiation data is {X_val.shape} and its labels are {y_val.shape}')\n",
    "    \n",
    "    return X_train, X_val, y_train, y_val"
   ]
  },
  {
   "cell_type": "markdown",
   "metadata": {},
   "source": [
    "## Data load"
   ]
  },
  {
   "cell_type": "code",
   "execution_count": 58,
   "metadata": {},
   "outputs": [],
   "source": [
    "def get_Train_Val_Data(classif, c_name, t_name, NH = True):\n",
    "    #Color data load\n",
    "    color_space = 'RGB'  #To locate feature matrices\n",
    "    c = color_data_load(classif, color_space, c_name, NH) #Get data\n",
    "    #Texture data load\n",
    "    if t_name==None:\n",
    "        t = None\n",
    "        return c\n",
    "    else:\n",
    "        t = texture_data_load(classif, t_name, NH)\n",
    "\n",
    "    #Stack together\n",
    "    X_train = np.hstack((c[0], t[0]))\n",
    "    X_val = np.hstack((c[1], t[1]))\n",
    "    y_train = c[2]\n",
    "    y_val = c[3]\n",
    "    print(f'The shape of the training data is {X_train.shape} and its labels are {y_train.shape}')\n",
    "    print(f'The shape of the valdiation data is {X_val.shape} and its labels are {y_val.shape}')\n",
    "    \n",
    "    return X_train, X_val, y_train, y_val"
   ]
  },
  {
   "cell_type": "code",
   "execution_count": 59,
   "metadata": {},
   "outputs": [
    {
     "name": "stdout",
     "output_type": "stream",
     "text": [
      "The shape of the training data is (15195, 54) and its labels are (15195,)\n",
      "The shape of the valdiation data is (3796, 54) and its labels are (3796,)\n",
      "The shape of the training data is (15195, 75) and its labels are (15195,)\n",
      "The shape of the valdiation data is (3796, 75) and its labels are (3796,)\n",
      "The shape of the training data is (15195, 129) and its labels are (15195,)\n",
      "The shape of the valdiation data is (3796, 129) and its labels are (3796,)\n"
     ]
    }
   ],
   "source": [
    "classif = 'binary'\n",
    "c_name = 'ColorStats'\n",
    "#c_name = 'hist_256_fv_noFOV'\n",
    "t_name = 'All_texture'\n",
    "X_train, X_val, y_train, y_val = get_Train_Val_Data(classif, c_name, t_name, NH=False)"
   ]
  },
  {
   "cell_type": "markdown",
   "metadata": {},
   "source": [
    "## Training and testing"
   ]
  },
  {
   "cell_type": "code",
   "execution_count": 60,
   "metadata": {},
   "outputs": [
    {
     "name": "stdout",
     "output_type": "stream",
     "text": [
      "Fitting 5 folds for each of 20 candidates, totalling 100 fits\n",
      "[CV 1/5] END classifier__C=7, classifier__class_weight=balanced, classifier__gamma=0.008, classifier__kernel=rbf;, score=0.861 total time=   9.1s\n",
      "[CV 2/5] END classifier__C=7, classifier__class_weight=balanced, classifier__gamma=0.008, classifier__kernel=rbf;, score=0.842 total time=   9.0s\n",
      "[CV 3/5] END classifier__C=7, classifier__class_weight=balanced, classifier__gamma=0.008, classifier__kernel=rbf;, score=0.782 total time=   7.9s\n",
      "[CV 4/5] END classifier__C=7, classifier__class_weight=balanced, classifier__gamma=0.008, classifier__kernel=rbf;, score=0.727 total time=  13.3s\n",
      "[CV 5/5] END classifier__C=7, classifier__class_weight=balanced, classifier__gamma=0.008, classifier__kernel=rbf;, score=0.763 total time=  11.4s\n",
      "[CV 1/5] END classifier__C=7, classifier__class_weight=balanced, classifier__gamma=0.009, classifier__kernel=rbf;, score=0.858 total time=  10.8s\n",
      "[CV 2/5] END classifier__C=7, classifier__class_weight=balanced, classifier__gamma=0.009, classifier__kernel=rbf;, score=0.841 total time=   9.4s\n",
      "[CV 3/5] END classifier__C=7, classifier__class_weight=balanced, classifier__gamma=0.009, classifier__kernel=rbf;, score=0.781 total time=   8.3s\n",
      "[CV 4/5] END classifier__C=7, classifier__class_weight=balanced, classifier__gamma=0.009, classifier__kernel=rbf;, score=0.727 total time=   8.3s\n",
      "[CV 5/5] END classifier__C=7, classifier__class_weight=balanced, classifier__gamma=0.009, classifier__kernel=rbf;, score=0.767 total time=   8.2s\n",
      "[CV 1/5] END classifier__C=7, classifier__class_weight=balanced, classifier__gamma=0.01, classifier__kernel=rbf;, score=0.860 total time=   9.1s\n",
      "[CV 2/5] END classifier__C=7, classifier__class_weight=balanced, classifier__gamma=0.01, classifier__kernel=rbf;, score=0.841 total time=   9.3s\n",
      "[CV 3/5] END classifier__C=7, classifier__class_weight=balanced, classifier__gamma=0.01, classifier__kernel=rbf;, score=0.780 total time=   8.3s\n",
      "[CV 4/5] END classifier__C=7, classifier__class_weight=balanced, classifier__gamma=0.01, classifier__kernel=rbf;, score=0.729 total time=   7.7s\n",
      "[CV 5/5] END classifier__C=7, classifier__class_weight=balanced, classifier__gamma=0.01, classifier__kernel=rbf;, score=0.769 total time=   8.1s\n",
      "[CV 1/5] END classifier__C=7, classifier__class_weight=balanced, classifier__gamma=0.011, classifier__kernel=rbf;, score=0.859 total time=   8.8s\n",
      "[CV 2/5] END classifier__C=7, classifier__class_weight=balanced, classifier__gamma=0.011, classifier__kernel=rbf;, score=0.842 total time=   9.2s\n",
      "[CV 3/5] END classifier__C=7, classifier__class_weight=balanced, classifier__gamma=0.011, classifier__kernel=rbf;, score=0.780 total time=   8.1s\n",
      "[CV 4/5] END classifier__C=7, classifier__class_weight=balanced, classifier__gamma=0.011, classifier__kernel=rbf;, score=0.731 total time=   7.7s\n",
      "[CV 5/5] END classifier__C=7, classifier__class_weight=balanced, classifier__gamma=0.011, classifier__kernel=rbf;, score=0.769 total time=   8.1s\n",
      "[CV 1/5] END classifier__C=8, classifier__class_weight=balanced, classifier__gamma=0.008, classifier__kernel=rbf;, score=0.858 total time=   9.4s\n",
      "[CV 2/5] END classifier__C=8, classifier__class_weight=balanced, classifier__gamma=0.008, classifier__kernel=rbf;, score=0.841 total time=   8.7s\n",
      "[CV 3/5] END classifier__C=8, classifier__class_weight=balanced, classifier__gamma=0.008, classifier__kernel=rbf;, score=0.783 total time=   7.9s\n",
      "[CV 4/5] END classifier__C=8, classifier__class_weight=balanced, classifier__gamma=0.008, classifier__kernel=rbf;, score=0.727 total time=   7.9s\n",
      "[CV 5/5] END classifier__C=8, classifier__class_weight=balanced, classifier__gamma=0.008, classifier__kernel=rbf;, score=0.764 total time=   7.6s\n",
      "[CV 1/5] END classifier__C=8, classifier__class_weight=balanced, classifier__gamma=0.009, classifier__kernel=rbf;, score=0.859 total time=   8.7s\n",
      "[CV 2/5] END classifier__C=8, classifier__class_weight=balanced, classifier__gamma=0.009, classifier__kernel=rbf;, score=0.842 total time=   8.6s\n",
      "[CV 3/5] END classifier__C=8, classifier__class_weight=balanced, classifier__gamma=0.009, classifier__kernel=rbf;, score=0.780 total time=   8.3s\n",
      "[CV 4/5] END classifier__C=8, classifier__class_weight=balanced, classifier__gamma=0.009, classifier__kernel=rbf;, score=0.729 total time=   7.6s\n",
      "[CV 5/5] END classifier__C=8, classifier__class_weight=balanced, classifier__gamma=0.009, classifier__kernel=rbf;, score=0.769 total time=   8.1s\n",
      "[CV 1/5] END classifier__C=8, classifier__class_weight=balanced, classifier__gamma=0.01, classifier__kernel=rbf;, score=0.859 total time=   9.3s\n",
      "[CV 2/5] END classifier__C=8, classifier__class_weight=balanced, classifier__gamma=0.01, classifier__kernel=rbf;, score=0.841 total time=   9.0s\n",
      "[CV 3/5] END classifier__C=8, classifier__class_weight=balanced, classifier__gamma=0.01, classifier__kernel=rbf;, score=0.782 total time=   8.6s\n",
      "[CV 4/5] END classifier__C=8, classifier__class_weight=balanced, classifier__gamma=0.01, classifier__kernel=rbf;, score=0.731 total time=   7.8s\n",
      "[CV 5/5] END classifier__C=8, classifier__class_weight=balanced, classifier__gamma=0.01, classifier__kernel=rbf;, score=0.768 total time=   8.4s\n",
      "[CV 1/5] END classifier__C=8, classifier__class_weight=balanced, classifier__gamma=0.011, classifier__kernel=rbf;, score=0.858 total time=   8.9s\n",
      "[CV 2/5] END classifier__C=8, classifier__class_weight=balanced, classifier__gamma=0.011, classifier__kernel=rbf;, score=0.842 total time=   8.9s\n",
      "[CV 3/5] END classifier__C=8, classifier__class_weight=balanced, classifier__gamma=0.011, classifier__kernel=rbf;, score=0.779 total time=   8.0s\n",
      "[CV 4/5] END classifier__C=8, classifier__class_weight=balanced, classifier__gamma=0.011, classifier__kernel=rbf;, score=0.730 total time=   8.1s\n",
      "[CV 5/5] END classifier__C=8, classifier__class_weight=balanced, classifier__gamma=0.011, classifier__kernel=rbf;, score=0.768 total time=   8.1s\n",
      "[CV 1/5] END classifier__C=9, classifier__class_weight=balanced, classifier__gamma=0.008, classifier__kernel=rbf;, score=0.858 total time=   8.5s\n",
      "[CV 2/5] END classifier__C=9, classifier__class_weight=balanced, classifier__gamma=0.008, classifier__kernel=rbf;, score=0.840 total time=   8.4s\n",
      "[CV 3/5] END classifier__C=9, classifier__class_weight=balanced, classifier__gamma=0.008, classifier__kernel=rbf;, score=0.781 total time=   8.6s\n",
      "[CV 4/5] END classifier__C=9, classifier__class_weight=balanced, classifier__gamma=0.008, classifier__kernel=rbf;, score=0.728 total time=   7.7s\n",
      "[CV 5/5] END classifier__C=9, classifier__class_weight=balanced, classifier__gamma=0.008, classifier__kernel=rbf;, score=0.767 total time=   8.1s\n",
      "[CV 1/5] END classifier__C=9, classifier__class_weight=balanced, classifier__gamma=0.009, classifier__kernel=rbf;, score=0.859 total time=  11.0s\n",
      "[CV 2/5] END classifier__C=9, classifier__class_weight=balanced, classifier__gamma=0.009, classifier__kernel=rbf;, score=0.841 total time=   9.8s\n",
      "[CV 3/5] END classifier__C=9, classifier__class_weight=balanced, classifier__gamma=0.009, classifier__kernel=rbf;, score=0.779 total time=   8.4s\n",
      "[CV 4/5] END classifier__C=9, classifier__class_weight=balanced, classifier__gamma=0.009, classifier__kernel=rbf;, score=0.729 total time=   7.6s\n",
      "[CV 5/5] END classifier__C=9, classifier__class_weight=balanced, classifier__gamma=0.009, classifier__kernel=rbf;, score=0.767 total time=   8.0s\n",
      "[CV 1/5] END classifier__C=9, classifier__class_weight=balanced, classifier__gamma=0.01, classifier__kernel=rbf;, score=0.858 total time=   8.6s\n",
      "[CV 2/5] END classifier__C=9, classifier__class_weight=balanced, classifier__gamma=0.01, classifier__kernel=rbf;, score=0.841 total time=   8.9s\n",
      "[CV 3/5] END classifier__C=9, classifier__class_weight=balanced, classifier__gamma=0.01, classifier__kernel=rbf;, score=0.782 total time=   8.5s\n",
      "[CV 4/5] END classifier__C=9, classifier__class_weight=balanced, classifier__gamma=0.01, classifier__kernel=rbf;, score=0.730 total time=   8.6s\n",
      "[CV 5/5] END classifier__C=9, classifier__class_weight=balanced, classifier__gamma=0.01, classifier__kernel=rbf;, score=0.768 total time=   7.9s\n",
      "[CV 1/5] END classifier__C=9, classifier__class_weight=balanced, classifier__gamma=0.011, classifier__kernel=rbf;, score=0.855 total time=   9.2s\n",
      "[CV 2/5] END classifier__C=9, classifier__class_weight=balanced, classifier__gamma=0.011, classifier__kernel=rbf;, score=0.844 total time=   8.9s\n",
      "[CV 3/5] END classifier__C=9, classifier__class_weight=balanced, classifier__gamma=0.011, classifier__kernel=rbf;, score=0.778 total time=   8.3s\n",
      "[CV 4/5] END classifier__C=9, classifier__class_weight=balanced, classifier__gamma=0.011, classifier__kernel=rbf;, score=0.728 total time=   7.6s\n",
      "[CV 5/5] END classifier__C=9, classifier__class_weight=balanced, classifier__gamma=0.011, classifier__kernel=rbf;, score=0.769 total time=   8.3s\n",
      "[CV 1/5] END classifier__C=10, classifier__class_weight=balanced, classifier__gamma=0.008, classifier__kernel=rbf;, score=0.857 total time=   9.1s\n",
      "[CV 2/5] END classifier__C=10, classifier__class_weight=balanced, classifier__gamma=0.008, classifier__kernel=rbf;, score=0.842 total time=   8.8s\n",
      "[CV 3/5] END classifier__C=10, classifier__class_weight=balanced, classifier__gamma=0.008, classifier__kernel=rbf;, score=0.780 total time=   8.0s\n",
      "[CV 4/5] END classifier__C=10, classifier__class_weight=balanced, classifier__gamma=0.008, classifier__kernel=rbf;, score=0.727 total time=   7.7s\n",
      "[CV 5/5] END classifier__C=10, classifier__class_weight=balanced, classifier__gamma=0.008, classifier__kernel=rbf;, score=0.766 total time=   7.9s\n",
      "[CV 1/5] END classifier__C=10, classifier__class_weight=balanced, classifier__gamma=0.009, classifier__kernel=rbf;, score=0.859 total time=   9.0s\n",
      "[CV 2/5] END classifier__C=10, classifier__class_weight=balanced, classifier__gamma=0.009, classifier__kernel=rbf;, score=0.841 total time=   9.0s\n",
      "[CV 3/5] END classifier__C=10, classifier__class_weight=balanced, classifier__gamma=0.009, classifier__kernel=rbf;, score=0.782 total time=   8.7s\n",
      "[CV 4/5] END classifier__C=10, classifier__class_weight=balanced, classifier__gamma=0.009, classifier__kernel=rbf;, score=0.731 total time=   8.1s\n",
      "[CV 5/5] END classifier__C=10, classifier__class_weight=balanced, classifier__gamma=0.009, classifier__kernel=rbf;, score=0.768 total time=   8.2s\n",
      "[CV 1/5] END classifier__C=10, classifier__class_weight=balanced, classifier__gamma=0.01, classifier__kernel=rbf;, score=0.857 total time=  10.3s\n",
      "[CV 2/5] END classifier__C=10, classifier__class_weight=balanced, classifier__gamma=0.01, classifier__kernel=rbf;, score=0.841 total time=   9.7s\n",
      "[CV 3/5] END classifier__C=10, classifier__class_weight=balanced, classifier__gamma=0.01, classifier__kernel=rbf;, score=0.779 total time=   8.7s\n",
      "[CV 4/5] END classifier__C=10, classifier__class_weight=balanced, classifier__gamma=0.01, classifier__kernel=rbf;, score=0.728 total time=   9.3s\n",
      "[CV 5/5] END classifier__C=10, classifier__class_weight=balanced, classifier__gamma=0.01, classifier__kernel=rbf;, score=0.769 total time=   9.6s\n",
      "[CV 1/5] END classifier__C=10, classifier__class_weight=balanced, classifier__gamma=0.011, classifier__kernel=rbf;, score=0.854 total time=  10.4s\n",
      "[CV 2/5] END classifier__C=10, classifier__class_weight=balanced, classifier__gamma=0.011, classifier__kernel=rbf;, score=0.843 total time=  10.4s\n",
      "[CV 3/5] END classifier__C=10, classifier__class_weight=balanced, classifier__gamma=0.011, classifier__kernel=rbf;, score=0.777 total time=   9.8s\n",
      "[CV 4/5] END classifier__C=10, classifier__class_weight=balanced, classifier__gamma=0.011, classifier__kernel=rbf;, score=0.731 total time=   9.5s\n",
      "[CV 5/5] END classifier__C=10, classifier__class_weight=balanced, classifier__gamma=0.011, classifier__kernel=rbf;, score=0.770 total time=   9.4s\n",
      "[CV 1/5] END classifier__C=11, classifier__class_weight=balanced, classifier__gamma=0.008, classifier__kernel=rbf;, score=0.857 total time=   9.8s\n",
      "[CV 2/5] END classifier__C=11, classifier__class_weight=balanced, classifier__gamma=0.008, classifier__kernel=rbf;, score=0.842 total time=   8.9s\n",
      "[CV 3/5] END classifier__C=11, classifier__class_weight=balanced, classifier__gamma=0.008, classifier__kernel=rbf;, score=0.779 total time=   8.7s\n",
      "[CV 4/5] END classifier__C=11, classifier__class_weight=balanced, classifier__gamma=0.008, classifier__kernel=rbf;, score=0.728 total time=   7.8s\n",
      "[CV 5/5] END classifier__C=11, classifier__class_weight=balanced, classifier__gamma=0.008, classifier__kernel=rbf;, score=0.765 total time=   8.0s\n",
      "[CV 1/5] END classifier__C=11, classifier__class_weight=balanced, classifier__gamma=0.009, classifier__kernel=rbf;, score=0.859 total time=   9.7s\n",
      "[CV 2/5] END classifier__C=11, classifier__class_weight=balanced, classifier__gamma=0.009, classifier__kernel=rbf;, score=0.842 total time=   9.9s\n",
      "[CV 3/5] END classifier__C=11, classifier__class_weight=balanced, classifier__gamma=0.009, classifier__kernel=rbf;, score=0.782 total time=   9.7s\n",
      "[CV 4/5] END classifier__C=11, classifier__class_weight=balanced, classifier__gamma=0.009, classifier__kernel=rbf;, score=0.730 total time=   8.7s\n",
      "[CV 5/5] END classifier__C=11, classifier__class_weight=balanced, classifier__gamma=0.009, classifier__kernel=rbf;, score=0.768 total time=   8.2s\n",
      "[CV 1/5] END classifier__C=11, classifier__class_weight=balanced, classifier__gamma=0.01, classifier__kernel=rbf;, score=0.857 total time=   9.3s\n",
      "[CV 2/5] END classifier__C=11, classifier__class_weight=balanced, classifier__gamma=0.01, classifier__kernel=rbf;, score=0.842 total time=  10.5s\n",
      "[CV 3/5] END classifier__C=11, classifier__class_weight=balanced, classifier__gamma=0.01, classifier__kernel=rbf;, score=0.778 total time=   9.6s\n",
      "[CV 4/5] END classifier__C=11, classifier__class_weight=balanced, classifier__gamma=0.01, classifier__kernel=rbf;, score=0.729 total time=   9.1s\n",
      "[CV 5/5] END classifier__C=11, classifier__class_weight=balanced, classifier__gamma=0.01, classifier__kernel=rbf;, score=0.768 total time=   9.3s\n",
      "[CV 1/5] END classifier__C=11, classifier__class_weight=balanced, classifier__gamma=0.011, classifier__kernel=rbf;, score=0.855 total time=  11.4s\n",
      "[CV 2/5] END classifier__C=11, classifier__class_weight=balanced, classifier__gamma=0.011, classifier__kernel=rbf;, score=0.844 total time=   9.9s\n",
      "[CV 3/5] END classifier__C=11, classifier__class_weight=balanced, classifier__gamma=0.011, classifier__kernel=rbf;, score=0.780 total time=   9.3s\n",
      "[CV 4/5] END classifier__C=11, classifier__class_weight=balanced, classifier__gamma=0.011, classifier__kernel=rbf;, score=0.731 total time=   8.5s\n",
      "[CV 5/5] END classifier__C=11, classifier__class_weight=balanced, classifier__gamma=0.011, classifier__kernel=rbf;, score=0.768 total time=   8.8s\n",
      "0.8269230769230769\n"
     ]
    }
   ],
   "source": [
    "grid, pipe = classifier('SVM', grid_type='normal', scaler=StandardScaler(), verbose=4)\n",
    "model = grid.fit(X_train,y_train)\n",
    "save_pickle(model, str(repo_path) + f'/data/models/{classif}_{pipe.steps[-1][-1]}_{c_name}_{t_name}.p') #Save model\n",
    "y_pred = model.predict(X_val) #predict\n",
    "acc = np.mean(y_pred == y_val) #accuracy\n",
    "print(acc)"
   ]
  },
  {
   "cell_type": "code",
   "execution_count": 61,
   "metadata": {},
   "outputs": [
    {
     "name": "stdout",
     "output_type": "stream",
     "text": [
      "              precision    recall  f1-score   support\n",
      "\n",
      "         0.0       0.82      0.82      0.82      1865\n",
      "         1.0       0.83      0.83      0.83      1931\n",
      "\n",
      "    accuracy                           0.83      3796\n",
      "   macro avg       0.83      0.83      0.83      3796\n",
      "weighted avg       0.83      0.83      0.83      3796\n",
      "\n"
     ]
    },
    {
     "name": "stderr",
     "output_type": "stream",
     "text": [
      "/home/ricardino/anaconda3/lib/python3.9/site-packages/sklearn/utils/deprecation.py:87: FutureWarning: Function plot_confusion_matrix is deprecated; Function `plot_confusion_matrix` is deprecated in 1.0 and will be removed in 1.2. Use one of the class methods: ConfusionMatrixDisplay.from_predictions or ConfusionMatrixDisplay.from_estimator.\n",
      "  warnings.warn(msg, category=FutureWarning)\n"
     ]
    },
    {
     "data": {
      "text/plain": [
       "<sklearn.metrics._plot.confusion_matrix.ConfusionMatrixDisplay at 0x7fc7a1ebcfd0>"
      ]
     },
     "execution_count": 61,
     "metadata": {},
     "output_type": "execute_result"
    },
    {
     "data": {
      "image/png": "[encoded data removed]",
      "text/plain": [
       "<Figure size 432x288 with 2 Axes>"
      ]
     },
     "metadata": {
      "needs_background": "light"
     },
     "output_type": "display_data"
    }
   ],
   "source": [
    "print(classification_report(y_val, y_pred))\n",
    "#scores = cross_val_score(model, X_val, y_val, cv=5)\n",
    "plot_confusion_matrix(model, X_val, y_val, cmap=plt.cm.Blues, normalize='true')"
   ]
  },
  {
   "cell_type": "code",
   "execution_count": 62,
   "metadata": {},
   "outputs": [
    {
     "data": {
      "text/plain": [
       "Pipeline(steps=[('scaler', StandardScaler()),\n",
       "                ('classifier',\n",
       "                 SVC(C=10, class_weight='balanced', gamma=0.009))])"
      ]
     },
     "execution_count": 62,
     "metadata": {},
     "output_type": "execute_result"
    }
   ],
   "source": [
    "model.best_estimator_"
   ]
  },
  {
   "cell_type": "code",
   "execution_count": 63,
   "metadata": {},
   "outputs": [
    {
     "name": "stdout",
     "output_type": "stream",
     "text": [
      "0.8287671232876712\n"
     ]
    }
   ],
   "source": [
    "pipe2 = pipe = Pipeline([('scaler', StandardScaler()),('classifier',SVC(C = 8, gamma = 0.011, kernel = 'rbf'))])\n",
    "model = pipe2.fit(X_train,y_train)\n",
    "y_pred = model.predict(X_val) #predict\n",
    "acc = np.mean(y_pred == y_val) #accuracy\n",
    "print(acc)"
   ]
  }
 ],
 "metadata": {
  "kernelspec": {
   "display_name": "Python 3.9.12 ('base')",
   "language": "python",
   "name": "python3"
  },
  "language_info": {
   "codemirror_mode": {
    "name": "ipython",
    "version": 3
   },
   "file_extension": ".py",
   "mimetype": "text/x-python",
   "name": "python",
   "nbconvert_exporter": "python",
   "pygments_lexer": "ipython3",
   "version": "3.9.12"
  },
  "orig_nbformat": 4,
  "vscode": {
   "interpreter": {
    "hash": "1c1f01218bbaf8a302f18173488403fcc9591627716b9a07a59bd925307e4c23"
   }
  }
 },
 "nbformat": 4,
 "nbformat_minor": 2
}
