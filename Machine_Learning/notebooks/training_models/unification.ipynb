{
 "cells": [
  {
   "cell_type": "markdown",
   "metadata": {},
   "source": [
    "# Libreries"
   ]
  },
  {
   "cell_type": "code",
   "execution_count": 2,
   "metadata": {},
   "outputs": [],
   "source": [
    "import pandas as pd\n",
    "import os\n",
    "from pathlib import Path"
   ]
  },
  {
   "cell_type": "code",
   "execution_count": 3,
   "metadata": {},
   "outputs": [
    {
     "name": "stdout",
     "output_type": "stream",
     "text": [
      "/home/ricardino/Documents/MAIA/tercer_semestre/CAD/Projecte/Machine_Learning/notebooks\n"
     ]
    }
   ],
   "source": [
    "features_path = Path.cwd()\n",
    "notebooks_path = features_path.parent\n",
    "repo_path = notebooks_path.parent\n",
    "os.chdir(str(features_path))\n",
    "#print current working directory\n",
    "print(notebooks_path)"
   ]
  },
  {
   "cell_type": "markdown",
   "metadata": {},
   "source": [
    "# IMP"
   ]
  },
  {
   "cell_type": "code",
   "execution_count": 4,
   "metadata": {},
   "outputs": [],
   "source": [
    "#Open cvs file\n",
    "kappa_1 = pd.read_csv(str(repo_path) + '/data/3_classes_SVC_2_1128.csv')\n",
    "kappa_2 = pd.read_csv(str(repo_path) + '/data/3_classes_SVC_1993.csv')\n",
    "best_label2 = pd.read_csv(str(repo_path) + '/data/3_classes_SVC_1000.csv')"
   ]
  },
  {
   "cell_type": "code",
   "execution_count": 27,
   "metadata": {},
   "outputs": [],
   "source": [
    "\n",
    "def unify_labels(kappa_1, kappa_2, best_label2):\n",
    "    #Merge all dataframes\n",
    "    df = pd.concat([kappa_1, kappa_2, best_label2], axis=1)\n",
    "    #rename columns\n",
    "    df.columns = ['kappa_1', 'kappa_2', 'best_label2']\n",
    "    #Create a new column with the majority vote\n",
    "    df['majority_vote'] = df.mode(axis=1)[0]\n",
    "    #save in new column same labels as majority vote but change to 2 if 2 is present in any of the 3 columns\n",
    "    df['new_label'] = df['majority_vote']\n",
    "    df.loc[(df['kappa_1'] == 2) | (df['kappa_2'] == 2) | (df['best_label2'] == 2), 'new_label'] = 2\n",
    "    #Save csv file\n",
    "    df.to_csv(str(repo_path) + '/data/3_classes_SVC_unified.csv', index=False)\n",
    "    #drop all columns except new_label\n",
    "    df = df.drop(['kappa_1', 'kappa_2', 'best_label2', 'majority_vote'], axis=1)\n",
    "    \n",
    "    \n",
    "    return df"
   ]
  },
  {
   "cell_type": "code",
   "execution_count": 34,
   "metadata": {},
   "outputs": [
    {
     "name": "stdout",
     "output_type": "stream",
     "text": [
      "int64\n",
      "     id  new_label\n",
      "0   NaN        0.0\n",
      "1   NaN        0.0\n",
      "2   NaN        0.0\n",
      "3   NaN        0.0\n",
      "4   NaN        0.0\n",
      "..   ..        ...\n",
      "221 NaN        0.0\n",
      "222 NaN        0.0\n",
      "223 NaN        1.0\n",
      "224 NaN        0.0\n",
      "225 NaN        0.0\n",
      "\n",
      "[226 rows x 2 columns]\n"
     ]
    }
   ],
   "source": [
    "save = True\n",
    "name = '3_classes_results'\n",
    "\n",
    "classif = '3_classes'\n",
    "meta = pd.read_csv(str(repo_path) + '/data/meta_test.csv', sep='\\t') #For labels\n",
    "\n",
    "meta = meta.loc[meta['classif'] == classif] #Filter by classif\n",
    "meta = meta.loc[meta['set'] == 'test'] #Filter by set\n",
    "\n",
    "final_label = unify_labels(kappa_1, kappa_2, best_label2)\n",
    "print(meta['num'].dtype)\n",
    "final_label.insert(0, 'id', meta['num'])\n",
    "print(final_label)\n",
    "#save as csv\n",
    "#final_label.to_csv(str(repo_path) + f'/data/{name}.csv', index=False) if save==True else print('No save')"
   ]
  },
  {
   "cell_type": "code",
   "execution_count": 36,
   "metadata": {},
   "outputs": [],
   "source": [
    "final_label = unify_labels(kappa_1, kappa_2, best_label2)\n",
    "#count elements in each class\n",
    "count = final_label['new_label'].value_counts()"
   ]
  },
  {
   "cell_type": "code",
   "execution_count": 37,
   "metadata": {},
   "outputs": [
    {
     "data": {
      "text/plain": [
       "0.0    163\n",
       "1.0     44\n",
       "2.0     19\n",
       "Name: new_label, dtype: int64"
      ]
     },
     "execution_count": 37,
     "metadata": {},
     "output_type": "execute_result"
    }
   ],
   "source": [
    "count"
   ]
  },
  {
   "cell_type": "code",
   "execution_count": 25,
   "metadata": {},
   "outputs": [
    {
     "data": {
      "text/plain": [
       "0      0.0\n",
       "1      0.0\n",
       "2      0.0\n",
       "3      0.0\n",
       "4      0.0\n",
       "      ... \n",
       "221    0.0\n",
       "222    0.0\n",
       "223    1.0\n",
       "224    0.0\n",
       "225    0.0\n",
       "Name: new_label, Length: 226, dtype: float64"
      ]
     },
     "execution_count": 25,
     "metadata": {},
     "output_type": "execute_result"
    }
   ],
   "source": [
    "final_label"
   ]
  }
 ],
 "metadata": {
  "kernelspec": {
   "display_name": "Python 3.9.12 ('base')",
   "language": "python",
   "name": "python3"
  },
  "language_info": {
   "codemirror_mode": {
    "name": "ipython",
    "version": 3
   },
   "file_extension": ".py",
   "mimetype": "text/x-python",
   "name": "python",
   "nbconvert_exporter": "python",
   "pygments_lexer": "ipython3",
   "version": "3.9.12"
  },
  "orig_nbformat": 4,
  "vscode": {
   "interpreter": {
    "hash": "1c1f01218bbaf8a302f18173488403fcc9591627716b9a07a59bd925307e4c23"
   }
  }
 },
 "nbformat": 4,
 "nbformat_minor": 2
}
