{
 "cells": [
  {
   "cell_type": "markdown",
   "metadata": {},
   "source": [
    "# Libraries"
   ]
  },
  {
   "cell_type": "code",
   "execution_count": 52,
   "metadata": {},
   "outputs": [],
   "source": [
    "from pathlib import Path\n",
    "import os\n",
    "import pickle\n",
    "from tqdm import tqdm\n",
    "import pandas as pd\n",
    "import numpy as np\n",
    "import cv2 as cv\n",
    "import matplotlib.pyplot as plt\n",
    "\n",
    "from sklearn.preprocessing import StandardScaler, Normalizer\n",
    "from sklearn.pipeline import Pipeline\n",
    "from sklearn.model_selection import RandomizedSearchCV\n",
    "from sklearn.model_selection import GridSearchCV\n",
    "from sklearn.ensemble import RandomForestClassifier\n",
    "from sklearn.neighbors import KNeighborsClassifier\n",
    "from sklearn.svm import SVC\n",
    "from sklearn.ensemble import AdaBoostClassifier\n",
    "from sklearn.ensemble import GradientBoostingClassifier\n",
    "from sklearn.decomposition import PCA\n",
    "from sklearn.linear_model import SGDClassifier\n",
    "from xgboost import XGBClassifier\n",
    "\n",
    "import scipy\n",
    "from sklearn.metrics import classification_report\n",
    "from sklearn.metrics import confusion_matrix, ConfusionMatrixDisplay\n",
    "from sklearn.model_selection import cross_val_score\n",
    "from sklearn.metrics import cohen_kappa_score\n",
    "\n",
    "from sklearn.preprocessing import LabelEncoder\n",
    "from sklearn.metrics import RocCurveDisplay"
   ]
  },
  {
   "cell_type": "code",
   "execution_count": 2,
   "metadata": {},
   "outputs": [
    {
     "name": "stdout",
     "output_type": "stream",
     "text": [
      "Current folder is: /home/ricardino/Documents/MAIA/tercer_semestre/CAD/Projecte/Machine_Learning/notebooks/training_models\n",
      "\n"
     ]
    }
   ],
   "source": [
    "subfolder_path = Path.cwd()\n",
    "notebooks_path = subfolder_path.parent\n",
    "repo_path = notebooks_path.parent\n",
    "os.chdir(str(subfolder_path))\n",
    "#print current working directory\n",
    "print(f'Current folder is: {os.getcwd()}\\n')\n",
    "thispath = Path.cwd().resolve()\n",
    "import sys; sys.path.insert(0, str(thispath.parent.parent)) if sys.path[0] != str(thispath.parent.parent) else None\n",
    "\n",
    "#Import paths and patients classes\n",
    "from notebooks.info import path_label, patient\n"
   ]
  },
  {
   "cell_type": "markdown",
   "metadata": {},
   "source": [
    "# Functions"
   ]
  },
  {
   "cell_type": "markdown",
   "metadata": {},
   "source": [
    "## Utils"
   ]
  },
  {
   "cell_type": "code",
   "execution_count": 3,
   "metadata": {},
   "outputs": [],
   "source": [
    "#print 3 channel image given its numpy array\n",
    "def show_image_3channels(image):\n",
    "    \"\"\"Print 3 channel image given its numpy array\n",
    "    \"\"\"\n",
    "    plt.figure(figsize=(10,10))\n",
    "    plt.imshow(image)\n",
    "    plt.show()\n",
    "    \n",
    "#functio to save file as pickle\n",
    "def save_as_pickle(file, filename):\n",
    "    \"\"\"Save file as pickle\n",
    "    \"\"\"\n",
    "    with open(filename, 'wb') as f:\n",
    "        pickle.dump(file, f, pickle.HIGHEST_PROTOCOL)\n",
    "def load_pickle(filename):\n",
    "    \"\"\"Load pickle file\n",
    "    \"\"\"\n",
    "    with open(filename, 'rb') as f:\n",
    "        return pickle.load(f)"
   ]
  },
  {
   "cell_type": "markdown",
   "metadata": {},
   "source": [
    "## Classifiers"
   ]
  },
  {
   "cell_type": "code",
   "execution_count": 4,
   "metadata": {},
   "outputs": [],
   "source": [
    "def classifier_grid(method, grid_type='normal', scaler=StandardScaler(), reductor_components = [0.99], verbose=4):\n",
    "    \"\"\"get pipe and grid for classifier\n",
    "\n",
    "    Args:\n",
    "        method (str): classifier name\n",
    "        scaler (scikit object, optional): type of scaler. Defaults to StandardScaler().\n",
    "        verbose (int, optional): verbose level. Defaults to 4.\n",
    "\n",
    "    Returns:\n",
    "        _type_: _description_\n",
    "    \"\"\"\n",
    "   #KNN\n",
    "    if(method=='KNN'):\n",
    "        param_grid = {'classifier__n_neighbors': list(range(1,32))}\n",
    "        pipe = Pipeline([('scaler', scaler),('classifier',KNeighborsClassifier())])\n",
    "        grid = GridSearchCV(pipe, param_grid, verbose = verbose)\n",
    "        return grid, pipe\n",
    "    if(method=='KNN_PCA'):\n",
    "        param_grid = {'reductor__n_components': reductor_components, 'classifier__n_neighbors': list(range(1,32))}\n",
    "        pipe = Pipeline([('scaler', scaler),('reductor',PCA()), ('classifier',KNeighborsClassifier())])\n",
    "        grid = GridSearchCV(pipe, param_grid, verbose = verbose)\n",
    "        return grid, pipe\n",
    "    #RF\n",
    "    elif(method=='RF'):\n",
    "        param_grid = {'classifier__n_estimators': [100, 200, 400]}\n",
    "        pipe = Pipeline([('scaler', scaler),('classifier',RandomForestClassifier())])\n",
    "        grid = GridSearchCV(pipe, param_grid, verbose = verbose)\n",
    "        return grid, pipe\n",
    "    \n",
    "    elif(method=='RF_PCA'):\n",
    "        param_grid = {'reductor__n_components': reductor_components,'classifier__n_estimators': [100, 200, 400],}\n",
    "        pipe = Pipeline([('scaler', scaler),('reductor',PCA()), ('classifier',RandomForestClassifier())])\n",
    "        grid = GridSearchCV(pipe, param_grid, scoring='accuracy', verbose = verbose)\n",
    "        return grid, pipe\n",
    "    #SVM\n",
    "    elif(method=='SVM'):\n",
    "        if(grid_type=='normal'):\n",
    "            param_grid = {'classifier__C': [1, 10, 100, 1000],\n",
    "                    'classifier__gamma': [0.1, 0.01, 0.001, 0.0001],\n",
    "                    'classifier__kernel': ['rbf']}\n",
    "            pipe = Pipeline([('scaler', scaler),('classifier',SVC())])\n",
    "            grid = GridSearchCV(pipe, param_grid, scoring='accuracy', verbose = verbose)\n",
    "            return grid, pipe\n",
    "        elif(grid_type=='random'):\n",
    "            parameters = {'classifier__C': scipy.stats.expon(scale=10), 'classifier__gamma': scipy.stats.expon(scale=.1), #Parameters for grid search\n",
    "            'classifier__kernel': ['rbf'], 'classifier__class_weight':['balanced']}\n",
    "            pipe = Pipeline([('scaler', scaler),('classifier',SVC())]) #Definition of pipeline\n",
    "            grid = RandomizedSearchCV(pipe, parameters,n_iter=20, scoring='accuracy', verbose=verbose, return_train_score=False) #Random search\n",
    "            return grid, pipe\n",
    "    elif(method=='SVM_PCA'):\n",
    "        if(grid_type=='normal'):\n",
    "            param_grid = {'reductor__n_components': reductor_components, 'classifier__C': [1, 10, 100],\n",
    "                    'classifier__gamma': [1, 0.1, 0.01, 0.001, 0.0001],\n",
    "                    'classifier__kernel': ['rbf'],'classifier__class_weight':['balanced']}\n",
    "            pipe = Pipeline([('scaler', scaler),('reductor',PCA()), ('classifier',SVC())])\n",
    "            grid = GridSearchCV(pipe, param_grid, scoring='accuracy', verbose = verbose)\n",
    "            return grid, pipe\n",
    "        elif(grid_type=='random'):\n",
    "            parameters = {'reductor__n_components': reductor_components, 'classifier__C': scipy.stats.expon(scale=10), 'classifier__gamma': scipy.stats.expon(scale=.1), #Parameters for grid search\n",
    "            'classifier__kernel': ['rbf'], 'classifier__class_weight':['balanced']}\n",
    "            pipe = Pipeline([('scaler', scaler),('reductor',PCA()), ('classifier',SVC())]) #Definition of pipeline\n",
    "            grid = RandomizedSearchCV(pipe, parameters,n_iter=100, scoring='accuracy', verbose=verbose, return_train_score=False) #Random search\n",
    "            return grid, pipe\n",
    "    #ADA\n",
    "    elif(method=='AdaBoost'):\n",
    "        param_grid = {'classifier__n_estimators': [50,100, 200, 400], 'classifier__learning_rate': [ 0.1, 1,5, 10]}\n",
    "        pipe = Pipeline([('scaler', scaler),('classifier',AdaBoostClassifier())])\n",
    "        grid = GridSearchCV(pipe, param_grid, verbose = verbose)\n",
    "        return grid, pipe\n",
    "    elif(method=='AdaBoost_PCA'):\n",
    "        param_grid = {'reductor__n_components': reductor_components, 'classifier__n_estimators': [50,100, 200, 400], 'classifier__learning_rate': [ 0.1, 1,5, 10]}\n",
    "        pipe = Pipeline([('scaler', scaler),('reductor',PCA()),('classifier',AdaBoostClassifier())])\n",
    "        grid = GridSearchCV(pipe, param_grid, verbose = verbose)\n",
    "        return grid, pipe\n",
    "    #GradientBoosting\n",
    "    elif(method=='GradBoost'):\n",
    "        param_grid = {'classifier__learning_rate': [0.01, 0.1, 1, 10], 'classifier__max_iter': [100, 200, 400]}\n",
    "        pipe = Pipeline([('scaler', scaler), ('classifier',GradientBoostingClassifier())])\n",
    "        grid = GridSearchCV(pipe, param_grid, verbose = verbose)\n",
    "        return grid, pipe\n",
    "    #XGBoost\n",
    "    elif(method == 'XGBoost'):\n",
    "        param_grid = {'classifier__max_depth': range (2, 10, 1), 'classifier__n_estimators': range(600, 1000, 200), 'classifier__learning_rate': [0.1, 0.01, 0.05]}\n",
    "        pipe = Pipeline([('scaler', scaler), ('classifier',XGBClassifier())])\n",
    "        grid = GridSearchCV(pipe, param_grid, verbose = verbose)\n",
    "        return grid, pipe\n"
   ]
  },
  {
   "cell_type": "markdown",
   "metadata": {},
   "source": [
    "## Data loading"
   ]
  },
  {
   "cell_type": "code",
   "execution_count": 5,
   "metadata": {},
   "outputs": [],
   "source": [
    "def get_XandY(classif, set_name, fname):\n",
    "    \"\"\"Get X and y values for any data set\n",
    "\n",
    "    Args:\n",
    "        classif (str): binary or multiclass\n",
    "        set_name (str): _description_\n",
    "        ftype (str): _description_\n",
    "        fname (str): _description_\n",
    "\n",
    "    Returns:\n",
    "        _type_: _description_\n",
    "    \"\"\"\n",
    "    info = path_label(classif=classif, set_name=set_name)\n",
    "    #Load features and labels\n",
    "    path1 = str(repo_path) + f'/data/features/texture/{classif}_{set_name}_{fname}_fv.p'\n",
    "    path2 = str(repo_path) + f'/data/features/color/{classif}_{set_name}_{fname}_fv.p'\n",
    "    X_data = load_pickle(path1) if Path(path1).exists() else load_pickle(path2)\n",
    "    y_data = info.labels\n",
    "\n",
    "    return X_data, y_data\n",
    "\n",
    "def get_X(classif, set_name, fname):\n",
    "    \"\"\"Get X values for any data set\n",
    "\n",
    "    Args:\n",
    "        classif (str): binary or multiclass\n",
    "        set_name (str): _description_\n",
    "        ftype (str): _description_\n",
    "        fname (str): _description_\n",
    "\n",
    "    Returns:\n",
    "        _type_: _description_\n",
    "    \"\"\"\n",
    "    \n",
    "    #Load features and labels\n",
    "    path1 = str(repo_path) + f'/data/features/texture/{classif}_{set_name}_{fname}_fv.p'\n",
    "    path2 = str(repo_path) + f'/data/features/color/{classif}_{set_name}_{fname}_fv.p'\n",
    "    X_data = load_pickle(path1) if Path(path1).exists() else load_pickle(path2)\n",
    "    \n",
    "    return X_data\n",
    "\n",
    "def get_trainVal(classif, flist):\n",
    "    \"\"\"returns train and validation data\n",
    "\n",
    "    Args:\n",
    "        classif (st): binary or multiclass\n",
    "        flist (list): list of features\n",
    "\n",
    "    Returns:\n",
    "        4 arrays: 4 arrays of train and validation data\n",
    "    \"\"\"\n",
    "    X_train_tot = []\n",
    "    X_val_tot = []\n",
    "    for fname in flist:\n",
    "        X_train, y_train = get_XandY(classif, 'train', fname)\n",
    "        X_val, y_val = get_XandY(classif, 'val', fname)\n",
    "        \n",
    "        X_train_tot.append(X_train)\n",
    "        X_val_tot.append(X_val)\n",
    "    \n",
    "    X_train_tot = np.concatenate(X_train_tot, axis=1)\n",
    "    X_val_tot = np.concatenate(X_val_tot, axis=1)\n",
    "    \n",
    "    return X_train_tot, y_train, X_val_tot, y_val\n",
    "\n",
    "def get_test(classif, flist):\n",
    "    \"\"\"returns train and validation data\n",
    "\n",
    "    Args:\n",
    "        classif (st): binary or multiclass\n",
    "        flist (list): list of features\n",
    "\n",
    "    Returns:\n",
    "        4 arrays: 4 arrays of train and validation data\n",
    "    \"\"\"\n",
    "    X_test_tot = []\n",
    "    for fname in flist:\n",
    "        X_test = get_X(classif, 'test', fname)\n",
    "        \n",
    "        X_test_tot.append(X_test)\n",
    "    \n",
    "    X_test_tot = np.concatenate(X_test_tot, axis=1)\n",
    "    \n",
    "    return X_test_tot"
   ]
  },
  {
   "cell_type": "code",
   "execution_count": 6,
   "metadata": {},
   "outputs": [],
   "source": [
    "def ml_pipeline(classif, fname, classifier, grid_search, verbose=4):\n",
    "        \n",
    "    #Get X and y values\n",
    "    X_train, y_train, X_val, y_val = get_trainVal(classif, fname)\n",
    "    #Define classifier\n",
    "    grid, _ = classifier_grid(classifier, grid_search, scaler=StandardScaler(), verbose=verbose)\n",
    "    #train classifier\n",
    "    model = grid.fit(X_train,y_train)\n",
    "    #Save model\n",
    "    save_as_pickle(model, str(repo_path) + f'/data/models/{classif}_{classifier}_{grid_search}_{fname}.p')\n",
    "    #Predict for validation\n",
    "    y_pred = model.predict(X_val)\n",
    "    #Get metrics\n",
    "    acc = np.mean(y_pred == y_val)\n",
    "    print(f'The accuracy of the model is: {acc}')\n",
    "    ConfusionMatrixDisplay.from_estimator(model, X_val, y_val, cmap='Blues', normalize='true')\n",
    "    plt.show()\n",
    "    return y_pred, X_val, y_val, model"
   ]
  },
  {
   "cell_type": "markdown",
   "metadata": {},
   "source": [
    "# IMP"
   ]
  },
  {
   "cell_type": "code",
   "execution_count": 15,
   "metadata": {},
   "outputs": [
    {
     "name": "stdout",
     "output_type": "stream",
     "text": [
      "The accuracy of the model is: 0.8519494204425712\n"
     ]
    },
    {
     "data": {
      "image/png": "[encoded data removed]",
      "text/plain": [
       "<Figure size 432x288 with 2 Axes>"
      ]
     },
     "metadata": {
      "needs_background": "light"
     },
     "output_type": "display_data"
    }
   ],
   "source": [
    "classif = 'binary'\n",
    "#fname = ['RGBColorStats_WH', 'Alltexture_WH']\n",
    "fname = ['mainstats_NH', 'Alltexture_WH', 'lbp_NH']\n",
    "classifier = 'SVM'\n",
    "grid_search = 'normal'\n",
    "verbose = 4\n",
    "\n",
    "#Get X and y values\n",
    "X_train, y_train, X_val, y_val = get_trainVal(classif, fname)\n",
    "#Define classifier\n",
    "grid, _ = classifier_grid(classifier, grid_search, scaler=StandardScaler(), verbose=verbose)\n",
    "# #train classifier\n",
    "# model = grid.fit(X_train,y_train)\n",
    "# #Save model\n",
    "# save_as_pickle(model, str(repo_path) + f'/data/models/{classif}_{classifier}_{grid_search}_{fname}.p')\n",
    "# #Predict for validation\n",
    "y_pred = model.predict(X_val)\n",
    "#Get metrics\n",
    "acc = np.mean(y_pred == y_val)\n",
    "print(f'The accuracy of the model is: {acc}')\n",
    "ConfusionMatrixDisplay.from_estimator(model, X_val, y_val, cmap='Blues', normalize='true')\n",
    "plt.show()"
   ]
  },
  {
   "cell_type": "markdown",
   "metadata": {},
   "source": [
    "# Crete prediction for test set"
   ]
  },
  {
   "cell_type": "code",
   "execution_count": 39,
   "metadata": {},
   "outputs": [],
   "source": [
    "def prediction(classif, X_test, model, save=False, name = 'binary_results'):\n",
    "    \"\"\"makes prediction for test set and saves it in a csv file\n",
    "\n",
    "    Args:\n",
    "        X_test (np array): testing features\n",
    "        model (_type_): _description_\n",
    "        save (bool, optional): _description_. Defaults to False.\n",
    "        name (str, optional): _description_. Defaults to 'binary_results'.\n",
    "\n",
    "    Returns:\n",
    "        _type_: _description_\n",
    "    \"\"\"\n",
    "#prediction\n",
    "    y_pred_test = model.predict(X_test) #predict\n",
    "    y_pred_test = LabelEncoder().fit_transform(y_pred_test) #transform to 0 and 1 integers\n",
    "    #invert elements 0 and 1 in vector\n",
    "    y_pred_test[y_pred_test == 0] = 2\n",
    "    y_pred_test[y_pred_test == 1] = 0\n",
    "    y_pred_test[y_pred_test == 2] = 1\n",
    "    #count elements in array\n",
    "\n",
    "    unique, counts = np.unique(y_pred_test, return_counts=True)\n",
    "    print(f'Elements: {unique} and counts: {counts}')\n",
    "\n",
    "    meta = pd.read_csv(str(repo_path) + '/data/meta_info.csv', sep='\\t') #For labels\n",
    "    meta = meta.loc[meta['classif'] == classif] #Filter by classif\n",
    "    meta = meta.loc[meta['set'] == 'test'] #Filter by set\n",
    "\n",
    "    y_pred_test_pd = pd.DataFrame(y_pred_test, columns=['label'])\n",
    "    #save as excel\n",
    "    y_pred_test_pd.to_excel(str(repo_path) + f'/data/{name}.xlsx', index=False, header = False) if save==True else print('No save')\n",
    "    \n",
    "    return y_pred_test_pd"
   ]
  },
  {
   "cell_type": "code",
   "execution_count": 45,
   "metadata": {},
   "outputs": [
    {
     "name": "stdout",
     "output_type": "stream",
     "text": [
      "Elements: [0 1] and counts: [3270 3070]\n"
     ]
    }
   ],
   "source": [
    "fname = ['mainstats_NH', 'Alltexture_WH', 'lbp_NH']\n",
    "classifier = 'SVM'\n",
    "#Get test features\n",
    "X_test = get_test(classif, fname)\n",
    "#Charge model\n",
    "model = load_pickle(str(repo_path) + f'/data/models/{classif}_{classifier}_{grid_search}_{fname}.p')\n",
    "#Predict\n",
    "y_pred_test_pd = prediction(classif, X_test, model, save=True, name = f'best_binary_results')"
   ]
  },
  {
   "cell_type": "code",
   "execution_count": 55,
   "metadata": {},
   "outputs": [
    {
     "name": "stdout",
     "output_type": "stream",
     "text": [
      "              precision    recall  f1-score   support\n",
      "\n",
      "         0.0       0.85      0.84      0.85      1865\n",
      "         1.0       0.85      0.86      0.86      1931\n",
      "\n",
      "    accuracy                           0.85      3796\n",
      "   macro avg       0.85      0.85      0.85      3796\n",
      "weighted avg       0.85      0.85      0.85      3796\n",
      "\n"
     ]
    },
    {
     "data": {
      "text/plain": [
       "<sklearn.metrics._plot.roc_curve.RocCurveDisplay at 0x7f3c03f3f520>"
      ]
     },
     "execution_count": 55,
     "metadata": {},
     "output_type": "execute_result"
    },
    {
     "data": {
      "image/png": "[encoded data removed]",
      "text/plain": [
       "<Figure size 432x288 with 1 Axes>"
      ]
     },
     "metadata": {
      "needs_background": "light"
     },
     "output_type": "display_data"
    }
   ],
   "source": [
    "print(classification_report(y_val, y_pred))\n",
    "RocCurveDisplay.from_estimator(model, X_val, y_val)"
   ]
  },
  {
   "cell_type": "markdown",
   "metadata": {},
   "source": [
    "# Kappa check"
   ]
  },
  {
   "cell_type": "code",
   "execution_count": 47,
   "metadata": {},
   "outputs": [
    {
     "ename": "AttributeError",
     "evalue": "'DataFrame' object has no attribute 'labels'",
     "output_type": "error",
     "traceback": [
      "\u001b[0;31m---------------------------------------------------------------------------\u001b[0m",
      "\u001b[0;31mAttributeError\u001b[0m                            Traceback (most recent call last)",
      "\u001b[1;32m/home/ricardino/Documents/MAIA/tercer_semestre/CAD/Projecte/Machine_Learning/notebooks/training_models/model_trainingTesting.ipynb Cell 18\u001b[0m in \u001b[0;36m<cell line: 8>\u001b[0;34m()\u001b[0m\n\u001b[1;32m      <a href='vscode-notebook-cell:/home/ricardino/Documents/MAIA/tercer_semestre/CAD/Projecte/Machine_Learning/notebooks/training_models/model_trainingTesting.ipynb#X35sZmlsZQ%3D%3D?line=4'>5</a>\u001b[0m old_results \u001b[39m=\u001b[39m pd\u001b[39m.\u001b[39mread_csv(\u001b[39mstr\u001b[39m(repo_path) \u001b[39m+\u001b[39m \u001b[39m'\u001b[39m\u001b[39m/data/results/binary_results_notbest.csv\u001b[39m\u001b[39m'\u001b[39m)\n\u001b[1;32m      <a href='vscode-notebook-cell:/home/ricardino/Documents/MAIA/tercer_semestre/CAD/Projecte/Machine_Learning/notebooks/training_models/model_trainingTesting.ipynb#X35sZmlsZQ%3D%3D?line=6'>7</a>\u001b[0m binary_results\u001b[39m.\u001b[39mvalues\n\u001b[0;32m----> <a href='vscode-notebook-cell:/home/ricardino/Documents/MAIA/tercer_semestre/CAD/Projecte/Machine_Learning/notebooks/training_models/model_trainingTesting.ipynb#X35sZmlsZQ%3D%3D?line=7'>8</a>\u001b[0m cohen_kappa_score(binary_results\u001b[39m.\u001b[39;49mlabels\u001b[39m.\u001b[39mvalues, old_results\u001b[39m.\u001b[39mvalues)\n",
      "File \u001b[0;32m~/anaconda3/lib/python3.9/site-packages/pandas/core/generic.py:5575\u001b[0m, in \u001b[0;36mNDFrame.__getattr__\u001b[0;34m(self, name)\u001b[0m\n\u001b[1;32m   5568\u001b[0m \u001b[39mif\u001b[39;00m (\n\u001b[1;32m   5569\u001b[0m     name \u001b[39mnot\u001b[39;00m \u001b[39min\u001b[39;00m \u001b[39mself\u001b[39m\u001b[39m.\u001b[39m_internal_names_set\n\u001b[1;32m   5570\u001b[0m     \u001b[39mand\u001b[39;00m name \u001b[39mnot\u001b[39;00m \u001b[39min\u001b[39;00m \u001b[39mself\u001b[39m\u001b[39m.\u001b[39m_metadata\n\u001b[1;32m   5571\u001b[0m     \u001b[39mand\u001b[39;00m name \u001b[39mnot\u001b[39;00m \u001b[39min\u001b[39;00m \u001b[39mself\u001b[39m\u001b[39m.\u001b[39m_accessors\n\u001b[1;32m   5572\u001b[0m     \u001b[39mand\u001b[39;00m \u001b[39mself\u001b[39m\u001b[39m.\u001b[39m_info_axis\u001b[39m.\u001b[39m_can_hold_identifiers_and_holds_name(name)\n\u001b[1;32m   5573\u001b[0m ):\n\u001b[1;32m   5574\u001b[0m     \u001b[39mreturn\u001b[39;00m \u001b[39mself\u001b[39m[name]\n\u001b[0;32m-> 5575\u001b[0m \u001b[39mreturn\u001b[39;00m \u001b[39mobject\u001b[39;49m\u001b[39m.\u001b[39;49m\u001b[39m__getattribute__\u001b[39;49m(\u001b[39mself\u001b[39;49m, name)\n",
      "\u001b[0;31mAttributeError\u001b[0m: 'DataFrame' object has no attribute 'labels'"
     ]
    }
   ],
   "source": [
    "#read csv files with predictions\n",
    "binary_results = pd.read_excel(str(repo_path) + '/data/best_binary_results.xlsx')\n",
    "#read xlsx file with labels\n",
    "alex_results = pd.read_excel(str(repo_path) + '/data/results/Cortina_Yalcin_binary_results2.xlsx', header=None)\n",
    "old_results = pd.read_csv(str(repo_path) + '/data/results/binary_results_notbest.csv')\n",
    "\n",
    "binary_results.values\n",
    "cohen_kappa_score(binary_results.labels.values, old_results.values)"
   ]
  },
  {
   "cell_type": "code",
   "execution_count": 44,
   "metadata": {},
   "outputs": [
    {
     "data": {
      "text/html": [
       "<div>\n",
       "<style scoped>\n",
       "    .dataframe tbody tr th:only-of-type {\n",
       "        vertical-align: middle;\n",
       "    }\n",
       "\n",
       "    .dataframe tbody tr th {\n",
       "        vertical-align: top;\n",
       "    }\n",
       "\n",
       "    .dataframe thead th {\n",
       "        text-align: right;\n",
       "    }\n",
       "</style>\n",
       "<table border=\"1\" class=\"dataframe\">\n",
       "  <thead>\n",
       "    <tr style=\"text-align: right;\">\n",
       "      <th></th>\n",
       "      <th>0</th>\n",
       "      <th>1</th>\n",
       "    </tr>\n",
       "  </thead>\n",
       "  <tbody>\n",
       "    <tr>\n",
       "      <th>0</th>\n",
       "      <td>id</td>\n",
       "      <td>label</td>\n",
       "    </tr>\n",
       "    <tr>\n",
       "      <th>1</th>\n",
       "      <td>1</td>\n",
       "      <td>0.0</td>\n",
       "    </tr>\n",
       "    <tr>\n",
       "      <th>2</th>\n",
       "      <td>2</td>\n",
       "      <td>0.0</td>\n",
       "    </tr>\n",
       "    <tr>\n",
       "      <th>3</th>\n",
       "      <td>3</td>\n",
       "      <td>0.0</td>\n",
       "    </tr>\n",
       "    <tr>\n",
       "      <th>4</th>\n",
       "      <td>4</td>\n",
       "      <td>1.0</td>\n",
       "    </tr>\n",
       "    <tr>\n",
       "      <th>...</th>\n",
       "      <td>...</td>\n",
       "      <td>...</td>\n",
       "    </tr>\n",
       "    <tr>\n",
       "      <th>6336</th>\n",
       "      <td>6336</td>\n",
       "      <td>1.0</td>\n",
       "    </tr>\n",
       "    <tr>\n",
       "      <th>6337</th>\n",
       "      <td>6337</td>\n",
       "      <td>1.0</td>\n",
       "    </tr>\n",
       "    <tr>\n",
       "      <th>6338</th>\n",
       "      <td>6338</td>\n",
       "      <td>1.0</td>\n",
       "    </tr>\n",
       "    <tr>\n",
       "      <th>6339</th>\n",
       "      <td>6339</td>\n",
       "      <td>0.0</td>\n",
       "    </tr>\n",
       "    <tr>\n",
       "      <th>6340</th>\n",
       "      <td>6340</td>\n",
       "      <td>1.0</td>\n",
       "    </tr>\n",
       "  </tbody>\n",
       "</table>\n",
       "<p>6341 rows × 2 columns</p>\n",
       "</div>"
      ],
      "text/plain": [
       "         0      1\n",
       "0       id  label\n",
       "1        1    0.0\n",
       "2        2    0.0\n",
       "3        3    0.0\n",
       "4        4    1.0\n",
       "...    ...    ...\n",
       "6336  6336    1.0\n",
       "6337  6337    1.0\n",
       "6338  6338    1.0\n",
       "6339  6339    0.0\n",
       "6340  6340    1.0\n",
       "\n",
       "[6341 rows x 2 columns]"
      ]
     },
     "execution_count": 44,
     "metadata": {},
     "output_type": "execute_result"
    }
   ],
   "source": [
    "old_results"
   ]
  }
 ],
 "metadata": {
  "kernelspec": {
   "display_name": "Python 3.9.12 ('base')",
   "language": "python",
   "name": "python3"
  },
  "language_info": {
   "codemirror_mode": {
    "name": "ipython",
    "version": 3
   },
   "file_extension": ".py",
   "mimetype": "text/x-python",
   "name": "python",
   "nbconvert_exporter": "python",
   "pygments_lexer": "ipython3",
   "version": "3.9.12"
  },
  "orig_nbformat": 4,
  "vscode": {
   "interpreter": {
    "hash": "1c1f01218bbaf8a302f18173488403fcc9591627716b9a07a59bd925307e4c23"
   }
  }
 },
 "nbformat": 4,
 "nbformat_minor": 2
}
