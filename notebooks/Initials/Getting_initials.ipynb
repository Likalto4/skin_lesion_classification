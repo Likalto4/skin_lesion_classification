{
 "cells": [
  {
   "cell_type": "markdown",
   "metadata": {},
   "source": [
    "# Libraries"
   ]
  },
  {
   "cell_type": "code",
   "execution_count": 5,
   "metadata": {},
   "outputs": [],
   "source": [
    "import os, os.path\n",
    "import numpy as np\n",
    "from pathlib import Path\n",
    "\n",
    "import pandas as pd"
   ]
  },
  {
   "cell_type": "markdown",
   "metadata": {},
   "source": [
    "# Functions"
   ]
  },
  {
   "cell_type": "markdown",
   "metadata": {},
   "source": [
    "## Directory"
   ]
  },
  {
   "cell_type": "code",
   "execution_count": 6,
   "metadata": {},
   "outputs": [],
   "source": [
    "def main_directory(place='local'):\n",
    "    \"\"\"This function is to set the path of the working place, depending if we are working online or local\n",
    "\n",
    "    Args:\n",
    "        place (str): Name of the place. Two options. Defaults to 'local'.\n",
    "    \"\"\"\n",
    "    if (place=='local'):\n",
    "        os.chdir('/home/ricardino/Documents/MAIA/tercer_semestre/CAD/Projecte_1')\n",
    "    elif (place=='online'):\n",
    "        os.chdir('/content/drive/MyDrive/MAIA/3rd_semester/CAD/Projecte_1')\n",
    "    else:\n",
    "        print('Not accepted working place, try again')\n",
    "        \n",
    "    return os.getcwd()\n",
    "\n",
    "# Set working directory\n",
    "main_path = main_directory(place='local')"
   ]
  },
  {
   "cell_type": "markdown",
   "metadata": {},
   "source": [
    "## Retrive paths"
   ]
  },
  {
   "cell_type": "code",
   "execution_count": 198,
   "metadata": {},
   "outputs": [],
   "source": [
    "def get_paths(classif, set_name, class_name):\n",
    "    \"\"\"This function extracts the paths of all files in a folder, given the classifiation problem (binary, 3-class), the set name (train-val-test), and the class name\n",
    "    (endpoint) of the diagnosis.\n",
    "    It returns a list with all the paths in string.\n",
    "\n",
    "    Args:\n",
    "        classif (str): binary or 3-class\n",
    "        set_name (str): train, val or test\n",
    "        class_name (str): lesions name (nevus, etc.)\n",
    "    \"\"\"\n",
    "    #path of the folder to check   \n",
    "    folder_path = main_path + f'/images/{classif}/{set_name}/{class_name}'\n",
    "    p = Path(folder_path).relative_to(main_path).glob('**/*')\n",
    "    files = [x for x in p if x.is_file()]\n",
    "    p = Path(folder_path).relative_to(main_path).glob('**/*')\n",
    "    classes = [str(x.name)[:3] for x in p if x.is_file()]\n",
    "    \n",
    "    return files, classes\n",
    "\n",
    "\n",
    "def info_dataframe(classif, set_name, class_name):\n",
    "    \"\"\"Returns df with Path, classification, set and class information\n",
    "\n",
    "    Args:\n",
    "        classif (_type_): _description_\n",
    "        set_name (_type_): _description_\n",
    "        class_name (_type_): _description_\n",
    "\n",
    "    Returns:\n",
    "        _type_: _description_\n",
    "    \"\"\"\n",
    "    df = pd.DataFrame() #Save paths in df\n",
    "    paths_list, classes = get_paths(classif, set_name, class_name) #Estract paths and classes\n",
    "    paths = pd.DataFrame({ #save in frame\n",
    "        'path': paths_list, \n",
    "        'class': classes\n",
    "    })\n",
    "    paths = paths.sort_values('path') #Sort paths by alphabetic order\n",
    "    df = pd.concat([df,paths], ignore_index=True) #Concatenate with previous info\n",
    "    df['classif'] = f'{classif}'\n",
    "    df['set'] = f'{set_name}'\n",
    "    \n",
    "    #Assigning label\n",
    "    if classif=='binary':\n",
    "        df.loc[df['class'] =='nev', 'label'] = 1\n",
    "        df.loc[df['class'] !='nev', 'label'] = 0\n",
    "    if classif=='3_classes':\n",
    "        df.loc[df['class'] =='bcc', 'label'] = 0\n",
    "        df.loc[df['class'] =='mel', 'label'] = 1\n",
    "        df.loc[df['class'] =='scc', 'label'] = 2\n",
    "        \n",
    "    \n",
    "    return df"
   ]
  },
  {
   "cell_type": "markdown",
   "metadata": {},
   "source": [
    "# Getting Metadata"
   ]
  },
  {
   "cell_type": "code",
   "execution_count": 210,
   "metadata": {},
   "outputs": [],
   "source": [
    "#Set classification task\n",
    "classif_list = ['binary','3_classes']\n",
    "set_list = ['train','val']\n",
    "\n",
    "allInfo_df = pd.DataFrame() #Empty dataframe\n",
    "for classif in classif_list:    \n",
    "    for set_name in set_list:\n",
    "        if classif=='binary':\n",
    "            class_list = ['nevus', 'others']\n",
    "        else:\n",
    "            class_list = ['bcc', 'mel', 'scc']\n",
    "        for class_name in class_list:\n",
    "\n",
    "            currentInfo = info_dataframe(classif, set_name, class_name)\n",
    "            allInfo_df = pd.concat([allInfo_df,currentInfo], ignore_index=True)\n",
    "\n",
    "allInfo_df['ID'] = allInfo_df.index\n",
    "allInfo_df.to_csv('data/meta_info.csv', sep='\\t', index=False)"
   ]
  },
  {
   "cell_type": "markdown",
   "metadata": {},
   "source": [
    "# Creating class to manipulate metadata"
   ]
  },
  {
   "cell_type": "markdown",
   "metadata": {},
   "source": [
    "## Classes"
   ]
  },
  {
   "cell_type": "code",
   "execution_count": 249,
   "metadata": {},
   "outputs": [],
   "source": [
    "class path_label():\n",
    "    def __init__(self, meta, classif, set_name) -> None:\n",
    "        meta = meta.loc[meta['classif'] == classif] #Filter by classif\n",
    "        meta = meta.loc[meta['set'] == set_name] #Filter by set\n",
    "        self.paths = list(meta.path)\n",
    "        self. labels = np.array(meta.label)"
   ]
  },
  {
   "cell_type": "markdown",
   "metadata": {},
   "source": [
    "## Implementation"
   ]
  },
  {
   "cell_type": "code",
   "execution_count": 236,
   "metadata": {},
   "outputs": [],
   "source": [
    "#Read metadata file\n",
    "meta = pd.read_csv('data/meta_info.csv', sep='\\t')"
   ]
  },
  {
   "cell_type": "code",
   "execution_count": 254,
   "metadata": {},
   "outputs": [],
   "source": [
    "classif='binary'; set_name='train' #Situation\n",
    "#Definition of information object\n",
    "info = path_label(meta, classif, set_name)\n",
    "\n"
   ]
  }
 ],
 "metadata": {
  "kernelspec": {
   "display_name": "Python 3.9.12 ('base')",
   "language": "python",
   "name": "python3"
  },
  "language_info": {
   "codemirror_mode": {
    "name": "ipython",
    "version": 3
   },
   "file_extension": ".py",
   "mimetype": "text/x-python",
   "name": "python",
   "nbconvert_exporter": "python",
   "pygments_lexer": "ipython3",
   "version": "3.9.12"
  },
  "orig_nbformat": 4,
  "vscode": {
   "interpreter": {
    "hash": "1c1f01218bbaf8a302f18173488403fcc9591627716b9a07a59bd925307e4c23"
   }
  }
 },
 "nbformat": 4,
 "nbformat_minor": 2
}
