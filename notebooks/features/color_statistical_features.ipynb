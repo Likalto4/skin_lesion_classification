{
 "cells": [
  {
   "cell_type": "code",
   "execution_count": 2,
   "metadata": {},
   "outputs": [],
   "source": [
    "import numpy as np\n",
    "import radiomics\n",
    "from radiomics import featureextractor\n",
    "\n"
   ]
  },
  {
   "cell_type": "code",
   "execution_count": null,
   "metadata": {},
   "outputs": [],
   "source": [
    "#### GLCM\n",
    "\n",
    "def extractor_setting(feature_names):\n",
    "  \"\"\"\n",
    "  Settings of the feature extraction\n",
    "  \n",
    "  :param feature_names: list of the names of the features to be extracted\n",
    "      e.g. features_names = ['JointEnergy', 'Contrast','Correlation']\n",
    "  :return: extractor with pre-defined settings and the # of features (length of feature_names)\n",
    "  \"\"\"\n",
    "\n",
    "  settings = {}\n",
    "  settings['binWidth'] = 1 #To ensure a 1 pixel width for the histogram once the image has been requantized to 8 gray levels.\n",
    "  settings['correctMask'] = True #To ensure the mask and the image are in the same coordinates\n",
    "  # Instantiate the extractor\n",
    "  extractor = featureextractor.RadiomicsFeatureExtractor(**settings)\n",
    "  extractor.disableAllFeatures()\n",
    "  #extractor.enableFeatureClassByName('glcm') #Enable all GLCM features\n",
    "  extractor.enableFeaturesByName(glcm=feature_names)\n",
    "  num_features = len(feature_names)\n",
    "  print('Extraction parameters:\\n\\t', extractor.settings)\n",
    "  print('Enabled filters:\\n\\t', extractor.enabledImagetypes)\n",
    "  print('Enabled features:\\n\\t', extractor.enabledFeatures)\n",
    "  return extractor, num_features\n",
    "\n",
    "def GLCM_feature_im(img_path, extractor, num_features):\n",
    "  \"\"\"\n",
    "  Description: Extract GLCM features from an image. Requantization to 8 gray levels.\n",
    "\n",
    "  :param img_path: Path of image from which the features willbe obtain\n",
    "  :param extractor: Pyradiomics extractor defined in function extractor_settings\n",
    "  :param num_features: # of features given by function extractor_settings.\n",
    "  :return: feature vector\n",
    "  \"\"\"\n",
    "\n",
    "  #Read image\n",
    "  img = cv.cvtColor(cv.imread(img_path),cv.COLOR_BGR2GRAY)#Read and to grayscale\n",
    "  im = np.uint8(np.digitize(img, np.arange(0,256, 32))) - 1 #Normalize to 8 gray level\n",
    "  im_im = sitk.GetImageFromArray(im) #Pass to sitk objet\n",
    "  #mask\n",
    "  mask = np.ones(im.shape).astype(np.uint8) #Create maskwith same shape as image\n",
    "  mask[-1,-1]=0 #Hack to allow full image segmentation. Last value is set to 0 so it wont be counted in the GLCM computation\n",
    "  mask_im = sitk.GetImageFromArray(mask) #Pass to sitk object\n",
    "  #Extract\n",
    "  result = extractor.execute(im_im,mask_im) # Extract features\n",
    "  features = np.array(list(result.values())[-num_features:]) #save as array\n",
    "  return features\n",
    "\n",
    "def GLCM_for_folder(paths, f, tt, mag, num_features, extractor):\n",
    "  \"\"\"\n",
    "  Definition: Extract feature vector for all images in a folder, saved as a pickle numpy matrix\n",
    "\n",
    "  :param paths: paths of images\n",
    "  :param f: fold number-1\n",
    "  :param tt: train or test encoded\n",
    "  :param mag: magnification encoded using dictionary\n",
    "  :param num_features: Number of features ot be extracted. It defines the size of the feature matrix\n",
    "  :param extractor: Pyradiomics extractor with presettings\n",
    "  :return: NONE (Pickle file will be saved in drive)\n",
    "  \"\"\"\n",
    "\n",
    "  paths_folder = paths[f,tt,mag] #Paths of the first folder (There are 40)\n",
    "  n = len(paths_folder) #number of images (samples)\n",
    "  feature_matrix = np.zeros((n,num_features),dtype=np.float32) #Shape of feature matrix set\n",
    "\n",
    "  #Extraction of features\n",
    "  for i in tqdm(range(n)):\n",
    "    img_path = paths_folder[i] #Image from which features are extracted\n",
    "    ft_v = GLCM_feature_im(img_path, extractor, num_features) #Returns feature vector of m-dimension\n",
    "    feature_matrix[i,:] = ft_v\n",
    "  #Saving document\n",
    "  file_name = f'/content/drive/MyDrive/Ars_machinae_autodiscentis/Inceptum/fold{f+1}/{tt_dict[tt]}/GLCM_f{f+1}_{tt_dict[tt]}_{mag_dict[mag]}x_fv.p'\n",
    "  with open(file_name, 'wb') as handle:\n",
    "      pickle.dump(feature_matrix, handle, protocol=pickle.HIGHEST_PROTOCOL)"
   ]
  }
 ],
 "metadata": {
  "kernelspec": {
   "display_name": "Python 3.9.12 ('base')",
   "language": "python",
   "name": "python3"
  },
  "language_info": {
   "codemirror_mode": {
    "name": "ipython",
    "version": 3
   },
   "file_extension": ".py",
   "mimetype": "text/x-python",
   "name": "python",
   "nbconvert_exporter": "python",
   "pygments_lexer": "ipython3",
   "version": "3.9.12"
  },
  "orig_nbformat": 4,
  "vscode": {
   "interpreter": {
    "hash": "1c1f01218bbaf8a302f18173488403fcc9591627716b9a07a59bd925307e4c23"
   }
  }
 },
 "nbformat": 4,
 "nbformat_minor": 2
}
